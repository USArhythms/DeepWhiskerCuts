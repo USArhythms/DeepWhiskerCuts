{
 "cells": [
  {
   "cell_type": "code",
   "execution_count": 1,
   "metadata": {},
   "outputs": [
    {
     "name": "stdout",
     "output_type": "stream",
     "text": [
      "ar41motor\n",
      "2022_07_29: need dlc output\n",
      "2022_07_28: need dlc output\n",
      "ar37motor\n",
      "2022_07_27: need dlc output\n",
      "2022_07_27_ 160702: need full resolution video\n",
      "Ar32MotorEye\n",
      "2022_01_19_ 181802: need full resolution video\n",
      "AR34MOTOR\n",
      "2022_01_24_ 201217: need full resolution video\n",
      "2022_01_19_ 181348: need full resolution video\n",
      "2022_01_27: need dlc output\n",
      "2022_02_18: need dlc output\n",
      "2022_01_18_ 212205: need full resolution video\n",
      "2022_01_20_ 193624: need full resolution video\n",
      "2022_02_03: need dlc output\n",
      "2022_02_04: need dlc output\n",
      "2022_01_20_ 193109: need full resolution video\n",
      "2022_01_24_ 200413: need full resolution video\n",
      "AR30MOTOR\n",
      "2022_04_21: need dlc output\n",
      "2022_01_24_ 175812: need full resolution video\n",
      "2022_02_18: need dlc output\n",
      "ar38motor\n",
      "2022_02_08: need dlc output\n",
      "2022_02_16: need dlc output\n",
      "2022_04_21: need dlc output\n",
      "ar42licking\n",
      "2022_08_29: need eye video\n",
      "ar42motor\n",
      "2022_11_04: need dlc output\n",
      "Ar35MotorEye\n",
      "2022_01_18_ 202043: need full resolution video\n",
      "2022_01_18_ 201047: need full resolution video\n",
      "2022_01_20_ 204938: need full resolution video\n"
     ]
    }
   ],
   "source": [
    "import os\n",
    "from ProgressManager import ProgressManager,AnimalManager\n",
    "root_dir = '/net/dk-server/afassihizakeri/rightsidemovies/'\n",
    "dir = '/net/dk-server/afassihizakeri/rightsidemovies/ar38motor/2022_02_08'\n",
    "manager = ProgressManager(root_dir,'side')\n",
    "manager.print_project_brief()"
   ]
  },
  {
   "cell_type": "code",
   "execution_count": 2,
   "metadata": {},
   "outputs": [],
   "source": [
    "dir = '/net/dk-server/afassihizakeri/rightsidemovies/ar38motor'\n",
    "animal = AnimalManager(dir,'side')"
   ]
  },
  {
   "cell_type": "code",
   "execution_count": 9,
   "metadata": {},
   "outputs": [],
   "source": [
    "report = animal.get_unfinished_tasks()"
   ]
  },
  {
   "cell_type": "code",
   "execution_count": 141,
   "metadata": {},
   "outputs": [],
   "source": [
    "import copy\n",
    "task = []\n",
    "names = [[] for _ in range(len(report))]\n",
    "values = [report]*len(report)\n",
    "keys = list(report.keys())\n",
    "tasks = []\n",
    "while len(keys)>0:\n",
    "    key = keys.pop()\n",
    "    element = values.pop()\n",
    "    name = names.pop()\n",
    "    if isinstance(element[key],list):\n",
    "        name.append(key)\n",
    "        tasks.append(name)\n",
    "    else:\n",
    "        name.append(key.name)\n",
    "        for i in element[key].keys():\n",
    "            keys.append(i)\n",
    "            values.append(element[key])\n",
    "            names.append(copy.copy(name))\n",
    "task_dir = [os.path.join(animal.dir,f'{os.path.sep}'.join(i)) for i in tasks]"
   ]
  },
  {
   "cell_type": "code",
   "execution_count": 143,
   "metadata": {},
   "outputs": [
    {
     "data": {
      "text/plain": [
       "'/net/dk-server/afassihizakeri/rightsidemovies/ar38motor/2022_04_21/45'"
      ]
     },
     "execution_count": 143,
     "metadata": {},
     "output_type": "execute_result"
    }
   ],
   "source": [
    "task_dir[1]"
   ]
  }
 ],
 "metadata": {
  "kernelspec": {
   "display_name": "Python 3.8.10 64-bit",
   "language": "python",
   "name": "python3"
  },
  "language_info": {
   "codemirror_mode": {
    "name": "ipython",
    "version": 3
   },
   "file_extension": ".py",
   "mimetype": "text/x-python",
   "name": "python",
   "nbconvert_exporter": "python",
   "pygments_lexer": "ipython3",
   "version": "3.8.10"
  },
  "orig_nbformat": 4,
  "vscode": {
   "interpreter": {
    "hash": "916dbcbb3f70747c44a77c7bcd40155683ae19c65e1c03b4aa3499c5328201f1"
   }
  }
 },
 "nbformat": 4,
 "nbformat_minor": 2
}
