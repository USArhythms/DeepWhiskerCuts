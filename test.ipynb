{
 "cells": [
  {
   "cell_type": "code",
   "execution_count": 1,
   "metadata": {},
   "outputs": [
    {
     "name": "stderr",
     "output_type": "stream",
     "text": [
      "c:\\Users\\dklab\\miniconda3\\envs\\DEEPLABCUT\\lib\\site-packages\\numpy\\_distributor_init.py:30: UserWarning: loaded more than 1 DLL from .libs:\n",
      "c:\\Users\\dklab\\miniconda3\\envs\\DEEPLABCUT\\lib\\site-packages\\numpy\\.libs\\libopenblas.GK7GX5KEQ4F6UYO3P26ULGBQYHGQO7J4.gfortran-win_amd64.dll\n",
      "c:\\Users\\dklab\\miniconda3\\envs\\DEEPLABCUT\\lib\\site-packages\\numpy\\.libs\\libopenblas.WCDJNK7YVMPZQ2ME2ZZHJJRJ3JIKNDB7.gfortran-win_amd64.dll\n",
      "  warnings.warn(\"loaded more than 1 DLL from .libs:\"\n"
     ]
    }
   ],
   "source": [
    "import os\n",
    "from ProgressManager import ExperimentManager\n",
    "import numpy as np\n",
    "from MovieTools import make_movie_and_stimulus_file,analyze_side_view_video,extract_eye_videos\n"
   ]
  },
  {
   "cell_type": "code",
   "execution_count": 2,
   "metadata": {},
   "outputs": [
    {
     "name": "stderr",
     "output_type": "stream",
     "text": [
      "processing videos: 100%|██████████| 196/196 [00:00<00:00, 535.49it/s]\n",
      "processing videos:  46%|████▌     | 90/196 [06:23<07:29,  4.24s/it]"
     ]
    }
   ],
   "source": [
    "dir = r'C:\\sidevideos\\ar37motor\\2023_02_22'\n",
    "make_movie_and_stimulus_file(dir,parallel=False,ncores = 4)\n",
    "manager = ExperimentManager(dir,mode = 'side')\n",
    "manager.copy_full_resolution_videos(r'\\\\dk-server.dk.ucsd.edu\\afassihizakeri\\eyemovies\\Rightcam2')"
   ]
  },
  {
   "cell_type": "code",
   "execution_count": null,
   "metadata": {},
   "outputs": [],
   "source": [
    "analyze_side_view_video(dir)\n",
    "extract_eye_videos(dir,'')"
   ]
  }
 ],
 "metadata": {
  "kernelspec": {
   "display_name": "Python 3.8.13 ('DEEPLABCUT')",
   "language": "python",
   "name": "python3"
  },
  "language_info": {
   "codemirror_mode": {
    "name": "ipython",
    "version": 3
   },
   "file_extension": ".py",
   "mimetype": "text/x-python",
   "name": "python",
   "nbconvert_exporter": "python",
   "pygments_lexer": "ipython3",
   "version": "3.8.13"
  },
  "orig_nbformat": 4,
  "vscode": {
   "interpreter": {
    "hash": "1cd4db8194cf9c99159e3f5770dbaeb2f3754a119aa331ee2d0b6b0362daf823"
   }
  }
 },
 "nbformat": 4,
 "nbformat_minor": 2
}
