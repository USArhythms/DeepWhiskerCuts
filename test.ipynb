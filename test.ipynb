{
 "cells": [
  {
   "cell_type": "code",
   "execution_count": 1,
   "metadata": {},
   "outputs": [
    {
     "name": "stderr",
     "output_type": "stream",
     "text": [
      "c:\\Users\\dklab\\anaconda3\\envs\\DEEPLABCUT\\lib\\site-packages\\statsmodels\\compat\\pandas.py:65: FutureWarning: pandas.Int64Index is deprecated and will be removed from pandas in a future version. Use pandas.Index with the appropriate dtype instead.\n",
      "  from pandas import Int64Index as NumericIndex\n"
     ]
    }
   ],
   "source": [
    "import os\n",
    "from ProgressManager import ExperimentManager\n",
    "import numpy as np\n",
    "from MovieTools import make_movie_and_stimulus_file\n",
    "from pipeline import analyze_side_view_video,extract_eye_videos"
   ]
  },
  {
   "cell_type": "code",
   "execution_count": 7,
   "metadata": {},
   "outputs": [
    {
     "name": "stderr",
     "output_type": "stream",
     "text": [
      "processing videos: 100%|██████████| 196/196 [00:00<00:00, 652.89it/s]\n",
      "processing videos: 100%|██████████| 196/196 [17:09<00:00,  5.25s/it]\n"
     ]
    },
    {
     "name": "stdout",
     "output_type": "stream",
     "text": [
      "['0', '1', '10', '100', '101', '102', '103', '104', '105', '106', '107', '108', '109', '11', '110', '111', '112', '113', '114', '115', '116', '117', '118', '119', '12', '120', '121', '122', '123', '124', '125', '126', '127', '128', '129', '13', '130', '131', '132', '133', '134', '135', '136', '137', '138', '139', '14', '140', '141', '142', '143', '144', '145', '146', '147', '148', '149', '15', '150', '151', '152', '153', '154', '155', '156', '157', '158', '159', '16', '160', '161', '162', '163', '164', '165', '166', '167', '168', '169', '17', '170', '171', '172', '173', '174', '175', '176', '177', '178', '179', '18', '180', '181', '182', '183', '184', '185', '186', '187', '188', '189', '19', '190', '191', '192', '193', '194', '195', '2', '20', '21', '22', '23', '24', '25', '26', '27', '28', '29', '3', '30', '31', '32', '33', '34', '35', '36', '37', '38', '39', '4', '40', '41', '42', '43', '44', '45', '46', '47', '48', '49', '5', '50', '51', '52', '53', '54', '55', '56', '57', '58', '59', '6', '60', '61', '62', '63', '64', '65', '66', '67', '68', '69', '7', '70', '71', '72', '73', '74', '75', '76', '77', '78', '79', '8', '80', '81', '82', '83', '84', '85', '86', '87', '88', '89', '9', '90', '91', '92', '93', '94', '95', '96', '97', '98', '99']\n"
     ]
    }
   ],
   "source": [
    "dir = r'D:\\Sidevideos\\ar37motor\\2023_02_22'\n",
    "make_movie_and_stimulus_file(dir,parallel=False,ncores = 6)\n",
    "manager = ExperimentManager(dir,mode = 'side')\n",
    "manager.copy_full_resolution_videos(r'\\\\dk-server.dk.ucsd.edu\\afassihizakeri\\eyemovies\\Rightcam1')\n"
   ]
  },
  {
   "cell_type": "code",
   "execution_count": 2,
   "metadata": {},
   "outputs": [
    {
     "name": "stderr",
     "output_type": "stream",
     "text": [
      "processing videos:   0%|          | 0/195 [00:00<?, ?it/s]"
     ]
    },
    {
     "name": "stdout",
     "output_type": "stream",
     "text": [
      "Using snapshot-500000 for model D:\\DLC\\SideviewLeft_Feb2022-Arash-2022-02-08\\dlc-models\\iteration-0\\SideviewLeft_Feb2022Feb8-trainset95shuffle2\n"
     ]
    },
    {
     "name": "stderr",
     "output_type": "stream",
     "text": [
      "c:\\Users\\dklab\\anaconda3\\envs\\DEEPLABCUT\\lib\\site-packages\\tensorflow\\python\\keras\\engine\\base_layer_v1.py:1694: UserWarning: `layer.apply` is deprecated and will be removed in a future version. Please use `layer.__call__` method instead.\n",
      "  warnings.warn('`layer.apply` is deprecated and '\n"
     ]
    },
    {
     "name": "stdout",
     "output_type": "stream",
     "text": [
      "Starting to analyze %  D:\\Sidevideos\\ar37motor\\2023_02_22\\0.avi\n",
      "Loading  D:\\Sidevideos\\ar37motor\\2023_02_22\\0.avi\n",
      "Duration of video [s]:  7.5 , recorded with  40.0 fps!\n",
      "Overall # of frames:  300  found with (before cropping) frame dimensions:  800 480\n",
      "Starting to extract posture\n"
     ]
    },
    {
     "name": "stderr",
     "output_type": "stream",
     "text": [
      "310it [00:55,  5.57it/s]\n"
     ]
    },
    {
     "name": "stdout",
     "output_type": "stream",
     "text": [
      "Saving results in D:\\Sidevideos\\ar37motor\\2023_02_22...\n",
      "Saving csv poses!\n",
      "The videos are analyzed. Now your research can truly start! \n",
      " You can create labeled videos with 'create_labeled_video'\n",
      "If the tracking is not satisfactory for some videos, consider expanding the training set. You can use the function 'extract_outlier_frames' to extract a few representative outlier frames.\n",
      "Filtering with median model D:\\Sidevideos\\ar37motor\\2023_02_22\\0.avi\n"
     ]
    },
    {
     "name": "stderr",
     "output_type": "stream",
     "text": [
      "processing videos:   1%|          | 1/195 [01:17<4:09:17, 77.10s/it]"
     ]
    },
    {
     "name": "stdout",
     "output_type": "stream",
     "text": [
      "Saving filtered csv poses!\n",
      "Using snapshot-500000 for model D:\\DLC\\SideviewLeft_Feb2022-Arash-2022-02-08\\dlc-models\\iteration-0\\SideviewLeft_Feb2022Feb8-trainset95shuffle2\n"
     ]
    },
    {
     "name": "stderr",
     "output_type": "stream",
     "text": [
      "c:\\Users\\dklab\\anaconda3\\envs\\DEEPLABCUT\\lib\\site-packages\\tensorflow\\python\\keras\\engine\\base_layer_v1.py:1694: UserWarning: `layer.apply` is deprecated and will be removed in a future version. Please use `layer.__call__` method instead.\n",
      "  warnings.warn('`layer.apply` is deprecated and '\n"
     ]
    },
    {
     "name": "stdout",
     "output_type": "stream",
     "text": [
      "Starting to analyze %  D:\\Sidevideos\\ar37motor\\2023_02_22\\1.avi\n",
      "Loading  D:\\Sidevideos\\ar37motor\\2023_02_22\\1.avi\n",
      "Duration of video [s]:  7.5 , recorded with  40.0 fps!\n",
      "Overall # of frames:  300  found with (before cropping) frame dimensions:  800 480\n",
      "Starting to extract posture\n"
     ]
    },
    {
     "name": "stderr",
     "output_type": "stream",
     "text": [
      "310it [00:16, 18.86it/s]\n",
      "processing videos:   1%|          | 2/195 [01:40<2:25:57, 45.37s/it]"
     ]
    },
    {
     "name": "stdout",
     "output_type": "stream",
     "text": [
      "Saving results in D:\\Sidevideos\\ar37motor\\2023_02_22...\n",
      "Saving csv poses!\n",
      "The videos are analyzed. Now your research can truly start! \n",
      " You can create labeled videos with 'create_labeled_video'\n",
      "If the tracking is not satisfactory for some videos, consider expanding the training set. You can use the function 'extract_outlier_frames' to extract a few representative outlier frames.\n",
      "Filtering with median model D:\\Sidevideos\\ar37motor\\2023_02_22\\1.avi\n",
      "Saving filtered csv poses!\n",
      "Using snapshot-500000 for model D:\\DLC\\SideviewLeft_Feb2022-Arash-2022-02-08\\dlc-models\\iteration-0\\SideviewLeft_Feb2022Feb8-trainset95shuffle2\n"
     ]
    },
    {
     "name": "stderr",
     "output_type": "stream",
     "text": [
      "c:\\Users\\dklab\\anaconda3\\envs\\DEEPLABCUT\\lib\\site-packages\\tensorflow\\python\\keras\\engine\\base_layer_v1.py:1694: UserWarning: `layer.apply` is deprecated and will be removed in a future version. Please use `layer.__call__` method instead.\n",
      "  warnings.warn('`layer.apply` is deprecated and '\n"
     ]
    },
    {
     "name": "stdout",
     "output_type": "stream",
     "text": [
      "Starting to analyze %  D:\\Sidevideos\\ar37motor\\2023_02_22\\10.avi\n",
      "Loading  D:\\Sidevideos\\ar37motor\\2023_02_22\\10.avi\n",
      "Duration of video [s]:  7.5 , recorded with  40.0 fps!\n",
      "Overall # of frames:  300  found with (before cropping) frame dimensions:  800 480\n",
      "Starting to extract posture\n"
     ]
    },
    {
     "name": "stderr",
     "output_type": "stream",
     "text": [
      "310it [00:16, 18.65it/s]\n",
      "processing videos:   2%|▏         | 3/195 [02:01<1:49:40, 34.28s/it]"
     ]
    },
    {
     "name": "stdout",
     "output_type": "stream",
     "text": [
      "Saving results in D:\\Sidevideos\\ar37motor\\2023_02_22...\n",
      "Saving csv poses!\n",
      "The videos are analyzed. Now your research can truly start! \n",
      " You can create labeled videos with 'create_labeled_video'\n",
      "If the tracking is not satisfactory for some videos, consider expanding the training set. You can use the function 'extract_outlier_frames' to extract a few representative outlier frames.\n",
      "Filtering with median model D:\\Sidevideos\\ar37motor\\2023_02_22\\10.avi\n",
      "Saving filtered csv poses!\n",
      "Using snapshot-500000 for model D:\\DLC\\SideviewLeft_Feb2022-Arash-2022-02-08\\dlc-models\\iteration-0\\SideviewLeft_Feb2022Feb8-trainset95shuffle2\n"
     ]
    },
    {
     "name": "stderr",
     "output_type": "stream",
     "text": [
      "c:\\Users\\dklab\\anaconda3\\envs\\DEEPLABCUT\\lib\\site-packages\\tensorflow\\python\\keras\\engine\\base_layer_v1.py:1694: UserWarning: `layer.apply` is deprecated and will be removed in a future version. Please use `layer.__call__` method instead.\n",
      "  warnings.warn('`layer.apply` is deprecated and '\n"
     ]
    },
    {
     "name": "stdout",
     "output_type": "stream",
     "text": [
      "Starting to analyze %  D:\\Sidevideos\\ar37motor\\2023_02_22\\100.avi\n",
      "Loading  D:\\Sidevideos\\ar37motor\\2023_02_22\\100.avi\n",
      "Duration of video [s]:  7.5 , recorded with  40.0 fps!\n",
      "Overall # of frames:  300  found with (before cropping) frame dimensions:  800 480\n",
      "Starting to extract posture\n"
     ]
    },
    {
     "name": "stderr",
     "output_type": "stream",
     "text": [
      "310it [00:16, 18.72it/s]\n",
      "processing videos:   2%|▏         | 4/195 [02:22<1:32:06, 28.93s/it]"
     ]
    },
    {
     "name": "stdout",
     "output_type": "stream",
     "text": [
      "Saving results in D:\\Sidevideos\\ar37motor\\2023_02_22...\n",
      "Saving csv poses!\n",
      "The videos are analyzed. Now your research can truly start! \n",
      " You can create labeled videos with 'create_labeled_video'\n",
      "If the tracking is not satisfactory for some videos, consider expanding the training set. You can use the function 'extract_outlier_frames' to extract a few representative outlier frames.\n",
      "Filtering with median model D:\\Sidevideos\\ar37motor\\2023_02_22\\100.avi\n",
      "Saving filtered csv poses!\n"
     ]
    },
    {
     "name": "stderr",
     "output_type": "stream",
     "text": [
      "c:\\Users\\dklab\\anaconda3\\envs\\DEEPLABCUT\\lib\\site-packages\\tensorflow\\python\\keras\\engine\\base_layer_v1.py:1694: UserWarning: `layer.apply` is deprecated and will be removed in a future version. Please use `layer.__call__` method instead.\n",
      "  warnings.warn('`layer.apply` is deprecated and '\n"
     ]
    },
    {
     "name": "stdout",
     "output_type": "stream",
     "text": [
      "Using snapshot-500000 for model D:\\DLC\\SideviewLeft_Feb2022-Arash-2022-02-08\\dlc-models\\iteration-0\\SideviewLeft_Feb2022Feb8-trainset95shuffle2\n",
      "Starting to analyze %  D:\\Sidevideos\\ar37motor\\2023_02_22\\101.avi\n",
      "Loading  D:\\Sidevideos\\ar37motor\\2023_02_22\\101.avi\n",
      "Duration of video [s]:  7.5 , recorded with  40.0 fps!\n",
      "Overall # of frames:  300  found with (before cropping) frame dimensions:  800 480\n",
      "Starting to extract posture\n"
     ]
    },
    {
     "name": "stderr",
     "output_type": "stream",
     "text": [
      "310it [00:16, 18.58it/s]\n",
      "processing videos:   3%|▎         | 5/195 [02:43<1:22:50, 26.16s/it]"
     ]
    },
    {
     "name": "stdout",
     "output_type": "stream",
     "text": [
      "Saving results in D:\\Sidevideos\\ar37motor\\2023_02_22...\n",
      "Saving csv poses!\n",
      "The videos are analyzed. Now your research can truly start! \n",
      " You can create labeled videos with 'create_labeled_video'\n",
      "If the tracking is not satisfactory for some videos, consider expanding the training set. You can use the function 'extract_outlier_frames' to extract a few representative outlier frames.\n",
      "Filtering with median model D:\\Sidevideos\\ar37motor\\2023_02_22\\101.avi\n",
      "Saving filtered csv poses!\n",
      "Using snapshot-500000 for model D:\\DLC\\SideviewLeft_Feb2022-Arash-2022-02-08\\dlc-models\\iteration-0\\SideviewLeft_Feb2022Feb8-trainset95shuffle2\n"
     ]
    },
    {
     "name": "stderr",
     "output_type": "stream",
     "text": [
      "c:\\Users\\dklab\\anaconda3\\envs\\DEEPLABCUT\\lib\\site-packages\\tensorflow\\python\\keras\\engine\\base_layer_v1.py:1694: UserWarning: `layer.apply` is deprecated and will be removed in a future version. Please use `layer.__call__` method instead.\n",
      "  warnings.warn('`layer.apply` is deprecated and '\n"
     ]
    },
    {
     "name": "stdout",
     "output_type": "stream",
     "text": [
      "Starting to analyze %  D:\\Sidevideos\\ar37motor\\2023_02_22\\102.avi\n",
      "Loading  D:\\Sidevideos\\ar37motor\\2023_02_22\\102.avi\n",
      "Duration of video [s]:  7.5 , recorded with  40.0 fps!\n",
      "Overall # of frames:  300  found with (before cropping) frame dimensions:  800 480\n",
      "Starting to extract posture\n"
     ]
    },
    {
     "name": "stderr",
     "output_type": "stream",
     "text": [
      "310it [00:16, 19.01it/s]\n",
      "processing videos:   3%|▎         | 6/195 [03:03<1:16:19, 24.23s/it]"
     ]
    },
    {
     "name": "stdout",
     "output_type": "stream",
     "text": [
      "Saving results in D:\\Sidevideos\\ar37motor\\2023_02_22...\n",
      "Saving csv poses!\n",
      "The videos are analyzed. Now your research can truly start! \n",
      " You can create labeled videos with 'create_labeled_video'\n",
      "If the tracking is not satisfactory for some videos, consider expanding the training set. You can use the function 'extract_outlier_frames' to extract a few representative outlier frames.\n",
      "Filtering with median model D:\\Sidevideos\\ar37motor\\2023_02_22\\102.avi\n",
      "Saving filtered csv poses!\n",
      "Using snapshot-500000 for model D:\\DLC\\SideviewLeft_Feb2022-Arash-2022-02-08\\dlc-models\\iteration-0\\SideviewLeft_Feb2022Feb8-trainset95shuffle2\n"
     ]
    },
    {
     "name": "stderr",
     "output_type": "stream",
     "text": [
      "c:\\Users\\dklab\\anaconda3\\envs\\DEEPLABCUT\\lib\\site-packages\\tensorflow\\python\\keras\\engine\\base_layer_v1.py:1694: UserWarning: `layer.apply` is deprecated and will be removed in a future version. Please use `layer.__call__` method instead.\n",
      "  warnings.warn('`layer.apply` is deprecated and '\n"
     ]
    },
    {
     "name": "stdout",
     "output_type": "stream",
     "text": [
      "Starting to analyze %  D:\\Sidevideos\\ar37motor\\2023_02_22\\103.avi\n",
      "Loading  D:\\Sidevideos\\ar37motor\\2023_02_22\\103.avi\n",
      "Duration of video [s]:  7.5 , recorded with  40.0 fps!\n",
      "Overall # of frames:  300  found with (before cropping) frame dimensions:  800 480\n",
      "Starting to extract posture\n"
     ]
    },
    {
     "name": "stderr",
     "output_type": "stream",
     "text": [
      "310it [00:16, 18.70it/s]\n"
     ]
    },
    {
     "name": "stdout",
     "output_type": "stream",
     "text": [
      "Saving results in D:\\Sidevideos\\ar37motor\\2023_02_22...\n",
      "Saving csv poses!\n",
      "The videos are analyzed. Now your research can truly start! \n",
      " You can create labeled videos with 'create_labeled_video'\n",
      "If the tracking is not satisfactory for some videos, consider expanding the training set. You can use the function 'extract_outlier_frames' to extract a few representative outlier frames.\n"
     ]
    },
    {
     "name": "stderr",
     "output_type": "stream",
     "text": [
      "processing videos:   4%|▎         | 7/195 [03:24<1:12:34, 23.16s/it]"
     ]
    },
    {
     "name": "stdout",
     "output_type": "stream",
     "text": [
      "Filtering with median model D:\\Sidevideos\\ar37motor\\2023_02_22\\103.avi\n",
      "Saving filtered csv poses!\n",
      "Using snapshot-500000 for model D:\\DLC\\SideviewLeft_Feb2022-Arash-2022-02-08\\dlc-models\\iteration-0\\SideviewLeft_Feb2022Feb8-trainset95shuffle2\n"
     ]
    },
    {
     "name": "stderr",
     "output_type": "stream",
     "text": [
      "c:\\Users\\dklab\\anaconda3\\envs\\DEEPLABCUT\\lib\\site-packages\\tensorflow\\python\\keras\\engine\\base_layer_v1.py:1694: UserWarning: `layer.apply` is deprecated and will be removed in a future version. Please use `layer.__call__` method instead.\n",
      "  warnings.warn('`layer.apply` is deprecated and '\n"
     ]
    },
    {
     "name": "stdout",
     "output_type": "stream",
     "text": [
      "Starting to analyze %  D:\\Sidevideos\\ar37motor\\2023_02_22\\104.avi\n",
      "Loading  D:\\Sidevideos\\ar37motor\\2023_02_22\\104.avi\n",
      "Duration of video [s]:  7.5 , recorded with  40.0 fps!\n",
      "Overall # of frames:  300  found with (before cropping) frame dimensions:  800 480\n",
      "Starting to extract posture\n"
     ]
    },
    {
     "name": "stderr",
     "output_type": "stream",
     "text": [
      "310it [00:16, 18.51it/s]\n"
     ]
    },
    {
     "name": "stdout",
     "output_type": "stream",
     "text": [
      "Saving results in D:\\Sidevideos\\ar37motor\\2023_02_22...\n",
      "Saving csv poses!\n",
      "The videos are analyzed. Now your research can truly start! \n",
      " You can create labeled videos with 'create_labeled_video'\n",
      "If the tracking is not satisfactory for some videos, consider expanding the training set. You can use the function 'extract_outlier_frames' to extract a few representative outlier frames.\n",
      "Filtering with median model D:\\Sidevideos\\ar37motor\\2023_02_22\\104.avi\n",
      "Saving filtered csv poses!\n"
     ]
    },
    {
     "name": "stderr",
     "output_type": "stream",
     "text": [
      "processing videos:   4%|▍         | 8/195 [03:45<1:10:09, 22.51s/it]c:\\Users\\dklab\\anaconda3\\envs\\DEEPLABCUT\\lib\\site-packages\\tensorflow\\python\\keras\\engine\\base_layer_v1.py:1694: UserWarning: `layer.apply` is deprecated and will be removed in a future version. Please use `layer.__call__` method instead.\n",
      "  warnings.warn('`layer.apply` is deprecated and '\n"
     ]
    },
    {
     "name": "stdout",
     "output_type": "stream",
     "text": [
      "Using snapshot-500000 for model D:\\DLC\\SideviewLeft_Feb2022-Arash-2022-02-08\\dlc-models\\iteration-0\\SideviewLeft_Feb2022Feb8-trainset95shuffle2\n",
      "Starting to analyze %  D:\\Sidevideos\\ar37motor\\2023_02_22\\105.avi\n",
      "Loading  D:\\Sidevideos\\ar37motor\\2023_02_22\\105.avi\n",
      "Duration of video [s]:  7.5 , recorded with  40.0 fps!\n",
      "Overall # of frames:  300  found with (before cropping) frame dimensions:  800 480\n",
      "Starting to extract posture\n"
     ]
    },
    {
     "name": "stderr",
     "output_type": "stream",
     "text": [
      "310it [00:16, 19.18it/s]\n"
     ]
    },
    {
     "name": "stdout",
     "output_type": "stream",
     "text": [
      "Saving results in D:\\Sidevideos\\ar37motor\\2023_02_22...\n",
      "Saving csv poses!\n",
      "The videos are analyzed. Now your research can truly start! \n",
      " You can create labeled videos with 'create_labeled_video'\n",
      "If the tracking is not satisfactory for some videos, consider expanding the training set. You can use the function 'extract_outlier_frames' to extract a few representative outlier frames.\n",
      "Filtering with median model D:\\Sidevideos\\ar37motor\\2023_02_22\\105.avi\n",
      "Saving filtered csv poses!\n"
     ]
    },
    {
     "name": "stderr",
     "output_type": "stream",
     "text": [
      "processing videos:   5%|▍         | 9/195 [04:06<1:08:01, 21.94s/it]c:\\Users\\dklab\\anaconda3\\envs\\DEEPLABCUT\\lib\\site-packages\\tensorflow\\python\\keras\\engine\\base_layer_v1.py:1694: UserWarning: `layer.apply` is deprecated and will be removed in a future version. Please use `layer.__call__` method instead.\n",
      "  warnings.warn('`layer.apply` is deprecated and '\n"
     ]
    },
    {
     "name": "stdout",
     "output_type": "stream",
     "text": [
      "Using snapshot-500000 for model D:\\DLC\\SideviewLeft_Feb2022-Arash-2022-02-08\\dlc-models\\iteration-0\\SideviewLeft_Feb2022Feb8-trainset95shuffle2\n",
      "Starting to analyze %  D:\\Sidevideos\\ar37motor\\2023_02_22\\106.avi\n",
      "Loading  D:\\Sidevideos\\ar37motor\\2023_02_22\\106.avi\n",
      "Duration of video [s]:  7.5 , recorded with  40.0 fps!\n",
      "Overall # of frames:  300  found with (before cropping) frame dimensions:  800 480\n",
      "Starting to extract posture\n"
     ]
    },
    {
     "name": "stderr",
     "output_type": "stream",
     "text": [
      "310it [00:16, 18.52it/s]\n",
      "processing videos:   5%|▌         | 10/195 [04:27<1:06:36, 21.60s/it]"
     ]
    },
    {
     "name": "stdout",
     "output_type": "stream",
     "text": [
      "Saving results in D:\\Sidevideos\\ar37motor\\2023_02_22...\n",
      "Saving csv poses!\n",
      "The videos are analyzed. Now your research can truly start! \n",
      " You can create labeled videos with 'create_labeled_video'\n",
      "If the tracking is not satisfactory for some videos, consider expanding the training set. You can use the function 'extract_outlier_frames' to extract a few representative outlier frames.\n",
      "Filtering with median model D:\\Sidevideos\\ar37motor\\2023_02_22\\106.avi\n",
      "Saving filtered csv poses!\n",
      "Using snapshot-500000 for model D:\\DLC\\SideviewLeft_Feb2022-Arash-2022-02-08\\dlc-models\\iteration-0\\SideviewLeft_Feb2022Feb8-trainset95shuffle2\n"
     ]
    },
    {
     "name": "stderr",
     "output_type": "stream",
     "text": [
      "c:\\Users\\dklab\\anaconda3\\envs\\DEEPLABCUT\\lib\\site-packages\\tensorflow\\python\\keras\\engine\\base_layer_v1.py:1694: UserWarning: `layer.apply` is deprecated and will be removed in a future version. Please use `layer.__call__` method instead.\n",
      "  warnings.warn('`layer.apply` is deprecated and '\n"
     ]
    },
    {
     "name": "stdout",
     "output_type": "stream",
     "text": [
      "Starting to analyze %  D:\\Sidevideos\\ar37motor\\2023_02_22\\107.avi\n",
      "Loading  D:\\Sidevideos\\ar37motor\\2023_02_22\\107.avi\n",
      "Duration of video [s]:  7.5 , recorded with  40.0 fps!\n",
      "Overall # of frames:  300  found with (before cropping) frame dimensions:  800 480\n",
      "Starting to extract posture\n"
     ]
    },
    {
     "name": "stderr",
     "output_type": "stream",
     "text": [
      "310it [00:16, 19.14it/s]\n",
      "processing videos:   6%|▌         | 11/195 [04:47<1:05:15, 21.28s/it]"
     ]
    },
    {
     "name": "stdout",
     "output_type": "stream",
     "text": [
      "Saving results in D:\\Sidevideos\\ar37motor\\2023_02_22...\n",
      "Saving csv poses!\n",
      "The videos are analyzed. Now your research can truly start! \n",
      " You can create labeled videos with 'create_labeled_video'\n",
      "If the tracking is not satisfactory for some videos, consider expanding the training set. You can use the function 'extract_outlier_frames' to extract a few representative outlier frames.\n",
      "Filtering with median model D:\\Sidevideos\\ar37motor\\2023_02_22\\107.avi\n",
      "Saving filtered csv poses!\n",
      "Using snapshot-500000 for model D:\\DLC\\SideviewLeft_Feb2022-Arash-2022-02-08\\dlc-models\\iteration-0\\SideviewLeft_Feb2022Feb8-trainset95shuffle2\n"
     ]
    },
    {
     "name": "stderr",
     "output_type": "stream",
     "text": [
      "c:\\Users\\dklab\\anaconda3\\envs\\DEEPLABCUT\\lib\\site-packages\\tensorflow\\python\\keras\\engine\\base_layer_v1.py:1694: UserWarning: `layer.apply` is deprecated and will be removed in a future version. Please use `layer.__call__` method instead.\n",
      "  warnings.warn('`layer.apply` is deprecated and '\n"
     ]
    },
    {
     "name": "stdout",
     "output_type": "stream",
     "text": [
      "Starting to analyze %  D:\\Sidevideos\\ar37motor\\2023_02_22\\108.avi\n",
      "Loading  D:\\Sidevideos\\ar37motor\\2023_02_22\\108.avi\n",
      "Duration of video [s]:  7.5 , recorded with  40.0 fps!\n",
      "Overall # of frames:  300  found with (before cropping) frame dimensions:  800 480\n",
      "Starting to extract posture\n"
     ]
    },
    {
     "name": "stderr",
     "output_type": "stream",
     "text": [
      "310it [00:16, 18.35it/s]\n",
      "processing videos:   6%|▌         | 12/195 [05:09<1:04:52, 21.27s/it]"
     ]
    },
    {
     "name": "stdout",
     "output_type": "stream",
     "text": [
      "Saving results in D:\\Sidevideos\\ar37motor\\2023_02_22...\n",
      "Saving csv poses!\n",
      "The videos are analyzed. Now your research can truly start! \n",
      " You can create labeled videos with 'create_labeled_video'\n",
      "If the tracking is not satisfactory for some videos, consider expanding the training set. You can use the function 'extract_outlier_frames' to extract a few representative outlier frames.\n",
      "Filtering with median model D:\\Sidevideos\\ar37motor\\2023_02_22\\108.avi\n",
      "Saving filtered csv poses!\n",
      "Using snapshot-500000 for model D:\\DLC\\SideviewLeft_Feb2022-Arash-2022-02-08\\dlc-models\\iteration-0\\SideviewLeft_Feb2022Feb8-trainset95shuffle2\n"
     ]
    },
    {
     "name": "stderr",
     "output_type": "stream",
     "text": [
      "c:\\Users\\dklab\\anaconda3\\envs\\DEEPLABCUT\\lib\\site-packages\\tensorflow\\python\\keras\\engine\\base_layer_v1.py:1694: UserWarning: `layer.apply` is deprecated and will be removed in a future version. Please use `layer.__call__` method instead.\n",
      "  warnings.warn('`layer.apply` is deprecated and '\n"
     ]
    },
    {
     "name": "stdout",
     "output_type": "stream",
     "text": [
      "Starting to analyze %  D:\\Sidevideos\\ar37motor\\2023_02_22\\109.avi\n",
      "Loading  D:\\Sidevideos\\ar37motor\\2023_02_22\\109.avi\n",
      "Duration of video [s]:  7.5 , recorded with  40.0 fps!\n",
      "Overall # of frames:  300  found with (before cropping) frame dimensions:  800 480\n",
      "Starting to extract posture\n"
     ]
    },
    {
     "name": "stderr",
     "output_type": "stream",
     "text": [
      "310it [00:16, 18.80it/s]\n"
     ]
    },
    {
     "name": "stdout",
     "output_type": "stream",
     "text": [
      "Saving results in D:\\Sidevideos\\ar37motor\\2023_02_22...\n",
      "Saving csv poses!\n",
      "The videos are analyzed. Now your research can truly start! \n",
      " You can create labeled videos with 'create_labeled_video'\n",
      "If the tracking is not satisfactory for some videos, consider expanding the training set. You can use the function 'extract_outlier_frames' to extract a few representative outlier frames.\n",
      "Filtering with median model D:\\Sidevideos\\ar37motor\\2023_02_22\\109.avi\n"
     ]
    },
    {
     "name": "stderr",
     "output_type": "stream",
     "text": [
      "processing videos:   7%|▋         | 13/195 [05:29<1:04:00, 21.10s/it]"
     ]
    },
    {
     "name": "stdout",
     "output_type": "stream",
     "text": [
      "Saving filtered csv poses!\n",
      "Using snapshot-500000 for model D:\\DLC\\SideviewLeft_Feb2022-Arash-2022-02-08\\dlc-models\\iteration-0\\SideviewLeft_Feb2022Feb8-trainset95shuffle2\n"
     ]
    },
    {
     "name": "stderr",
     "output_type": "stream",
     "text": [
      "c:\\Users\\dklab\\anaconda3\\envs\\DEEPLABCUT\\lib\\site-packages\\tensorflow\\python\\keras\\engine\\base_layer_v1.py:1694: UserWarning: `layer.apply` is deprecated and will be removed in a future version. Please use `layer.__call__` method instead.\n",
      "  warnings.warn('`layer.apply` is deprecated and '\n"
     ]
    },
    {
     "name": "stdout",
     "output_type": "stream",
     "text": [
      "Starting to analyze %  D:\\Sidevideos\\ar37motor\\2023_02_22\\11.avi\n",
      "Loading  D:\\Sidevideos\\ar37motor\\2023_02_22\\11.avi\n",
      "Duration of video [s]:  7.5 , recorded with  40.0 fps!\n",
      "Overall # of frames:  300  found with (before cropping) frame dimensions:  800 480\n",
      "Starting to extract posture\n"
     ]
    },
    {
     "name": "stderr",
     "output_type": "stream",
     "text": [
      "310it [00:16, 19.11it/s]\n"
     ]
    },
    {
     "name": "stdout",
     "output_type": "stream",
     "text": [
      "Saving results in D:\\Sidevideos\\ar37motor\\2023_02_22...\n",
      "Saving csv poses!\n",
      "The videos are analyzed. Now your research can truly start! \n",
      " You can create labeled videos with 'create_labeled_video'\n",
      "If the tracking is not satisfactory for some videos, consider expanding the training set. You can use the function 'extract_outlier_frames' to extract a few representative outlier frames.\n",
      "Filtering with median model D:\\Sidevideos\\ar37motor\\2023_02_22\\11.avi\n"
     ]
    },
    {
     "name": "stderr",
     "output_type": "stream",
     "text": [
      "processing videos:   7%|▋         | 14/195 [05:50<1:03:12, 20.95s/it]"
     ]
    },
    {
     "name": "stdout",
     "output_type": "stream",
     "text": [
      "Saving filtered csv poses!\n",
      "Using snapshot-500000 for model D:\\DLC\\SideviewLeft_Feb2022-Arash-2022-02-08\\dlc-models\\iteration-0\\SideviewLeft_Feb2022Feb8-trainset95shuffle2\n"
     ]
    },
    {
     "name": "stderr",
     "output_type": "stream",
     "text": [
      "c:\\Users\\dklab\\anaconda3\\envs\\DEEPLABCUT\\lib\\site-packages\\tensorflow\\python\\keras\\engine\\base_layer_v1.py:1694: UserWarning: `layer.apply` is deprecated and will be removed in a future version. Please use `layer.__call__` method instead.\n",
      "  warnings.warn('`layer.apply` is deprecated and '\n"
     ]
    },
    {
     "name": "stdout",
     "output_type": "stream",
     "text": [
      "Starting to analyze %  D:\\Sidevideos\\ar37motor\\2023_02_22\\110.avi\n",
      "Loading  D:\\Sidevideos\\ar37motor\\2023_02_22\\110.avi\n",
      "Duration of video [s]:  7.5 , recorded with  40.0 fps!\n",
      "Overall # of frames:  300  found with (before cropping) frame dimensions:  800 480\n",
      "Starting to extract posture\n"
     ]
    },
    {
     "name": "stderr",
     "output_type": "stream",
     "text": [
      "310it [00:16, 18.81it/s]\n",
      "processing videos:   8%|▊         | 15/195 [06:11<1:02:57, 20.98s/it]"
     ]
    },
    {
     "name": "stdout",
     "output_type": "stream",
     "text": [
      "Saving results in D:\\Sidevideos\\ar37motor\\2023_02_22...\n",
      "Saving csv poses!\n",
      "The videos are analyzed. Now your research can truly start! \n",
      " You can create labeled videos with 'create_labeled_video'\n",
      "If the tracking is not satisfactory for some videos, consider expanding the training set. You can use the function 'extract_outlier_frames' to extract a few representative outlier frames.\n",
      "Filtering with median model D:\\Sidevideos\\ar37motor\\2023_02_22\\110.avi\n",
      "Saving filtered csv poses!\n",
      "Using snapshot-500000 for model D:\\DLC\\SideviewLeft_Feb2022-Arash-2022-02-08\\dlc-models\\iteration-0\\SideviewLeft_Feb2022Feb8-trainset95shuffle2\n"
     ]
    },
    {
     "name": "stderr",
     "output_type": "stream",
     "text": [
      "c:\\Users\\dklab\\anaconda3\\envs\\DEEPLABCUT\\lib\\site-packages\\tensorflow\\python\\keras\\engine\\base_layer_v1.py:1694: UserWarning: `layer.apply` is deprecated and will be removed in a future version. Please use `layer.__call__` method instead.\n",
      "  warnings.warn('`layer.apply` is deprecated and '\n"
     ]
    },
    {
     "name": "stdout",
     "output_type": "stream",
     "text": [
      "Starting to analyze %  D:\\Sidevideos\\ar37motor\\2023_02_22\\111.avi\n",
      "Loading  D:\\Sidevideos\\ar37motor\\2023_02_22\\111.avi\n",
      "Duration of video [s]:  7.5 , recorded with  40.0 fps!\n",
      "Overall # of frames:  300  found with (before cropping) frame dimensions:  800 480\n",
      "Starting to extract posture\n"
     ]
    },
    {
     "name": "stderr",
     "output_type": "stream",
     "text": [
      "310it [00:16, 18.74it/s]\n"
     ]
    },
    {
     "name": "stdout",
     "output_type": "stream",
     "text": [
      "Saving results in D:\\Sidevideos\\ar37motor\\2023_02_22...\n",
      "Saving csv poses!\n",
      "The videos are analyzed. Now your research can truly start! \n",
      " You can create labeled videos with 'create_labeled_video'\n",
      "If the tracking is not satisfactory for some videos, consider expanding the training set. You can use the function 'extract_outlier_frames' to extract a few representative outlier frames.\n",
      "Filtering with median model D:\\Sidevideos\\ar37motor\\2023_02_22\\111.avi\n",
      "Saving filtered csv poses!\n"
     ]
    },
    {
     "name": "stderr",
     "output_type": "stream",
     "text": [
      "processing videos:   8%|▊         | 16/195 [06:32<1:02:24, 20.92s/it]c:\\Users\\dklab\\anaconda3\\envs\\DEEPLABCUT\\lib\\site-packages\\tensorflow\\python\\keras\\engine\\base_layer_v1.py:1694: UserWarning: `layer.apply` is deprecated and will be removed in a future version. Please use `layer.__call__` method instead.\n",
      "  warnings.warn('`layer.apply` is deprecated and '\n"
     ]
    },
    {
     "name": "stdout",
     "output_type": "stream",
     "text": [
      "Using snapshot-500000 for model D:\\DLC\\SideviewLeft_Feb2022-Arash-2022-02-08\\dlc-models\\iteration-0\\SideviewLeft_Feb2022Feb8-trainset95shuffle2\n",
      "Starting to analyze %  D:\\Sidevideos\\ar37motor\\2023_02_22\\112.avi\n",
      "Loading  D:\\Sidevideos\\ar37motor\\2023_02_22\\112.avi\n",
      "Duration of video [s]:  7.5 , recorded with  40.0 fps!\n",
      "Overall # of frames:  300  found with (before cropping) frame dimensions:  800 480\n",
      "Starting to extract posture\n"
     ]
    },
    {
     "name": "stderr",
     "output_type": "stream",
     "text": [
      "310it [00:16, 18.79it/s]\n"
     ]
    },
    {
     "name": "stdout",
     "output_type": "stream",
     "text": [
      "Saving results in D:\\Sidevideos\\ar37motor\\2023_02_22...\n",
      "Saving csv poses!\n",
      "The videos are analyzed. Now your research can truly start! \n",
      " You can create labeled videos with 'create_labeled_video'\n",
      "If the tracking is not satisfactory for some videos, consider expanding the training set. You can use the function 'extract_outlier_frames' to extract a few representative outlier frames.\n",
      "Filtering with median model D:\\Sidevideos\\ar37motor\\2023_02_22\\112.avi\n",
      "Saving filtered csv poses!\n"
     ]
    },
    {
     "name": "stderr",
     "output_type": "stream",
     "text": [
      "processing videos:   9%|▊         | 17/195 [06:53<1:01:49, 20.84s/it]c:\\Users\\dklab\\anaconda3\\envs\\DEEPLABCUT\\lib\\site-packages\\tensorflow\\python\\keras\\engine\\base_layer_v1.py:1694: UserWarning: `layer.apply` is deprecated and will be removed in a future version. Please use `layer.__call__` method instead.\n",
      "  warnings.warn('`layer.apply` is deprecated and '\n"
     ]
    },
    {
     "name": "stdout",
     "output_type": "stream",
     "text": [
      "Using snapshot-500000 for model D:\\DLC\\SideviewLeft_Feb2022-Arash-2022-02-08\\dlc-models\\iteration-0\\SideviewLeft_Feb2022Feb8-trainset95shuffle2\n",
      "Starting to analyze %  D:\\Sidevideos\\ar37motor\\2023_02_22\\113.avi\n",
      "Loading  D:\\Sidevideos\\ar37motor\\2023_02_22\\113.avi\n",
      "Duration of video [s]:  7.5 , recorded with  40.0 fps!\n",
      "Overall # of frames:  300  found with (before cropping) frame dimensions:  800 480\n",
      "Starting to extract posture\n"
     ]
    },
    {
     "name": "stderr",
     "output_type": "stream",
     "text": [
      "310it [00:16, 18.79it/s]\n"
     ]
    },
    {
     "name": "stdout",
     "output_type": "stream",
     "text": [
      "Saving results in D:\\Sidevideos\\ar37motor\\2023_02_22...\n",
      "Saving csv poses!\n",
      "The videos are analyzed. Now your research can truly start! \n",
      " You can create labeled videos with 'create_labeled_video'\n",
      "If the tracking is not satisfactory for some videos, consider expanding the training set. You can use the function 'extract_outlier_frames' to extract a few representative outlier frames.\n",
      "Filtering with median model D:\\Sidevideos\\ar37motor\\2023_02_22\\113.avi\n"
     ]
    },
    {
     "name": "stderr",
     "output_type": "stream",
     "text": [
      "processing videos:   9%|▉         | 18/195 [07:13<1:01:30, 20.85s/it]"
     ]
    },
    {
     "name": "stdout",
     "output_type": "stream",
     "text": [
      "Saving filtered csv poses!\n",
      "Using snapshot-500000 for model D:\\DLC\\SideviewLeft_Feb2022-Arash-2022-02-08\\dlc-models\\iteration-0\\SideviewLeft_Feb2022Feb8-trainset95shuffle2\n"
     ]
    },
    {
     "name": "stderr",
     "output_type": "stream",
     "text": [
      "c:\\Users\\dklab\\anaconda3\\envs\\DEEPLABCUT\\lib\\site-packages\\tensorflow\\python\\keras\\engine\\base_layer_v1.py:1694: UserWarning: `layer.apply` is deprecated and will be removed in a future version. Please use `layer.__call__` method instead.\n",
      "  warnings.warn('`layer.apply` is deprecated and '\n"
     ]
    },
    {
     "name": "stdout",
     "output_type": "stream",
     "text": [
      "Starting to analyze %  D:\\Sidevideos\\ar37motor\\2023_02_22\\114.avi\n",
      "Loading  D:\\Sidevideos\\ar37motor\\2023_02_22\\114.avi\n",
      "Duration of video [s]:  7.5 , recorded with  40.0 fps!\n",
      "Overall # of frames:  300  found with (before cropping) frame dimensions:  800 480\n",
      "Starting to extract posture\n"
     ]
    },
    {
     "name": "stderr",
     "output_type": "stream",
     "text": [
      "310it [00:16, 18.88it/s]\n",
      "processing videos:  10%|▉         | 19/195 [07:34<1:00:51, 20.75s/it]c:\\Users\\dklab\\anaconda3\\envs\\DEEPLABCUT\\lib\\site-packages\\tensorflow\\python\\keras\\engine\\base_layer_v1.py:1694: UserWarning: `layer.apply` is deprecated and will be removed in a future version. Please use `layer.__call__` method instead.\n",
      "  warnings.warn('`layer.apply` is deprecated and '\n"
     ]
    },
    {
     "name": "stdout",
     "output_type": "stream",
     "text": [
      "Saving results in D:\\Sidevideos\\ar37motor\\2023_02_22...\n",
      "Saving csv poses!\n",
      "The videos are analyzed. Now your research can truly start! \n",
      " You can create labeled videos with 'create_labeled_video'\n",
      "If the tracking is not satisfactory for some videos, consider expanding the training set. You can use the function 'extract_outlier_frames' to extract a few representative outlier frames.\n",
      "Filtering with median model D:\\Sidevideos\\ar37motor\\2023_02_22\\114.avi\n",
      "Saving filtered csv poses!\n",
      "Using snapshot-500000 for model D:\\DLC\\SideviewLeft_Feb2022-Arash-2022-02-08\\dlc-models\\iteration-0\\SideviewLeft_Feb2022Feb8-trainset95shuffle2\n",
      "Starting to analyze %  D:\\Sidevideos\\ar37motor\\2023_02_22\\115.avi\n",
      "Loading  D:\\Sidevideos\\ar37motor\\2023_02_22\\115.avi\n",
      "Duration of video [s]:  7.5 , recorded with  40.0 fps!\n",
      "Overall # of frames:  300  found with (before cropping) frame dimensions:  800 480\n",
      "Starting to extract posture\n"
     ]
    },
    {
     "name": "stderr",
     "output_type": "stream",
     "text": [
      "310it [00:16, 19.06it/s]\n"
     ]
    },
    {
     "name": "stdout",
     "output_type": "stream",
     "text": [
      "Saving results in D:\\Sidevideos\\ar37motor\\2023_02_22...\n",
      "Saving csv poses!\n",
      "The videos are analyzed. Now your research can truly start! \n",
      " You can create labeled videos with 'create_labeled_video'\n",
      "If the tracking is not satisfactory for some videos, consider expanding the training set. You can use the function 'extract_outlier_frames' to extract a few representative outlier frames.\n",
      "Filtering with median model D:\\Sidevideos\\ar37motor\\2023_02_22\\115.avi\n"
     ]
    },
    {
     "name": "stderr",
     "output_type": "stream",
     "text": [
      "processing videos:  10%|█         | 20/195 [07:54<1:00:14, 20.65s/it]"
     ]
    },
    {
     "name": "stdout",
     "output_type": "stream",
     "text": [
      "Saving filtered csv poses!\n",
      "Using snapshot-500000 for model D:\\DLC\\SideviewLeft_Feb2022-Arash-2022-02-08\\dlc-models\\iteration-0\\SideviewLeft_Feb2022Feb8-trainset95shuffle2\n"
     ]
    },
    {
     "name": "stderr",
     "output_type": "stream",
     "text": [
      "c:\\Users\\dklab\\anaconda3\\envs\\DEEPLABCUT\\lib\\site-packages\\tensorflow\\python\\keras\\engine\\base_layer_v1.py:1694: UserWarning: `layer.apply` is deprecated and will be removed in a future version. Please use `layer.__call__` method instead.\n",
      "  warnings.warn('`layer.apply` is deprecated and '\n"
     ]
    },
    {
     "name": "stdout",
     "output_type": "stream",
     "text": [
      "Starting to analyze %  D:\\Sidevideos\\ar37motor\\2023_02_22\\116.avi\n",
      "Loading  D:\\Sidevideos\\ar37motor\\2023_02_22\\116.avi\n",
      "Duration of video [s]:  7.5 , recorded with  40.0 fps!\n",
      "Overall # of frames:  300  found with (before cropping) frame dimensions:  800 480\n",
      "Starting to extract posture\n"
     ]
    },
    {
     "name": "stderr",
     "output_type": "stream",
     "text": [
      "310it [00:16, 18.79it/s]\n",
      "processing videos:  11%|█         | 21/195 [08:15<59:50, 20.63s/it]  "
     ]
    },
    {
     "name": "stdout",
     "output_type": "stream",
     "text": [
      "Saving results in D:\\Sidevideos\\ar37motor\\2023_02_22...\n",
      "Saving csv poses!\n",
      "The videos are analyzed. Now your research can truly start! \n",
      " You can create labeled videos with 'create_labeled_video'\n",
      "If the tracking is not satisfactory for some videos, consider expanding the training set. You can use the function 'extract_outlier_frames' to extract a few representative outlier frames.\n",
      "Filtering with median model D:\\Sidevideos\\ar37motor\\2023_02_22\\116.avi\n",
      "Saving filtered csv poses!\n",
      "Using snapshot-500000 for model D:\\DLC\\SideviewLeft_Feb2022-Arash-2022-02-08\\dlc-models\\iteration-0\\SideviewLeft_Feb2022Feb8-trainset95shuffle2\n"
     ]
    },
    {
     "name": "stderr",
     "output_type": "stream",
     "text": [
      "c:\\Users\\dklab\\anaconda3\\envs\\DEEPLABCUT\\lib\\site-packages\\tensorflow\\python\\keras\\engine\\base_layer_v1.py:1694: UserWarning: `layer.apply` is deprecated and will be removed in a future version. Please use `layer.__call__` method instead.\n",
      "  warnings.warn('`layer.apply` is deprecated and '\n"
     ]
    },
    {
     "name": "stdout",
     "output_type": "stream",
     "text": [
      "Starting to analyze %  D:\\Sidevideos\\ar37motor\\2023_02_22\\117.avi\n",
      "Loading  D:\\Sidevideos\\ar37motor\\2023_02_22\\117.avi\n",
      "Duration of video [s]:  7.5 , recorded with  40.0 fps!\n",
      "Overall # of frames:  300  found with (before cropping) frame dimensions:  800 480\n",
      "Starting to extract posture\n"
     ]
    },
    {
     "name": "stderr",
     "output_type": "stream",
     "text": [
      "310it [00:16, 18.80it/s]\n",
      "processing videos:  11%|█▏        | 22/195 [08:36<59:37, 20.68s/it]"
     ]
    },
    {
     "name": "stdout",
     "output_type": "stream",
     "text": [
      "Saving results in D:\\Sidevideos\\ar37motor\\2023_02_22...\n",
      "Saving csv poses!\n",
      "The videos are analyzed. Now your research can truly start! \n",
      " You can create labeled videos with 'create_labeled_video'\n",
      "If the tracking is not satisfactory for some videos, consider expanding the training set. You can use the function 'extract_outlier_frames' to extract a few representative outlier frames.\n",
      "Filtering with median model D:\\Sidevideos\\ar37motor\\2023_02_22\\117.avi\n",
      "Saving filtered csv poses!\n",
      "Using snapshot-500000 for model D:\\DLC\\SideviewLeft_Feb2022-Arash-2022-02-08\\dlc-models\\iteration-0\\SideviewLeft_Feb2022Feb8-trainset95shuffle2\n"
     ]
    },
    {
     "name": "stderr",
     "output_type": "stream",
     "text": [
      "c:\\Users\\dklab\\anaconda3\\envs\\DEEPLABCUT\\lib\\site-packages\\tensorflow\\python\\keras\\engine\\base_layer_v1.py:1694: UserWarning: `layer.apply` is deprecated and will be removed in a future version. Please use `layer.__call__` method instead.\n",
      "  warnings.warn('`layer.apply` is deprecated and '\n"
     ]
    },
    {
     "name": "stdout",
     "output_type": "stream",
     "text": [
      "Starting to analyze %  D:\\Sidevideos\\ar37motor\\2023_02_22\\118.avi\n",
      "Loading  D:\\Sidevideos\\ar37motor\\2023_02_22\\118.avi\n",
      "Duration of video [s]:  7.5 , recorded with  40.0 fps!\n",
      "Overall # of frames:  300  found with (before cropping) frame dimensions:  800 480\n",
      "Starting to extract posture\n"
     ]
    },
    {
     "name": "stderr",
     "output_type": "stream",
     "text": [
      "310it [00:16, 19.05it/s]\n"
     ]
    },
    {
     "name": "stdout",
     "output_type": "stream",
     "text": [
      "Saving results in D:\\Sidevideos\\ar37motor\\2023_02_22...\n",
      "Saving csv poses!\n",
      "The videos are analyzed. Now your research can truly start! \n",
      " You can create labeled videos with 'create_labeled_video'\n",
      "If the tracking is not satisfactory for some videos, consider expanding the training set. You can use the function 'extract_outlier_frames' to extract a few representative outlier frames.\n",
      "Filtering with median model D:\\Sidevideos\\ar37motor\\2023_02_22\\118.avi\n",
      "Saving filtered csv poses!\n"
     ]
    },
    {
     "name": "stderr",
     "output_type": "stream",
     "text": [
      "processing videos:  12%|█▏        | 23/195 [08:56<59:09, 20.64s/it]c:\\Users\\dklab\\anaconda3\\envs\\DEEPLABCUT\\lib\\site-packages\\tensorflow\\python\\keras\\engine\\base_layer_v1.py:1694: UserWarning: `layer.apply` is deprecated and will be removed in a future version. Please use `layer.__call__` method instead.\n",
      "  warnings.warn('`layer.apply` is deprecated and '\n"
     ]
    },
    {
     "name": "stdout",
     "output_type": "stream",
     "text": [
      "Using snapshot-500000 for model D:\\DLC\\SideviewLeft_Feb2022-Arash-2022-02-08\\dlc-models\\iteration-0\\SideviewLeft_Feb2022Feb8-trainset95shuffle2\n",
      "Starting to analyze %  D:\\Sidevideos\\ar37motor\\2023_02_22\\119.avi\n",
      "Loading  D:\\Sidevideos\\ar37motor\\2023_02_22\\119.avi\n",
      "Duration of video [s]:  7.5 , recorded with  40.0 fps!\n",
      "Overall # of frames:  300  found with (before cropping) frame dimensions:  800 480\n",
      "Starting to extract posture\n"
     ]
    },
    {
     "name": "stderr",
     "output_type": "stream",
     "text": [
      "310it [00:16, 18.97it/s]\n",
      "processing videos:  12%|█▏        | 24/195 [09:17<58:42, 20.60s/it]c:\\Users\\dklab\\anaconda3\\envs\\DEEPLABCUT\\lib\\site-packages\\tensorflow\\python\\keras\\engine\\base_layer_v1.py:1694: UserWarning: `layer.apply` is deprecated and will be removed in a future version. Please use `layer.__call__` method instead.\n",
      "  warnings.warn('`layer.apply` is deprecated and '\n"
     ]
    },
    {
     "name": "stdout",
     "output_type": "stream",
     "text": [
      "Saving results in D:\\Sidevideos\\ar37motor\\2023_02_22...\n",
      "Saving csv poses!\n",
      "The videos are analyzed. Now your research can truly start! \n",
      " You can create labeled videos with 'create_labeled_video'\n",
      "If the tracking is not satisfactory for some videos, consider expanding the training set. You can use the function 'extract_outlier_frames' to extract a few representative outlier frames.\n",
      "Filtering with median model D:\\Sidevideos\\ar37motor\\2023_02_22\\119.avi\n",
      "Saving filtered csv poses!\n",
      "Using snapshot-500000 for model D:\\DLC\\SideviewLeft_Feb2022-Arash-2022-02-08\\dlc-models\\iteration-0\\SideviewLeft_Feb2022Feb8-trainset95shuffle2\n",
      "Starting to analyze %  D:\\Sidevideos\\ar37motor\\2023_02_22\\12.avi\n",
      "Loading  D:\\Sidevideos\\ar37motor\\2023_02_22\\12.avi\n",
      "Duration of video [s]:  7.5 , recorded with  40.0 fps!\n",
      "Overall # of frames:  300  found with (before cropping) frame dimensions:  800 480\n",
      "Starting to extract posture\n"
     ]
    },
    {
     "name": "stderr",
     "output_type": "stream",
     "text": [
      "310it [00:16, 18.48it/s]\n",
      "processing videos:  13%|█▎        | 25/195 [09:38<58:49, 20.76s/it]"
     ]
    },
    {
     "name": "stdout",
     "output_type": "stream",
     "text": [
      "Saving results in D:\\Sidevideos\\ar37motor\\2023_02_22...\n",
      "Saving csv poses!\n",
      "The videos are analyzed. Now your research can truly start! \n",
      " You can create labeled videos with 'create_labeled_video'\n",
      "If the tracking is not satisfactory for some videos, consider expanding the training set. You can use the function 'extract_outlier_frames' to extract a few representative outlier frames.\n",
      "Filtering with median model D:\\Sidevideos\\ar37motor\\2023_02_22\\12.avi\n",
      "Saving filtered csv poses!\n",
      "Using snapshot-500000 for model D:\\DLC\\SideviewLeft_Feb2022-Arash-2022-02-08\\dlc-models\\iteration-0\\SideviewLeft_Feb2022Feb8-trainset95shuffle2\n"
     ]
    },
    {
     "name": "stderr",
     "output_type": "stream",
     "text": [
      "c:\\Users\\dklab\\anaconda3\\envs\\DEEPLABCUT\\lib\\site-packages\\tensorflow\\python\\keras\\engine\\base_layer_v1.py:1694: UserWarning: `layer.apply` is deprecated and will be removed in a future version. Please use `layer.__call__` method instead.\n",
      "  warnings.warn('`layer.apply` is deprecated and '\n"
     ]
    },
    {
     "name": "stdout",
     "output_type": "stream",
     "text": [
      "Starting to analyze %  D:\\Sidevideos\\ar37motor\\2023_02_22\\120.avi\n",
      "Loading  D:\\Sidevideos\\ar37motor\\2023_02_22\\120.avi\n",
      "Duration of video [s]:  7.5 , recorded with  40.0 fps!\n",
      "Overall # of frames:  300  found with (before cropping) frame dimensions:  800 480\n",
      "Starting to extract posture\n"
     ]
    },
    {
     "name": "stderr",
     "output_type": "stream",
     "text": [
      "310it [00:16, 18.59it/s]\n",
      "processing videos:  13%|█▎        | 26/195 [09:59<58:33, 20.79s/it]"
     ]
    },
    {
     "name": "stdout",
     "output_type": "stream",
     "text": [
      "Saving results in D:\\Sidevideos\\ar37motor\\2023_02_22...\n",
      "Saving csv poses!\n",
      "The videos are analyzed. Now your research can truly start! \n",
      " You can create labeled videos with 'create_labeled_video'\n",
      "If the tracking is not satisfactory for some videos, consider expanding the training set. You can use the function 'extract_outlier_frames' to extract a few representative outlier frames.\n",
      "Filtering with median model D:\\Sidevideos\\ar37motor\\2023_02_22\\120.avi\n",
      "Saving filtered csv poses!\n",
      "Using snapshot-500000 for model D:\\DLC\\SideviewLeft_Feb2022-Arash-2022-02-08\\dlc-models\\iteration-0\\SideviewLeft_Feb2022Feb8-trainset95shuffle2\n"
     ]
    },
    {
     "name": "stderr",
     "output_type": "stream",
     "text": [
      "c:\\Users\\dklab\\anaconda3\\envs\\DEEPLABCUT\\lib\\site-packages\\tensorflow\\python\\keras\\engine\\base_layer_v1.py:1694: UserWarning: `layer.apply` is deprecated and will be removed in a future version. Please use `layer.__call__` method instead.\n",
      "  warnings.warn('`layer.apply` is deprecated and '\n"
     ]
    },
    {
     "name": "stdout",
     "output_type": "stream",
     "text": [
      "Starting to analyze %  D:\\Sidevideos\\ar37motor\\2023_02_22\\121.avi\n",
      "Loading  D:\\Sidevideos\\ar37motor\\2023_02_22\\121.avi\n",
      "Duration of video [s]:  7.5 , recorded with  40.0 fps!\n",
      "Overall # of frames:  300  found with (before cropping) frame dimensions:  800 480\n",
      "Starting to extract posture\n"
     ]
    },
    {
     "name": "stderr",
     "output_type": "stream",
     "text": [
      "310it [00:16, 19.22it/s]\n",
      "processing videos:  14%|█▍        | 27/195 [10:19<57:51, 20.66s/it]"
     ]
    },
    {
     "name": "stdout",
     "output_type": "stream",
     "text": [
      "Saving results in D:\\Sidevideos\\ar37motor\\2023_02_22...\n",
      "Saving csv poses!\n",
      "The videos are analyzed. Now your research can truly start! \n",
      " You can create labeled videos with 'create_labeled_video'\n",
      "If the tracking is not satisfactory for some videos, consider expanding the training set. You can use the function 'extract_outlier_frames' to extract a few representative outlier frames.\n",
      "Filtering with median model D:\\Sidevideos\\ar37motor\\2023_02_22\\121.avi\n",
      "Saving filtered csv poses!\n",
      "Using snapshot-500000 for model D:\\DLC\\SideviewLeft_Feb2022-Arash-2022-02-08\\dlc-models\\iteration-0\\SideviewLeft_Feb2022Feb8-trainset95shuffle2\n"
     ]
    },
    {
     "name": "stderr",
     "output_type": "stream",
     "text": [
      "c:\\Users\\dklab\\anaconda3\\envs\\DEEPLABCUT\\lib\\site-packages\\tensorflow\\python\\keras\\engine\\base_layer_v1.py:1694: UserWarning: `layer.apply` is deprecated and will be removed in a future version. Please use `layer.__call__` method instead.\n",
      "  warnings.warn('`layer.apply` is deprecated and '\n"
     ]
    },
    {
     "name": "stdout",
     "output_type": "stream",
     "text": [
      "Starting to analyze %  D:\\Sidevideos\\ar37motor\\2023_02_22\\122.avi\n",
      "Loading  D:\\Sidevideos\\ar37motor\\2023_02_22\\122.avi\n",
      "Duration of video [s]:  7.5 , recorded with  40.0 fps!\n",
      "Overall # of frames:  300  found with (before cropping) frame dimensions:  800 480\n",
      "Starting to extract posture\n"
     ]
    },
    {
     "name": "stderr",
     "output_type": "stream",
     "text": [
      "310it [00:16, 18.91it/s]\n",
      "processing videos:  14%|█▍        | 28/195 [10:40<57:32, 20.67s/it]"
     ]
    },
    {
     "name": "stdout",
     "output_type": "stream",
     "text": [
      "Saving results in D:\\Sidevideos\\ar37motor\\2023_02_22...\n",
      "Saving csv poses!\n",
      "The videos are analyzed. Now your research can truly start! \n",
      " You can create labeled videos with 'create_labeled_video'\n",
      "If the tracking is not satisfactory for some videos, consider expanding the training set. You can use the function 'extract_outlier_frames' to extract a few representative outlier frames.\n",
      "Filtering with median model D:\\Sidevideos\\ar37motor\\2023_02_22\\122.avi\n",
      "Saving filtered csv poses!\n",
      "Using snapshot-500000 for model D:\\DLC\\SideviewLeft_Feb2022-Arash-2022-02-08\\dlc-models\\iteration-0\\SideviewLeft_Feb2022Feb8-trainset95shuffle2\n"
     ]
    },
    {
     "name": "stderr",
     "output_type": "stream",
     "text": [
      "c:\\Users\\dklab\\anaconda3\\envs\\DEEPLABCUT\\lib\\site-packages\\tensorflow\\python\\keras\\engine\\base_layer_v1.py:1694: UserWarning: `layer.apply` is deprecated and will be removed in a future version. Please use `layer.__call__` method instead.\n",
      "  warnings.warn('`layer.apply` is deprecated and '\n"
     ]
    },
    {
     "name": "stdout",
     "output_type": "stream",
     "text": [
      "Starting to analyze %  D:\\Sidevideos\\ar37motor\\2023_02_22\\123.avi\n",
      "Loading  D:\\Sidevideos\\ar37motor\\2023_02_22\\123.avi\n",
      "Duration of video [s]:  7.5 , recorded with  40.0 fps!\n",
      "Overall # of frames:  300  found with (before cropping) frame dimensions:  800 480\n",
      "Starting to extract posture\n"
     ]
    },
    {
     "name": "stderr",
     "output_type": "stream",
     "text": [
      "310it [00:16, 18.86it/s]\n",
      "processing videos:  15%|█▍        | 29/195 [11:01<57:16, 20.70s/it]"
     ]
    },
    {
     "name": "stdout",
     "output_type": "stream",
     "text": [
      "Saving results in D:\\Sidevideos\\ar37motor\\2023_02_22...\n",
      "Saving csv poses!\n",
      "The videos are analyzed. Now your research can truly start! \n",
      " You can create labeled videos with 'create_labeled_video'\n",
      "If the tracking is not satisfactory for some videos, consider expanding the training set. You can use the function 'extract_outlier_frames' to extract a few representative outlier frames.\n",
      "Filtering with median model D:\\Sidevideos\\ar37motor\\2023_02_22\\123.avi\n",
      "Saving filtered csv poses!\n",
      "Using snapshot-500000 for model D:\\DLC\\SideviewLeft_Feb2022-Arash-2022-02-08\\dlc-models\\iteration-0\\SideviewLeft_Feb2022Feb8-trainset95shuffle2\n"
     ]
    },
    {
     "name": "stderr",
     "output_type": "stream",
     "text": [
      "c:\\Users\\dklab\\anaconda3\\envs\\DEEPLABCUT\\lib\\site-packages\\tensorflow\\python\\keras\\engine\\base_layer_v1.py:1694: UserWarning: `layer.apply` is deprecated and will be removed in a future version. Please use `layer.__call__` method instead.\n",
      "  warnings.warn('`layer.apply` is deprecated and '\n"
     ]
    },
    {
     "name": "stdout",
     "output_type": "stream",
     "text": [
      "Starting to analyze %  D:\\Sidevideos\\ar37motor\\2023_02_22\\124.avi\n",
      "Loading  D:\\Sidevideos\\ar37motor\\2023_02_22\\124.avi\n",
      "Duration of video [s]:  7.5 , recorded with  40.0 fps!\n",
      "Overall # of frames:  300  found with (before cropping) frame dimensions:  800 480\n",
      "Starting to extract posture\n"
     ]
    },
    {
     "name": "stderr",
     "output_type": "stream",
     "text": [
      "310it [00:16, 18.49it/s]\n",
      "processing videos:  15%|█▌        | 30/195 [11:21<57:01, 20.74s/it]"
     ]
    },
    {
     "name": "stdout",
     "output_type": "stream",
     "text": [
      "Saving results in D:\\Sidevideos\\ar37motor\\2023_02_22...\n",
      "Saving csv poses!\n",
      "The videos are analyzed. Now your research can truly start! \n",
      " You can create labeled videos with 'create_labeled_video'\n",
      "If the tracking is not satisfactory for some videos, consider expanding the training set. You can use the function 'extract_outlier_frames' to extract a few representative outlier frames.\n",
      "Filtering with median model D:\\Sidevideos\\ar37motor\\2023_02_22\\124.avi\n",
      "Saving filtered csv poses!\n",
      "Using snapshot-500000 for model D:\\DLC\\SideviewLeft_Feb2022-Arash-2022-02-08\\dlc-models\\iteration-0\\SideviewLeft_Feb2022Feb8-trainset95shuffle2\n"
     ]
    },
    {
     "name": "stderr",
     "output_type": "stream",
     "text": [
      "c:\\Users\\dklab\\anaconda3\\envs\\DEEPLABCUT\\lib\\site-packages\\tensorflow\\python\\keras\\engine\\base_layer_v1.py:1694: UserWarning: `layer.apply` is deprecated and will be removed in a future version. Please use `layer.__call__` method instead.\n",
      "  warnings.warn('`layer.apply` is deprecated and '\n"
     ]
    },
    {
     "name": "stdout",
     "output_type": "stream",
     "text": [
      "Starting to analyze %  D:\\Sidevideos\\ar37motor\\2023_02_22\\125.avi\n",
      "Loading  D:\\Sidevideos\\ar37motor\\2023_02_22\\125.avi\n",
      "Duration of video [s]:  7.5 , recorded with  40.0 fps!\n",
      "Overall # of frames:  300  found with (before cropping) frame dimensions:  800 480\n",
      "Starting to extract posture\n"
     ]
    },
    {
     "name": "stderr",
     "output_type": "stream",
     "text": [
      "310it [00:16, 18.92it/s]\n",
      "processing videos:  16%|█▌        | 31/195 [11:42<56:46, 20.77s/it]"
     ]
    },
    {
     "name": "stdout",
     "output_type": "stream",
     "text": [
      "Saving results in D:\\Sidevideos\\ar37motor\\2023_02_22...\n",
      "Saving csv poses!\n",
      "The videos are analyzed. Now your research can truly start! \n",
      " You can create labeled videos with 'create_labeled_video'\n",
      "If the tracking is not satisfactory for some videos, consider expanding the training set. You can use the function 'extract_outlier_frames' to extract a few representative outlier frames.\n",
      "Filtering with median model D:\\Sidevideos\\ar37motor\\2023_02_22\\125.avi\n",
      "Saving filtered csv poses!\n",
      "Using snapshot-500000 for model D:\\DLC\\SideviewLeft_Feb2022-Arash-2022-02-08\\dlc-models\\iteration-0\\SideviewLeft_Feb2022Feb8-trainset95shuffle2\n"
     ]
    },
    {
     "name": "stderr",
     "output_type": "stream",
     "text": [
      "c:\\Users\\dklab\\anaconda3\\envs\\DEEPLABCUT\\lib\\site-packages\\tensorflow\\python\\keras\\engine\\base_layer_v1.py:1694: UserWarning: `layer.apply` is deprecated and will be removed in a future version. Please use `layer.__call__` method instead.\n",
      "  warnings.warn('`layer.apply` is deprecated and '\n"
     ]
    },
    {
     "name": "stdout",
     "output_type": "stream",
     "text": [
      "Starting to analyze %  D:\\Sidevideos\\ar37motor\\2023_02_22\\126.avi\n",
      "Loading  D:\\Sidevideos\\ar37motor\\2023_02_22\\126.avi\n",
      "Duration of video [s]:  7.5 , recorded with  40.0 fps!\n",
      "Overall # of frames:  300  found with (before cropping) frame dimensions:  800 480\n",
      "Starting to extract posture\n"
     ]
    },
    {
     "name": "stderr",
     "output_type": "stream",
     "text": [
      "310it [00:16, 18.75it/s]\n",
      "processing videos:  16%|█▋        | 32/195 [12:03<56:18, 20.73s/it]"
     ]
    },
    {
     "name": "stdout",
     "output_type": "stream",
     "text": [
      "Saving results in D:\\Sidevideos\\ar37motor\\2023_02_22...\n",
      "Saving csv poses!\n",
      "The videos are analyzed. Now your research can truly start! \n",
      " You can create labeled videos with 'create_labeled_video'\n",
      "If the tracking is not satisfactory for some videos, consider expanding the training set. You can use the function 'extract_outlier_frames' to extract a few representative outlier frames.\n",
      "Filtering with median model D:\\Sidevideos\\ar37motor\\2023_02_22\\126.avi\n",
      "Saving filtered csv poses!\n",
      "Using snapshot-500000 for model D:\\DLC\\SideviewLeft_Feb2022-Arash-2022-02-08\\dlc-models\\iteration-0\\SideviewLeft_Feb2022Feb8-trainset95shuffle2\n"
     ]
    },
    {
     "name": "stderr",
     "output_type": "stream",
     "text": [
      "c:\\Users\\dklab\\anaconda3\\envs\\DEEPLABCUT\\lib\\site-packages\\tensorflow\\python\\keras\\engine\\base_layer_v1.py:1694: UserWarning: `layer.apply` is deprecated and will be removed in a future version. Please use `layer.__call__` method instead.\n",
      "  warnings.warn('`layer.apply` is deprecated and '\n"
     ]
    },
    {
     "name": "stdout",
     "output_type": "stream",
     "text": [
      "Starting to analyze %  D:\\Sidevideos\\ar37motor\\2023_02_22\\127.avi\n",
      "Loading  D:\\Sidevideos\\ar37motor\\2023_02_22\\127.avi\n",
      "Duration of video [s]:  7.5 , recorded with  40.0 fps!\n",
      "Overall # of frames:  300  found with (before cropping) frame dimensions:  800 480\n",
      "Starting to extract posture\n"
     ]
    },
    {
     "name": "stderr",
     "output_type": "stream",
     "text": [
      "310it [00:16, 18.62it/s]\n"
     ]
    },
    {
     "name": "stdout",
     "output_type": "stream",
     "text": [
      "Saving results in D:\\Sidevideos\\ar37motor\\2023_02_22...\n",
      "Saving csv poses!\n",
      "The videos are analyzed. Now your research can truly start! \n",
      " You can create labeled videos with 'create_labeled_video'\n",
      "If the tracking is not satisfactory for some videos, consider expanding the training set. You can use the function 'extract_outlier_frames' to extract a few representative outlier frames.\n",
      "Filtering with median model D:\\Sidevideos\\ar37motor\\2023_02_22\\127.avi\n",
      "Saving filtered csv poses!\n"
     ]
    },
    {
     "name": "stderr",
     "output_type": "stream",
     "text": [
      "processing videos:  17%|█▋        | 33/195 [12:24<55:57, 20.73s/it]c:\\Users\\dklab\\anaconda3\\envs\\DEEPLABCUT\\lib\\site-packages\\tensorflow\\python\\keras\\engine\\base_layer_v1.py:1694: UserWarning: `layer.apply` is deprecated and will be removed in a future version. Please use `layer.__call__` method instead.\n",
      "  warnings.warn('`layer.apply` is deprecated and '\n"
     ]
    },
    {
     "name": "stdout",
     "output_type": "stream",
     "text": [
      "Using snapshot-500000 for model D:\\DLC\\SideviewLeft_Feb2022-Arash-2022-02-08\\dlc-models\\iteration-0\\SideviewLeft_Feb2022Feb8-trainset95shuffle2\n",
      "Starting to analyze %  D:\\Sidevideos\\ar37motor\\2023_02_22\\128.avi\n",
      "Loading  D:\\Sidevideos\\ar37motor\\2023_02_22\\128.avi\n",
      "Duration of video [s]:  7.5 , recorded with  40.0 fps!\n",
      "Overall # of frames:  300  found with (before cropping) frame dimensions:  800 480\n",
      "Starting to extract posture\n"
     ]
    },
    {
     "name": "stderr",
     "output_type": "stream",
     "text": [
      "310it [00:16, 18.97it/s]\n",
      "processing videos:  17%|█▋        | 34/195 [12:44<55:35, 20.72s/it]c:\\Users\\dklab\\anaconda3\\envs\\DEEPLABCUT\\lib\\site-packages\\tensorflow\\python\\keras\\engine\\base_layer_v1.py:1694: UserWarning: `layer.apply` is deprecated and will be removed in a future version. Please use `layer.__call__` method instead.\n",
      "  warnings.warn('`layer.apply` is deprecated and '\n"
     ]
    },
    {
     "name": "stdout",
     "output_type": "stream",
     "text": [
      "Saving results in D:\\Sidevideos\\ar37motor\\2023_02_22...\n",
      "Saving csv poses!\n",
      "The videos are analyzed. Now your research can truly start! \n",
      " You can create labeled videos with 'create_labeled_video'\n",
      "If the tracking is not satisfactory for some videos, consider expanding the training set. You can use the function 'extract_outlier_frames' to extract a few representative outlier frames.\n",
      "Filtering with median model D:\\Sidevideos\\ar37motor\\2023_02_22\\128.avi\n",
      "Saving filtered csv poses!\n",
      "Using snapshot-500000 for model D:\\DLC\\SideviewLeft_Feb2022-Arash-2022-02-08\\dlc-models\\iteration-0\\SideviewLeft_Feb2022Feb8-trainset95shuffle2\n",
      "Starting to analyze %  D:\\Sidevideos\\ar37motor\\2023_02_22\\129.avi\n",
      "Loading  D:\\Sidevideos\\ar37motor\\2023_02_22\\129.avi\n",
      "Duration of video [s]:  7.5 , recorded with  40.0 fps!\n",
      "Overall # of frames:  300  found with (before cropping) frame dimensions:  800 480\n",
      "Starting to extract posture\n"
     ]
    },
    {
     "name": "stderr",
     "output_type": "stream",
     "text": [
      "310it [00:16, 18.77it/s]\n",
      "processing videos:  18%|█▊        | 35/195 [13:05<55:22, 20.76s/it]"
     ]
    },
    {
     "name": "stdout",
     "output_type": "stream",
     "text": [
      "Saving results in D:\\Sidevideos\\ar37motor\\2023_02_22...\n",
      "Saving csv poses!\n",
      "The videos are analyzed. Now your research can truly start! \n",
      " You can create labeled videos with 'create_labeled_video'\n",
      "If the tracking is not satisfactory for some videos, consider expanding the training set. You can use the function 'extract_outlier_frames' to extract a few representative outlier frames.\n",
      "Filtering with median model D:\\Sidevideos\\ar37motor\\2023_02_22\\129.avi\n",
      "Saving filtered csv poses!\n",
      "Using snapshot-500000 for model D:\\DLC\\SideviewLeft_Feb2022-Arash-2022-02-08\\dlc-models\\iteration-0\\SideviewLeft_Feb2022Feb8-trainset95shuffle2\n"
     ]
    },
    {
     "name": "stderr",
     "output_type": "stream",
     "text": [
      "c:\\Users\\dklab\\anaconda3\\envs\\DEEPLABCUT\\lib\\site-packages\\tensorflow\\python\\keras\\engine\\base_layer_v1.py:1694: UserWarning: `layer.apply` is deprecated and will be removed in a future version. Please use `layer.__call__` method instead.\n",
      "  warnings.warn('`layer.apply` is deprecated and '\n"
     ]
    },
    {
     "name": "stdout",
     "output_type": "stream",
     "text": [
      "Starting to analyze %  D:\\Sidevideos\\ar37motor\\2023_02_22\\13.avi\n",
      "Loading  D:\\Sidevideos\\ar37motor\\2023_02_22\\13.avi\n",
      "Duration of video [s]:  7.5 , recorded with  40.0 fps!\n",
      "Overall # of frames:  300  found with (before cropping) frame dimensions:  800 480\n",
      "Starting to extract posture\n"
     ]
    },
    {
     "name": "stderr",
     "output_type": "stream",
     "text": [
      "310it [00:16, 19.13it/s]\n",
      "processing videos:  18%|█▊        | 36/195 [13:26<54:43, 20.65s/it]"
     ]
    },
    {
     "name": "stdout",
     "output_type": "stream",
     "text": [
      "Saving results in D:\\Sidevideos\\ar37motor\\2023_02_22...\n",
      "Saving csv poses!\n",
      "The videos are analyzed. Now your research can truly start! \n",
      " You can create labeled videos with 'create_labeled_video'\n",
      "If the tracking is not satisfactory for some videos, consider expanding the training set. You can use the function 'extract_outlier_frames' to extract a few representative outlier frames.\n",
      "Filtering with median model D:\\Sidevideos\\ar37motor\\2023_02_22\\13.avi\n",
      "Saving filtered csv poses!\n",
      "Using snapshot-500000 for model D:\\DLC\\SideviewLeft_Feb2022-Arash-2022-02-08\\dlc-models\\iteration-0\\SideviewLeft_Feb2022Feb8-trainset95shuffle2\n"
     ]
    },
    {
     "name": "stderr",
     "output_type": "stream",
     "text": [
      "c:\\Users\\dklab\\anaconda3\\envs\\DEEPLABCUT\\lib\\site-packages\\tensorflow\\python\\keras\\engine\\base_layer_v1.py:1694: UserWarning: `layer.apply` is deprecated and will be removed in a future version. Please use `layer.__call__` method instead.\n",
      "  warnings.warn('`layer.apply` is deprecated and '\n"
     ]
    },
    {
     "name": "stdout",
     "output_type": "stream",
     "text": [
      "Starting to analyze %  D:\\Sidevideos\\ar37motor\\2023_02_22\\130.avi\n",
      "Loading  D:\\Sidevideos\\ar37motor\\2023_02_22\\130.avi\n",
      "Duration of video [s]:  7.5 , recorded with  40.0 fps!\n",
      "Overall # of frames:  300  found with (before cropping) frame dimensions:  800 480\n",
      "Starting to extract posture\n"
     ]
    },
    {
     "name": "stderr",
     "output_type": "stream",
     "text": [
      "310it [00:16, 18.66it/s]\n",
      "processing videos:  19%|█▉        | 37/195 [13:46<54:34, 20.73s/it]c:\\Users\\dklab\\anaconda3\\envs\\DEEPLABCUT\\lib\\site-packages\\tensorflow\\python\\keras\\engine\\base_layer_v1.py:1694: UserWarning: `layer.apply` is deprecated and will be removed in a future version. Please use `layer.__call__` method instead.\n",
      "  warnings.warn('`layer.apply` is deprecated and '\n"
     ]
    },
    {
     "name": "stdout",
     "output_type": "stream",
     "text": [
      "Saving results in D:\\Sidevideos\\ar37motor\\2023_02_22...\n",
      "Saving csv poses!\n",
      "The videos are analyzed. Now your research can truly start! \n",
      " You can create labeled videos with 'create_labeled_video'\n",
      "If the tracking is not satisfactory for some videos, consider expanding the training set. You can use the function 'extract_outlier_frames' to extract a few representative outlier frames.\n",
      "Filtering with median model D:\\Sidevideos\\ar37motor\\2023_02_22\\130.avi\n",
      "Saving filtered csv poses!\n",
      "Using snapshot-500000 for model D:\\DLC\\SideviewLeft_Feb2022-Arash-2022-02-08\\dlc-models\\iteration-0\\SideviewLeft_Feb2022Feb8-trainset95shuffle2\n",
      "Starting to analyze %  D:\\Sidevideos\\ar37motor\\2023_02_22\\131.avi\n",
      "Loading  D:\\Sidevideos\\ar37motor\\2023_02_22\\131.avi\n",
      "Duration of video [s]:  7.5 , recorded with  40.0 fps!\n",
      "Overall # of frames:  300  found with (before cropping) frame dimensions:  800 480\n",
      "Starting to extract posture\n"
     ]
    },
    {
     "name": "stderr",
     "output_type": "stream",
     "text": [
      "310it [00:16, 18.94it/s]\n",
      "processing videos:  19%|█▉        | 38/195 [14:07<54:13, 20.72s/it]"
     ]
    },
    {
     "name": "stdout",
     "output_type": "stream",
     "text": [
      "Saving results in D:\\Sidevideos\\ar37motor\\2023_02_22...\n",
      "Saving csv poses!\n",
      "The videos are analyzed. Now your research can truly start! \n",
      " You can create labeled videos with 'create_labeled_video'\n",
      "If the tracking is not satisfactory for some videos, consider expanding the training set. You can use the function 'extract_outlier_frames' to extract a few representative outlier frames.\n",
      "Filtering with median model D:\\Sidevideos\\ar37motor\\2023_02_22\\131.avi\n",
      "Saving filtered csv poses!\n",
      "Using snapshot-500000 for model D:\\DLC\\SideviewLeft_Feb2022-Arash-2022-02-08\\dlc-models\\iteration-0\\SideviewLeft_Feb2022Feb8-trainset95shuffle2\n"
     ]
    },
    {
     "name": "stderr",
     "output_type": "stream",
     "text": [
      "c:\\Users\\dklab\\anaconda3\\envs\\DEEPLABCUT\\lib\\site-packages\\tensorflow\\python\\keras\\engine\\base_layer_v1.py:1694: UserWarning: `layer.apply` is deprecated and will be removed in a future version. Please use `layer.__call__` method instead.\n",
      "  warnings.warn('`layer.apply` is deprecated and '\n"
     ]
    },
    {
     "name": "stdout",
     "output_type": "stream",
     "text": [
      "Starting to analyze %  D:\\Sidevideos\\ar37motor\\2023_02_22\\132.avi\n",
      "Loading  D:\\Sidevideos\\ar37motor\\2023_02_22\\132.avi\n",
      "Duration of video [s]:  7.5 , recorded with  40.0 fps!\n",
      "Overall # of frames:  300  found with (before cropping) frame dimensions:  800 480\n",
      "Starting to extract posture\n"
     ]
    },
    {
     "name": "stderr",
     "output_type": "stream",
     "text": [
      "310it [00:16, 19.11it/s]\n",
      "processing videos:  20%|██        | 39/195 [14:28<53:42, 20.66s/it]"
     ]
    },
    {
     "name": "stdout",
     "output_type": "stream",
     "text": [
      "Saving results in D:\\Sidevideos\\ar37motor\\2023_02_22...\n",
      "Saving csv poses!\n",
      "The videos are analyzed. Now your research can truly start! \n",
      " You can create labeled videos with 'create_labeled_video'\n",
      "If the tracking is not satisfactory for some videos, consider expanding the training set. You can use the function 'extract_outlier_frames' to extract a few representative outlier frames.\n",
      "Filtering with median model D:\\Sidevideos\\ar37motor\\2023_02_22\\132.avi\n",
      "Saving filtered csv poses!\n",
      "Using snapshot-500000 for model D:\\DLC\\SideviewLeft_Feb2022-Arash-2022-02-08\\dlc-models\\iteration-0\\SideviewLeft_Feb2022Feb8-trainset95shuffle2\n"
     ]
    },
    {
     "name": "stderr",
     "output_type": "stream",
     "text": [
      "c:\\Users\\dklab\\anaconda3\\envs\\DEEPLABCUT\\lib\\site-packages\\tensorflow\\python\\keras\\engine\\base_layer_v1.py:1694: UserWarning: `layer.apply` is deprecated and will be removed in a future version. Please use `layer.__call__` method instead.\n",
      "  warnings.warn('`layer.apply` is deprecated and '\n"
     ]
    },
    {
     "name": "stdout",
     "output_type": "stream",
     "text": [
      "Starting to analyze %  D:\\Sidevideos\\ar37motor\\2023_02_22\\133.avi\n",
      "Loading  D:\\Sidevideos\\ar37motor\\2023_02_22\\133.avi\n",
      "Duration of video [s]:  7.5 , recorded with  40.0 fps!\n",
      "Overall # of frames:  300  found with (before cropping) frame dimensions:  800 480\n",
      "Starting to extract posture\n"
     ]
    },
    {
     "name": "stderr",
     "output_type": "stream",
     "text": [
      "310it [00:16, 19.01it/s]\n",
      "processing videos:  21%|██        | 40/195 [14:48<53:17, 20.63s/it]"
     ]
    },
    {
     "name": "stdout",
     "output_type": "stream",
     "text": [
      "Saving results in D:\\Sidevideos\\ar37motor\\2023_02_22...\n",
      "Saving csv poses!\n",
      "The videos are analyzed. Now your research can truly start! \n",
      " You can create labeled videos with 'create_labeled_video'\n",
      "If the tracking is not satisfactory for some videos, consider expanding the training set. You can use the function 'extract_outlier_frames' to extract a few representative outlier frames.\n",
      "Filtering with median model D:\\Sidevideos\\ar37motor\\2023_02_22\\133.avi\n",
      "Saving filtered csv poses!\n",
      "Using snapshot-500000 for model D:\\DLC\\SideviewLeft_Feb2022-Arash-2022-02-08\\dlc-models\\iteration-0\\SideviewLeft_Feb2022Feb8-trainset95shuffle2\n"
     ]
    },
    {
     "name": "stderr",
     "output_type": "stream",
     "text": [
      "c:\\Users\\dklab\\anaconda3\\envs\\DEEPLABCUT\\lib\\site-packages\\tensorflow\\python\\keras\\engine\\base_layer_v1.py:1694: UserWarning: `layer.apply` is deprecated and will be removed in a future version. Please use `layer.__call__` method instead.\n",
      "  warnings.warn('`layer.apply` is deprecated and '\n"
     ]
    },
    {
     "name": "stdout",
     "output_type": "stream",
     "text": [
      "Starting to analyze %  D:\\Sidevideos\\ar37motor\\2023_02_22\\134.avi\n",
      "Loading  D:\\Sidevideos\\ar37motor\\2023_02_22\\134.avi\n",
      "Duration of video [s]:  7.5 , recorded with  40.0 fps!\n",
      "Overall # of frames:  300  found with (before cropping) frame dimensions:  800 480\n",
      "Starting to extract posture\n"
     ]
    },
    {
     "name": "stderr",
     "output_type": "stream",
     "text": [
      "310it [00:16, 19.03it/s]\n",
      "processing videos:  21%|██        | 41/195 [15:09<53:08, 20.70s/it]"
     ]
    },
    {
     "name": "stdout",
     "output_type": "stream",
     "text": [
      "Saving results in D:\\Sidevideos\\ar37motor\\2023_02_22...\n",
      "Saving csv poses!\n",
      "The videos are analyzed. Now your research can truly start! \n",
      " You can create labeled videos with 'create_labeled_video'\n",
      "If the tracking is not satisfactory for some videos, consider expanding the training set. You can use the function 'extract_outlier_frames' to extract a few representative outlier frames.\n",
      "Filtering with median model D:\\Sidevideos\\ar37motor\\2023_02_22\\134.avi\n",
      "Saving filtered csv poses!\n",
      "Using snapshot-500000 for model D:\\DLC\\SideviewLeft_Feb2022-Arash-2022-02-08\\dlc-models\\iteration-0\\SideviewLeft_Feb2022Feb8-trainset95shuffle2\n"
     ]
    },
    {
     "name": "stderr",
     "output_type": "stream",
     "text": [
      "c:\\Users\\dklab\\anaconda3\\envs\\DEEPLABCUT\\lib\\site-packages\\tensorflow\\python\\keras\\engine\\base_layer_v1.py:1694: UserWarning: `layer.apply` is deprecated and will be removed in a future version. Please use `layer.__call__` method instead.\n",
      "  warnings.warn('`layer.apply` is deprecated and '\n"
     ]
    },
    {
     "name": "stdout",
     "output_type": "stream",
     "text": [
      "Starting to analyze %  D:\\Sidevideos\\ar37motor\\2023_02_22\\135.avi\n",
      "Loading  D:\\Sidevideos\\ar37motor\\2023_02_22\\135.avi\n",
      "Duration of video [s]:  7.5 , recorded with  40.0 fps!\n",
      "Overall # of frames:  300  found with (before cropping) frame dimensions:  800 480\n",
      "Starting to extract posture\n"
     ]
    },
    {
     "name": "stderr",
     "output_type": "stream",
     "text": [
      "310it [00:16, 18.79it/s]\n"
     ]
    },
    {
     "name": "stdout",
     "output_type": "stream",
     "text": [
      "Saving results in D:\\Sidevideos\\ar37motor\\2023_02_22...\n",
      "Saving csv poses!\n",
      "The videos are analyzed. Now your research can truly start! \n",
      " You can create labeled videos with 'create_labeled_video'\n",
      "If the tracking is not satisfactory for some videos, consider expanding the training set. You can use the function 'extract_outlier_frames' to extract a few representative outlier frames.\n",
      "Filtering with median model D:\\Sidevideos\\ar37motor\\2023_02_22\\135.avi\n",
      "Saving filtered csv poses!\n"
     ]
    },
    {
     "name": "stderr",
     "output_type": "stream",
     "text": [
      "processing videos:  22%|██▏       | 42/195 [15:30<52:43, 20.67s/it]c:\\Users\\dklab\\anaconda3\\envs\\DEEPLABCUT\\lib\\site-packages\\tensorflow\\python\\keras\\engine\\base_layer_v1.py:1694: UserWarning: `layer.apply` is deprecated and will be removed in a future version. Please use `layer.__call__` method instead.\n",
      "  warnings.warn('`layer.apply` is deprecated and '\n"
     ]
    },
    {
     "name": "stdout",
     "output_type": "stream",
     "text": [
      "Using snapshot-500000 for model D:\\DLC\\SideviewLeft_Feb2022-Arash-2022-02-08\\dlc-models\\iteration-0\\SideviewLeft_Feb2022Feb8-trainset95shuffle2\n",
      "Starting to analyze %  D:\\Sidevideos\\ar37motor\\2023_02_22\\136.avi\n",
      "Loading  D:\\Sidevideos\\ar37motor\\2023_02_22\\136.avi\n",
      "Duration of video [s]:  7.5 , recorded with  40.0 fps!\n",
      "Overall # of frames:  300  found with (before cropping) frame dimensions:  800 480\n",
      "Starting to extract posture\n"
     ]
    },
    {
     "name": "stderr",
     "output_type": "stream",
     "text": [
      "310it [00:16, 18.86it/s]\n",
      "processing videos:  22%|██▏       | 43/195 [15:50<52:25, 20.69s/it]"
     ]
    },
    {
     "name": "stdout",
     "output_type": "stream",
     "text": [
      "Saving results in D:\\Sidevideos\\ar37motor\\2023_02_22...\n",
      "Saving csv poses!\n",
      "The videos are analyzed. Now your research can truly start! \n",
      " You can create labeled videos with 'create_labeled_video'\n",
      "If the tracking is not satisfactory for some videos, consider expanding the training set. You can use the function 'extract_outlier_frames' to extract a few representative outlier frames.\n",
      "Filtering with median model D:\\Sidevideos\\ar37motor\\2023_02_22\\136.avi\n",
      "Saving filtered csv poses!\n",
      "Using snapshot-500000 for model D:\\DLC\\SideviewLeft_Feb2022-Arash-2022-02-08\\dlc-models\\iteration-0\\SideviewLeft_Feb2022Feb8-trainset95shuffle2\n"
     ]
    },
    {
     "name": "stderr",
     "output_type": "stream",
     "text": [
      "c:\\Users\\dklab\\anaconda3\\envs\\DEEPLABCUT\\lib\\site-packages\\tensorflow\\python\\keras\\engine\\base_layer_v1.py:1694: UserWarning: `layer.apply` is deprecated and will be removed in a future version. Please use `layer.__call__` method instead.\n",
      "  warnings.warn('`layer.apply` is deprecated and '\n"
     ]
    },
    {
     "name": "stdout",
     "output_type": "stream",
     "text": [
      "Starting to analyze %  D:\\Sidevideos\\ar37motor\\2023_02_22\\137.avi\n",
      "Loading  D:\\Sidevideos\\ar37motor\\2023_02_22\\137.avi\n",
      "Duration of video [s]:  7.5 , recorded with  40.0 fps!\n",
      "Overall # of frames:  300  found with (before cropping) frame dimensions:  800 480\n",
      "Starting to extract posture\n"
     ]
    },
    {
     "name": "stderr",
     "output_type": "stream",
     "text": [
      "310it [00:16, 18.81it/s]\n",
      "processing videos:  23%|██▎       | 44/195 [16:11<52:08, 20.72s/it]c:\\Users\\dklab\\anaconda3\\envs\\DEEPLABCUT\\lib\\site-packages\\tensorflow\\python\\keras\\engine\\base_layer_v1.py:1694: UserWarning: `layer.apply` is deprecated and will be removed in a future version. Please use `layer.__call__` method instead.\n",
      "  warnings.warn('`layer.apply` is deprecated and '\n"
     ]
    },
    {
     "name": "stdout",
     "output_type": "stream",
     "text": [
      "Saving results in D:\\Sidevideos\\ar37motor\\2023_02_22...\n",
      "Saving csv poses!\n",
      "The videos are analyzed. Now your research can truly start! \n",
      " You can create labeled videos with 'create_labeled_video'\n",
      "If the tracking is not satisfactory for some videos, consider expanding the training set. You can use the function 'extract_outlier_frames' to extract a few representative outlier frames.\n",
      "Filtering with median model D:\\Sidevideos\\ar37motor\\2023_02_22\\137.avi\n",
      "Saving filtered csv poses!\n",
      "Using snapshot-500000 for model D:\\DLC\\SideviewLeft_Feb2022-Arash-2022-02-08\\dlc-models\\iteration-0\\SideviewLeft_Feb2022Feb8-trainset95shuffle2\n",
      "Starting to analyze %  D:\\Sidevideos\\ar37motor\\2023_02_22\\138.avi\n",
      "Loading  D:\\Sidevideos\\ar37motor\\2023_02_22\\138.avi\n",
      "Duration of video [s]:  7.5 , recorded with  40.0 fps!\n",
      "Overall # of frames:  300  found with (before cropping) frame dimensions:  800 480\n",
      "Starting to extract posture\n"
     ]
    },
    {
     "name": "stderr",
     "output_type": "stream",
     "text": [
      "310it [00:16, 18.92it/s]\n",
      "processing videos:  23%|██▎       | 45/195 [16:32<51:50, 20.74s/it]"
     ]
    },
    {
     "name": "stdout",
     "output_type": "stream",
     "text": [
      "Saving results in D:\\Sidevideos\\ar37motor\\2023_02_22...\n",
      "Saving csv poses!\n",
      "The videos are analyzed. Now your research can truly start! \n",
      " You can create labeled videos with 'create_labeled_video'\n",
      "If the tracking is not satisfactory for some videos, consider expanding the training set. You can use the function 'extract_outlier_frames' to extract a few representative outlier frames.\n",
      "Filtering with median model D:\\Sidevideos\\ar37motor\\2023_02_22\\138.avi\n",
      "Saving filtered csv poses!\n",
      "Using snapshot-500000 for model D:\\DLC\\SideviewLeft_Feb2022-Arash-2022-02-08\\dlc-models\\iteration-0\\SideviewLeft_Feb2022Feb8-trainset95shuffle2\n"
     ]
    },
    {
     "name": "stderr",
     "output_type": "stream",
     "text": [
      "c:\\Users\\dklab\\anaconda3\\envs\\DEEPLABCUT\\lib\\site-packages\\tensorflow\\python\\keras\\engine\\base_layer_v1.py:1694: UserWarning: `layer.apply` is deprecated and will be removed in a future version. Please use `layer.__call__` method instead.\n",
      "  warnings.warn('`layer.apply` is deprecated and '\n"
     ]
    },
    {
     "name": "stdout",
     "output_type": "stream",
     "text": [
      "Starting to analyze %  D:\\Sidevideos\\ar37motor\\2023_02_22\\139.avi\n",
      "Loading  D:\\Sidevideos\\ar37motor\\2023_02_22\\139.avi\n",
      "Duration of video [s]:  7.5 , recorded with  40.0 fps!\n",
      "Overall # of frames:  300  found with (before cropping) frame dimensions:  800 480\n",
      "Starting to extract posture\n"
     ]
    },
    {
     "name": "stderr",
     "output_type": "stream",
     "text": [
      "310it [00:16, 18.64it/s]\n",
      "processing videos:  24%|██▎       | 46/195 [16:53<51:30, 20.74s/it]c:\\Users\\dklab\\anaconda3\\envs\\DEEPLABCUT\\lib\\site-packages\\tensorflow\\python\\keras\\engine\\base_layer_v1.py:1694: UserWarning: `layer.apply` is deprecated and will be removed in a future version. Please use `layer.__call__` method instead.\n",
      "  warnings.warn('`layer.apply` is deprecated and '\n"
     ]
    },
    {
     "name": "stdout",
     "output_type": "stream",
     "text": [
      "Saving results in D:\\Sidevideos\\ar37motor\\2023_02_22...\n",
      "Saving csv poses!\n",
      "The videos are analyzed. Now your research can truly start! \n",
      " You can create labeled videos with 'create_labeled_video'\n",
      "If the tracking is not satisfactory for some videos, consider expanding the training set. You can use the function 'extract_outlier_frames' to extract a few representative outlier frames.\n",
      "Filtering with median model D:\\Sidevideos\\ar37motor\\2023_02_22\\139.avi\n",
      "Saving filtered csv poses!\n",
      "Using snapshot-500000 for model D:\\DLC\\SideviewLeft_Feb2022-Arash-2022-02-08\\dlc-models\\iteration-0\\SideviewLeft_Feb2022Feb8-trainset95shuffle2\n",
      "Starting to analyze %  D:\\Sidevideos\\ar37motor\\2023_02_22\\14.avi\n",
      "Loading  D:\\Sidevideos\\ar37motor\\2023_02_22\\14.avi\n",
      "Duration of video [s]:  7.5 , recorded with  40.0 fps!\n",
      "Overall # of frames:  300  found with (before cropping) frame dimensions:  800 480\n",
      "Starting to extract posture\n"
     ]
    },
    {
     "name": "stderr",
     "output_type": "stream",
     "text": [
      "310it [00:16, 18.91it/s]\n",
      "processing videos:  24%|██▍       | 47/195 [17:13<50:56, 20.65s/it]"
     ]
    },
    {
     "name": "stdout",
     "output_type": "stream",
     "text": [
      "Saving results in D:\\Sidevideos\\ar37motor\\2023_02_22...\n",
      "Saving csv poses!\n",
      "The videos are analyzed. Now your research can truly start! \n",
      " You can create labeled videos with 'create_labeled_video'\n",
      "If the tracking is not satisfactory for some videos, consider expanding the training set. You can use the function 'extract_outlier_frames' to extract a few representative outlier frames.\n",
      "Filtering with median model D:\\Sidevideos\\ar37motor\\2023_02_22\\14.avi\n",
      "Saving filtered csv poses!\n",
      "Using snapshot-500000 for model D:\\DLC\\SideviewLeft_Feb2022-Arash-2022-02-08\\dlc-models\\iteration-0\\SideviewLeft_Feb2022Feb8-trainset95shuffle2\n"
     ]
    },
    {
     "name": "stderr",
     "output_type": "stream",
     "text": [
      "c:\\Users\\dklab\\anaconda3\\envs\\DEEPLABCUT\\lib\\site-packages\\tensorflow\\python\\keras\\engine\\base_layer_v1.py:1694: UserWarning: `layer.apply` is deprecated and will be removed in a future version. Please use `layer.__call__` method instead.\n",
      "  warnings.warn('`layer.apply` is deprecated and '\n"
     ]
    },
    {
     "name": "stdout",
     "output_type": "stream",
     "text": [
      "Starting to analyze %  D:\\Sidevideos\\ar37motor\\2023_02_22\\140.avi\n",
      "Loading  D:\\Sidevideos\\ar37motor\\2023_02_22\\140.avi\n",
      "Duration of video [s]:  7.5 , recorded with  40.0 fps!\n",
      "Overall # of frames:  300  found with (before cropping) frame dimensions:  800 480\n",
      "Starting to extract posture\n"
     ]
    },
    {
     "name": "stderr",
     "output_type": "stream",
     "text": [
      "310it [00:16, 18.95it/s]\n",
      "processing videos:  25%|██▍       | 48/195 [17:34<50:36, 20.66s/it]"
     ]
    },
    {
     "name": "stdout",
     "output_type": "stream",
     "text": [
      "Saving results in D:\\Sidevideos\\ar37motor\\2023_02_22...\n",
      "Saving csv poses!\n",
      "The videos are analyzed. Now your research can truly start! \n",
      " You can create labeled videos with 'create_labeled_video'\n",
      "If the tracking is not satisfactory for some videos, consider expanding the training set. You can use the function 'extract_outlier_frames' to extract a few representative outlier frames.\n",
      "Filtering with median model D:\\Sidevideos\\ar37motor\\2023_02_22\\140.avi\n",
      "Saving filtered csv poses!\n",
      "Using snapshot-500000 for model D:\\DLC\\SideviewLeft_Feb2022-Arash-2022-02-08\\dlc-models\\iteration-0\\SideviewLeft_Feb2022Feb8-trainset95shuffle2\n"
     ]
    },
    {
     "name": "stderr",
     "output_type": "stream",
     "text": [
      "c:\\Users\\dklab\\anaconda3\\envs\\DEEPLABCUT\\lib\\site-packages\\tensorflow\\python\\keras\\engine\\base_layer_v1.py:1694: UserWarning: `layer.apply` is deprecated and will be removed in a future version. Please use `layer.__call__` method instead.\n",
      "  warnings.warn('`layer.apply` is deprecated and '\n"
     ]
    },
    {
     "name": "stdout",
     "output_type": "stream",
     "text": [
      "Starting to analyze %  D:\\Sidevideos\\ar37motor\\2023_02_22\\141.avi\n",
      "Loading  D:\\Sidevideos\\ar37motor\\2023_02_22\\141.avi\n",
      "Duration of video [s]:  7.5 , recorded with  40.0 fps!\n",
      "Overall # of frames:  300  found with (before cropping) frame dimensions:  800 480\n",
      "Starting to extract posture\n"
     ]
    },
    {
     "name": "stderr",
     "output_type": "stream",
     "text": [
      "310it [00:16, 19.12it/s]\n",
      "processing videos:  25%|██▌       | 49/195 [17:54<50:09, 20.62s/it]"
     ]
    },
    {
     "name": "stdout",
     "output_type": "stream",
     "text": [
      "Saving results in D:\\Sidevideos\\ar37motor\\2023_02_22...\n",
      "Saving csv poses!\n",
      "The videos are analyzed. Now your research can truly start! \n",
      " You can create labeled videos with 'create_labeled_video'\n",
      "If the tracking is not satisfactory for some videos, consider expanding the training set. You can use the function 'extract_outlier_frames' to extract a few representative outlier frames.\n",
      "Filtering with median model D:\\Sidevideos\\ar37motor\\2023_02_22\\141.avi\n",
      "Saving filtered csv poses!\n",
      "Using snapshot-500000 for model D:\\DLC\\SideviewLeft_Feb2022-Arash-2022-02-08\\dlc-models\\iteration-0\\SideviewLeft_Feb2022Feb8-trainset95shuffle2\n"
     ]
    },
    {
     "name": "stderr",
     "output_type": "stream",
     "text": [
      "c:\\Users\\dklab\\anaconda3\\envs\\DEEPLABCUT\\lib\\site-packages\\tensorflow\\python\\keras\\engine\\base_layer_v1.py:1694: UserWarning: `layer.apply` is deprecated and will be removed in a future version. Please use `layer.__call__` method instead.\n",
      "  warnings.warn('`layer.apply` is deprecated and '\n"
     ]
    },
    {
     "name": "stdout",
     "output_type": "stream",
     "text": [
      "Starting to analyze %  D:\\Sidevideos\\ar37motor\\2023_02_22\\142.avi\n",
      "Loading  D:\\Sidevideos\\ar37motor\\2023_02_22\\142.avi\n",
      "Duration of video [s]:  7.5 , recorded with  40.0 fps!\n",
      "Overall # of frames:  300  found with (before cropping) frame dimensions:  800 480\n",
      "Starting to extract posture\n"
     ]
    },
    {
     "name": "stderr",
     "output_type": "stream",
     "text": [
      "310it [00:16, 19.10it/s]\n",
      "processing videos:  26%|██▌       | 50/195 [18:15<49:44, 20.58s/it]"
     ]
    },
    {
     "name": "stdout",
     "output_type": "stream",
     "text": [
      "Saving results in D:\\Sidevideos\\ar37motor\\2023_02_22...\n",
      "Saving csv poses!\n",
      "The videos are analyzed. Now your research can truly start! \n",
      " You can create labeled videos with 'create_labeled_video'\n",
      "If the tracking is not satisfactory for some videos, consider expanding the training set. You can use the function 'extract_outlier_frames' to extract a few representative outlier frames.\n",
      "Filtering with median model D:\\Sidevideos\\ar37motor\\2023_02_22\\142.avi\n",
      "Saving filtered csv poses!\n",
      "Using snapshot-500000 for model D:\\DLC\\SideviewLeft_Feb2022-Arash-2022-02-08\\dlc-models\\iteration-0\\SideviewLeft_Feb2022Feb8-trainset95shuffle2\n"
     ]
    },
    {
     "name": "stderr",
     "output_type": "stream",
     "text": [
      "c:\\Users\\dklab\\anaconda3\\envs\\DEEPLABCUT\\lib\\site-packages\\tensorflow\\python\\keras\\engine\\base_layer_v1.py:1694: UserWarning: `layer.apply` is deprecated and will be removed in a future version. Please use `layer.__call__` method instead.\n",
      "  warnings.warn('`layer.apply` is deprecated and '\n"
     ]
    },
    {
     "name": "stdout",
     "output_type": "stream",
     "text": [
      "Starting to analyze %  D:\\Sidevideos\\ar37motor\\2023_02_22\\143.avi\n",
      "Loading  D:\\Sidevideos\\ar37motor\\2023_02_22\\143.avi\n",
      "Duration of video [s]:  7.5 , recorded with  40.0 fps!\n",
      "Overall # of frames:  300  found with (before cropping) frame dimensions:  800 480\n",
      "Starting to extract posture\n"
     ]
    },
    {
     "name": "stderr",
     "output_type": "stream",
     "text": [
      "310it [00:16, 19.08it/s]\n"
     ]
    },
    {
     "name": "stdout",
     "output_type": "stream",
     "text": [
      "Saving results in D:\\Sidevideos\\ar37motor\\2023_02_22...\n",
      "Saving csv poses!\n",
      "The videos are analyzed. Now your research can truly start! \n",
      " You can create labeled videos with 'create_labeled_video'\n",
      "If the tracking is not satisfactory for some videos, consider expanding the training set. You can use the function 'extract_outlier_frames' to extract a few representative outlier frames.\n",
      "Filtering with median model D:\\Sidevideos\\ar37motor\\2023_02_22\\143.avi\n",
      "Saving filtered csv poses!\n"
     ]
    },
    {
     "name": "stderr",
     "output_type": "stream",
     "text": [
      "processing videos:  26%|██▌       | 51/195 [18:36<49:31, 20.63s/it]c:\\Users\\dklab\\anaconda3\\envs\\DEEPLABCUT\\lib\\site-packages\\tensorflow\\python\\keras\\engine\\base_layer_v1.py:1694: UserWarning: `layer.apply` is deprecated and will be removed in a future version. Please use `layer.__call__` method instead.\n",
      "  warnings.warn('`layer.apply` is deprecated and '\n"
     ]
    },
    {
     "name": "stdout",
     "output_type": "stream",
     "text": [
      "Using snapshot-500000 for model D:\\DLC\\SideviewLeft_Feb2022-Arash-2022-02-08\\dlc-models\\iteration-0\\SideviewLeft_Feb2022Feb8-trainset95shuffle2\n",
      "Starting to analyze %  D:\\Sidevideos\\ar37motor\\2023_02_22\\144.avi\n",
      "Loading  D:\\Sidevideos\\ar37motor\\2023_02_22\\144.avi\n",
      "Duration of video [s]:  7.5 , recorded with  40.0 fps!\n",
      "Overall # of frames:  300  found with (before cropping) frame dimensions:  800 480\n",
      "Starting to extract posture\n"
     ]
    },
    {
     "name": "stderr",
     "output_type": "stream",
     "text": [
      "310it [00:18, 16.93it/s]\n"
     ]
    },
    {
     "name": "stdout",
     "output_type": "stream",
     "text": [
      "Saving results in D:\\Sidevideos\\ar37motor\\2023_02_22...\n",
      "Saving csv poses!\n",
      "The videos are analyzed. Now your research can truly start! \n",
      " You can create labeled videos with 'create_labeled_video'\n",
      "If the tracking is not satisfactory for some videos, consider expanding the training set. You can use the function 'extract_outlier_frames' to extract a few representative outlier frames.\n",
      "Filtering with median model D:\\Sidevideos\\ar37motor\\2023_02_22\\144.avi\n"
     ]
    },
    {
     "name": "stderr",
     "output_type": "stream",
     "text": [
      "processing videos:  27%|██▋       | 52/195 [18:58<50:34, 21.22s/it]"
     ]
    },
    {
     "name": "stdout",
     "output_type": "stream",
     "text": [
      "Saving filtered csv poses!\n",
      "Using snapshot-500000 for model D:\\DLC\\SideviewLeft_Feb2022-Arash-2022-02-08\\dlc-models\\iteration-0\\SideviewLeft_Feb2022Feb8-trainset95shuffle2\n"
     ]
    },
    {
     "name": "stderr",
     "output_type": "stream",
     "text": [
      "c:\\Users\\dklab\\anaconda3\\envs\\DEEPLABCUT\\lib\\site-packages\\tensorflow\\python\\keras\\engine\\base_layer_v1.py:1694: UserWarning: `layer.apply` is deprecated and will be removed in a future version. Please use `layer.__call__` method instead.\n",
      "  warnings.warn('`layer.apply` is deprecated and '\n"
     ]
    },
    {
     "name": "stdout",
     "output_type": "stream",
     "text": [
      "Starting to analyze %  D:\\Sidevideos\\ar37motor\\2023_02_22\\145.avi\n",
      "Loading  D:\\Sidevideos\\ar37motor\\2023_02_22\\145.avi\n",
      "Duration of video [s]:  7.5 , recorded with  40.0 fps!\n",
      "Overall # of frames:  300  found with (before cropping) frame dimensions:  800 480\n",
      "Starting to extract posture\n"
     ]
    },
    {
     "name": "stderr",
     "output_type": "stream",
     "text": [
      "310it [00:18, 16.44it/s]\n",
      "processing videos:  27%|██▋       | 53/195 [19:22<52:06, 22.02s/it]"
     ]
    },
    {
     "name": "stdout",
     "output_type": "stream",
     "text": [
      "Saving results in D:\\Sidevideos\\ar37motor\\2023_02_22...\n",
      "Saving csv poses!\n",
      "The videos are analyzed. Now your research can truly start! \n",
      " You can create labeled videos with 'create_labeled_video'\n",
      "If the tracking is not satisfactory for some videos, consider expanding the training set. You can use the function 'extract_outlier_frames' to extract a few representative outlier frames.\n",
      "Filtering with median model D:\\Sidevideos\\ar37motor\\2023_02_22\\145.avi\n",
      "Saving filtered csv poses!\n",
      "Using snapshot-500000 for model D:\\DLC\\SideviewLeft_Feb2022-Arash-2022-02-08\\dlc-models\\iteration-0\\SideviewLeft_Feb2022Feb8-trainset95shuffle2\n"
     ]
    },
    {
     "name": "stderr",
     "output_type": "stream",
     "text": [
      "c:\\Users\\dklab\\anaconda3\\envs\\DEEPLABCUT\\lib\\site-packages\\tensorflow\\python\\keras\\engine\\base_layer_v1.py:1694: UserWarning: `layer.apply` is deprecated and will be removed in a future version. Please use `layer.__call__` method instead.\n",
      "  warnings.warn('`layer.apply` is deprecated and '\n"
     ]
    },
    {
     "name": "stdout",
     "output_type": "stream",
     "text": [
      "Starting to analyze %  D:\\Sidevideos\\ar37motor\\2023_02_22\\146.avi\n",
      "Loading  D:\\Sidevideos\\ar37motor\\2023_02_22\\146.avi\n",
      "Duration of video [s]:  7.5 , recorded with  40.0 fps!\n",
      "Overall # of frames:  300  found with (before cropping) frame dimensions:  800 480\n",
      "Starting to extract posture\n"
     ]
    },
    {
     "name": "stderr",
     "output_type": "stream",
     "text": [
      "310it [00:16, 19.12it/s]\n",
      "processing videos:  28%|██▊       | 54/195 [19:43<50:40, 21.56s/it]c:\\Users\\dklab\\anaconda3\\envs\\DEEPLABCUT\\lib\\site-packages\\tensorflow\\python\\keras\\engine\\base_layer_v1.py:1694: UserWarning: `layer.apply` is deprecated and will be removed in a future version. Please use `layer.__call__` method instead.\n",
      "  warnings.warn('`layer.apply` is deprecated and '\n"
     ]
    },
    {
     "name": "stdout",
     "output_type": "stream",
     "text": [
      "Saving results in D:\\Sidevideos\\ar37motor\\2023_02_22...\n",
      "Saving csv poses!\n",
      "The videos are analyzed. Now your research can truly start! \n",
      " You can create labeled videos with 'create_labeled_video'\n",
      "If the tracking is not satisfactory for some videos, consider expanding the training set. You can use the function 'extract_outlier_frames' to extract a few representative outlier frames.\n",
      "Filtering with median model D:\\Sidevideos\\ar37motor\\2023_02_22\\146.avi\n",
      "Saving filtered csv poses!\n",
      "Using snapshot-500000 for model D:\\DLC\\SideviewLeft_Feb2022-Arash-2022-02-08\\dlc-models\\iteration-0\\SideviewLeft_Feb2022Feb8-trainset95shuffle2\n",
      "Starting to analyze %  D:\\Sidevideos\\ar37motor\\2023_02_22\\147.avi\n",
      "Loading  D:\\Sidevideos\\ar37motor\\2023_02_22\\147.avi\n",
      "Duration of video [s]:  7.5 , recorded with  40.0 fps!\n",
      "Overall # of frames:  300  found with (before cropping) frame dimensions:  800 480\n",
      "Starting to extract posture\n"
     ]
    },
    {
     "name": "stderr",
     "output_type": "stream",
     "text": [
      "310it [00:16, 18.60it/s]\n",
      "processing videos:  28%|██▊       | 55/195 [20:03<49:47, 21.34s/it]c:\\Users\\dklab\\anaconda3\\envs\\DEEPLABCUT\\lib\\site-packages\\tensorflow\\python\\keras\\engine\\base_layer_v1.py:1694: UserWarning: `layer.apply` is deprecated and will be removed in a future version. Please use `layer.__call__` method instead.\n",
      "  warnings.warn('`layer.apply` is deprecated and '\n"
     ]
    },
    {
     "name": "stdout",
     "output_type": "stream",
     "text": [
      "Saving results in D:\\Sidevideos\\ar37motor\\2023_02_22...\n",
      "Saving csv poses!\n",
      "The videos are analyzed. Now your research can truly start! \n",
      " You can create labeled videos with 'create_labeled_video'\n",
      "If the tracking is not satisfactory for some videos, consider expanding the training set. You can use the function 'extract_outlier_frames' to extract a few representative outlier frames.\n",
      "Filtering with median model D:\\Sidevideos\\ar37motor\\2023_02_22\\147.avi\n",
      "Saving filtered csv poses!\n",
      "Using snapshot-500000 for model D:\\DLC\\SideviewLeft_Feb2022-Arash-2022-02-08\\dlc-models\\iteration-0\\SideviewLeft_Feb2022Feb8-trainset95shuffle2\n",
      "Starting to analyze %  D:\\Sidevideos\\ar37motor\\2023_02_22\\148.avi\n",
      "Loading  D:\\Sidevideos\\ar37motor\\2023_02_22\\148.avi\n",
      "Duration of video [s]:  7.5 , recorded with  40.0 fps!\n",
      "Overall # of frames:  300  found with (before cropping) frame dimensions:  800 480\n",
      "Starting to extract posture\n"
     ]
    },
    {
     "name": "stderr",
     "output_type": "stream",
     "text": [
      "310it [00:16, 19.03it/s]\n",
      "processing videos:  29%|██▊       | 56/195 [20:24<48:59, 21.15s/it]"
     ]
    },
    {
     "name": "stdout",
     "output_type": "stream",
     "text": [
      "Saving results in D:\\Sidevideos\\ar37motor\\2023_02_22...\n",
      "Saving csv poses!\n",
      "The videos are analyzed. Now your research can truly start! \n",
      " You can create labeled videos with 'create_labeled_video'\n",
      "If the tracking is not satisfactory for some videos, consider expanding the training set. You can use the function 'extract_outlier_frames' to extract a few representative outlier frames.\n",
      "Filtering with median model D:\\Sidevideos\\ar37motor\\2023_02_22\\148.avi\n",
      "Saving filtered csv poses!\n",
      "Using snapshot-500000 for model D:\\DLC\\SideviewLeft_Feb2022-Arash-2022-02-08\\dlc-models\\iteration-0\\SideviewLeft_Feb2022Feb8-trainset95shuffle2\n"
     ]
    },
    {
     "name": "stderr",
     "output_type": "stream",
     "text": [
      "c:\\Users\\dklab\\anaconda3\\envs\\DEEPLABCUT\\lib\\site-packages\\tensorflow\\python\\keras\\engine\\base_layer_v1.py:1694: UserWarning: `layer.apply` is deprecated and will be removed in a future version. Please use `layer.__call__` method instead.\n",
      "  warnings.warn('`layer.apply` is deprecated and '\n"
     ]
    },
    {
     "name": "stdout",
     "output_type": "stream",
     "text": [
      "Starting to analyze %  D:\\Sidevideos\\ar37motor\\2023_02_22\\149.avi\n",
      "Loading  D:\\Sidevideos\\ar37motor\\2023_02_22\\149.avi\n",
      "Duration of video [s]:  7.5 , recorded with  40.0 fps!\n",
      "Overall # of frames:  300  found with (before cropping) frame dimensions:  800 480\n",
      "Starting to extract posture\n"
     ]
    },
    {
     "name": "stderr",
     "output_type": "stream",
     "text": [
      "310it [00:16, 19.14it/s]\n",
      "processing videos:  29%|██▉       | 57/195 [20:45<48:14, 20.98s/it]c:\\Users\\dklab\\anaconda3\\envs\\DEEPLABCUT\\lib\\site-packages\\tensorflow\\python\\keras\\engine\\base_layer_v1.py:1694: UserWarning: `layer.apply` is deprecated and will be removed in a future version. Please use `layer.__call__` method instead.\n",
      "  warnings.warn('`layer.apply` is deprecated and '\n"
     ]
    },
    {
     "name": "stdout",
     "output_type": "stream",
     "text": [
      "Saving results in D:\\Sidevideos\\ar37motor\\2023_02_22...\n",
      "Saving csv poses!\n",
      "The videos are analyzed. Now your research can truly start! \n",
      " You can create labeled videos with 'create_labeled_video'\n",
      "If the tracking is not satisfactory for some videos, consider expanding the training set. You can use the function 'extract_outlier_frames' to extract a few representative outlier frames.\n",
      "Filtering with median model D:\\Sidevideos\\ar37motor\\2023_02_22\\149.avi\n",
      "Saving filtered csv poses!\n",
      "Using snapshot-500000 for model D:\\DLC\\SideviewLeft_Feb2022-Arash-2022-02-08\\dlc-models\\iteration-0\\SideviewLeft_Feb2022Feb8-trainset95shuffle2\n",
      "Starting to analyze %  D:\\Sidevideos\\ar37motor\\2023_02_22\\15.avi\n",
      "Loading  D:\\Sidevideos\\ar37motor\\2023_02_22\\15.avi\n",
      "Duration of video [s]:  7.5 , recorded with  40.0 fps!\n",
      "Overall # of frames:  300  found with (before cropping) frame dimensions:  800 480\n",
      "Starting to extract posture\n"
     ]
    },
    {
     "name": "stderr",
     "output_type": "stream",
     "text": [
      "310it [00:16, 19.03it/s]\n"
     ]
    },
    {
     "name": "stdout",
     "output_type": "stream",
     "text": [
      "Saving results in D:\\Sidevideos\\ar37motor\\2023_02_22...\n",
      "Saving csv poses!\n",
      "The videos are analyzed. Now your research can truly start! \n",
      " You can create labeled videos with 'create_labeled_video'\n",
      "If the tracking is not satisfactory for some videos, consider expanding the training set. You can use the function 'extract_outlier_frames' to extract a few representative outlier frames.\n",
      "Filtering with median model D:\\Sidevideos\\ar37motor\\2023_02_22\\15.avi\n"
     ]
    },
    {
     "name": "stderr",
     "output_type": "stream",
     "text": [
      "processing videos:  30%|██▉       | 58/195 [21:05<47:37, 20.86s/it]"
     ]
    },
    {
     "name": "stdout",
     "output_type": "stream",
     "text": [
      "Saving filtered csv poses!\n",
      "Using snapshot-500000 for model D:\\DLC\\SideviewLeft_Feb2022-Arash-2022-02-08\\dlc-models\\iteration-0\\SideviewLeft_Feb2022Feb8-trainset95shuffle2\n"
     ]
    },
    {
     "name": "stderr",
     "output_type": "stream",
     "text": [
      "c:\\Users\\dklab\\anaconda3\\envs\\DEEPLABCUT\\lib\\site-packages\\tensorflow\\python\\keras\\engine\\base_layer_v1.py:1694: UserWarning: `layer.apply` is deprecated and will be removed in a future version. Please use `layer.__call__` method instead.\n",
      "  warnings.warn('`layer.apply` is deprecated and '\n"
     ]
    },
    {
     "name": "stdout",
     "output_type": "stream",
     "text": [
      "Starting to analyze %  D:\\Sidevideos\\ar37motor\\2023_02_22\\150.avi\n",
      "Loading  D:\\Sidevideos\\ar37motor\\2023_02_22\\150.avi\n",
      "Duration of video [s]:  7.5 , recorded with  40.0 fps!\n",
      "Overall # of frames:  300  found with (before cropping) frame dimensions:  800 480\n",
      "Starting to extract posture\n"
     ]
    },
    {
     "name": "stderr",
     "output_type": "stream",
     "text": [
      "310it [00:16, 19.06it/s]\n",
      "processing videos:  30%|███       | 59/195 [21:26<46:58, 20.73s/it]c:\\Users\\dklab\\anaconda3\\envs\\DEEPLABCUT\\lib\\site-packages\\tensorflow\\python\\keras\\engine\\base_layer_v1.py:1694: UserWarning: `layer.apply` is deprecated and will be removed in a future version. Please use `layer.__call__` method instead.\n",
      "  warnings.warn('`layer.apply` is deprecated and '\n"
     ]
    },
    {
     "name": "stdout",
     "output_type": "stream",
     "text": [
      "Saving results in D:\\Sidevideos\\ar37motor\\2023_02_22...\n",
      "Saving csv poses!\n",
      "The videos are analyzed. Now your research can truly start! \n",
      " You can create labeled videos with 'create_labeled_video'\n",
      "If the tracking is not satisfactory for some videos, consider expanding the training set. You can use the function 'extract_outlier_frames' to extract a few representative outlier frames.\n",
      "Filtering with median model D:\\Sidevideos\\ar37motor\\2023_02_22\\150.avi\n",
      "Saving filtered csv poses!\n",
      "Using snapshot-500000 for model D:\\DLC\\SideviewLeft_Feb2022-Arash-2022-02-08\\dlc-models\\iteration-0\\SideviewLeft_Feb2022Feb8-trainset95shuffle2\n",
      "Starting to analyze %  D:\\Sidevideos\\ar37motor\\2023_02_22\\151.avi\n",
      "Loading  D:\\Sidevideos\\ar37motor\\2023_02_22\\151.avi\n",
      "Duration of video [s]:  7.5 , recorded with  40.0 fps!\n",
      "Overall # of frames:  300  found with (before cropping) frame dimensions:  800 480\n",
      "Starting to extract posture\n"
     ]
    },
    {
     "name": "stderr",
     "output_type": "stream",
     "text": [
      "310it [00:16, 18.67it/s]\n",
      "processing videos:  31%|███       | 60/195 [21:46<46:38, 20.73s/it]"
     ]
    },
    {
     "name": "stdout",
     "output_type": "stream",
     "text": [
      "Saving results in D:\\Sidevideos\\ar37motor\\2023_02_22...\n",
      "Saving csv poses!\n",
      "The videos are analyzed. Now your research can truly start! \n",
      " You can create labeled videos with 'create_labeled_video'\n",
      "If the tracking is not satisfactory for some videos, consider expanding the training set. You can use the function 'extract_outlier_frames' to extract a few representative outlier frames.\n",
      "Filtering with median model D:\\Sidevideos\\ar37motor\\2023_02_22\\151.avi\n",
      "Saving filtered csv poses!\n",
      "Using snapshot-500000 for model D:\\DLC\\SideviewLeft_Feb2022-Arash-2022-02-08\\dlc-models\\iteration-0\\SideviewLeft_Feb2022Feb8-trainset95shuffle2\n"
     ]
    },
    {
     "name": "stderr",
     "output_type": "stream",
     "text": [
      "c:\\Users\\dklab\\anaconda3\\envs\\DEEPLABCUT\\lib\\site-packages\\tensorflow\\python\\keras\\engine\\base_layer_v1.py:1694: UserWarning: `layer.apply` is deprecated and will be removed in a future version. Please use `layer.__call__` method instead.\n",
      "  warnings.warn('`layer.apply` is deprecated and '\n"
     ]
    },
    {
     "name": "stdout",
     "output_type": "stream",
     "text": [
      "Starting to analyze %  D:\\Sidevideos\\ar37motor\\2023_02_22\\152.avi\n",
      "Loading  D:\\Sidevideos\\ar37motor\\2023_02_22\\152.avi\n",
      "Duration of video [s]:  7.5 , recorded with  40.0 fps!\n",
      "Overall # of frames:  300  found with (before cropping) frame dimensions:  800 480\n",
      "Starting to extract posture\n"
     ]
    },
    {
     "name": "stderr",
     "output_type": "stream",
     "text": [
      "310it [00:16, 19.33it/s]\n",
      "processing videos:  31%|███▏      | 61/195 [22:07<46:13, 20.70s/it]"
     ]
    },
    {
     "name": "stdout",
     "output_type": "stream",
     "text": [
      "Saving results in D:\\Sidevideos\\ar37motor\\2023_02_22...\n",
      "Saving csv poses!\n",
      "The videos are analyzed. Now your research can truly start! \n",
      " You can create labeled videos with 'create_labeled_video'\n",
      "If the tracking is not satisfactory for some videos, consider expanding the training set. You can use the function 'extract_outlier_frames' to extract a few representative outlier frames.\n",
      "Filtering with median model D:\\Sidevideos\\ar37motor\\2023_02_22\\152.avi\n",
      "Saving filtered csv poses!\n",
      "Using snapshot-500000 for model D:\\DLC\\SideviewLeft_Feb2022-Arash-2022-02-08\\dlc-models\\iteration-0\\SideviewLeft_Feb2022Feb8-trainset95shuffle2\n"
     ]
    },
    {
     "name": "stderr",
     "output_type": "stream",
     "text": [
      "c:\\Users\\dklab\\anaconda3\\envs\\DEEPLABCUT\\lib\\site-packages\\tensorflow\\python\\keras\\engine\\base_layer_v1.py:1694: UserWarning: `layer.apply` is deprecated and will be removed in a future version. Please use `layer.__call__` method instead.\n",
      "  warnings.warn('`layer.apply` is deprecated and '\n"
     ]
    },
    {
     "name": "stdout",
     "output_type": "stream",
     "text": [
      "Starting to analyze %  D:\\Sidevideos\\ar37motor\\2023_02_22\\153.avi\n",
      "Loading  D:\\Sidevideos\\ar37motor\\2023_02_22\\153.avi\n",
      "Duration of video [s]:  7.5 , recorded with  40.0 fps!\n",
      "Overall # of frames:  300  found with (before cropping) frame dimensions:  800 480\n",
      "Starting to extract posture\n"
     ]
    },
    {
     "name": "stderr",
     "output_type": "stream",
     "text": [
      "310it [00:16, 18.44it/s]\n",
      "processing videos:  32%|███▏      | 62/195 [22:28<46:07, 20.81s/it]"
     ]
    },
    {
     "name": "stdout",
     "output_type": "stream",
     "text": [
      "Saving results in D:\\Sidevideos\\ar37motor\\2023_02_22...\n",
      "Saving csv poses!\n",
      "The videos are analyzed. Now your research can truly start! \n",
      " You can create labeled videos with 'create_labeled_video'\n",
      "If the tracking is not satisfactory for some videos, consider expanding the training set. You can use the function 'extract_outlier_frames' to extract a few representative outlier frames.\n",
      "Filtering with median model D:\\Sidevideos\\ar37motor\\2023_02_22\\153.avi\n",
      "Saving filtered csv poses!\n",
      "Using snapshot-500000 for model D:\\DLC\\SideviewLeft_Feb2022-Arash-2022-02-08\\dlc-models\\iteration-0\\SideviewLeft_Feb2022Feb8-trainset95shuffle2\n"
     ]
    },
    {
     "name": "stderr",
     "output_type": "stream",
     "text": [
      "c:\\Users\\dklab\\anaconda3\\envs\\DEEPLABCUT\\lib\\site-packages\\tensorflow\\python\\keras\\engine\\base_layer_v1.py:1694: UserWarning: `layer.apply` is deprecated and will be removed in a future version. Please use `layer.__call__` method instead.\n",
      "  warnings.warn('`layer.apply` is deprecated and '\n"
     ]
    },
    {
     "name": "stdout",
     "output_type": "stream",
     "text": [
      "Starting to analyze %  D:\\Sidevideos\\ar37motor\\2023_02_22\\154.avi\n",
      "Loading  D:\\Sidevideos\\ar37motor\\2023_02_22\\154.avi\n",
      "Duration of video [s]:  7.5 , recorded with  40.0 fps!\n",
      "Overall # of frames:  300  found with (before cropping) frame dimensions:  800 480\n",
      "Starting to extract posture\n"
     ]
    },
    {
     "name": "stderr",
     "output_type": "stream",
     "text": [
      "310it [00:16, 18.99it/s]\n",
      "processing videos:  32%|███▏      | 63/195 [22:49<45:37, 20.74s/it]"
     ]
    },
    {
     "name": "stdout",
     "output_type": "stream",
     "text": [
      "Saving results in D:\\Sidevideos\\ar37motor\\2023_02_22...\n",
      "Saving csv poses!\n",
      "The videos are analyzed. Now your research can truly start! \n",
      " You can create labeled videos with 'create_labeled_video'\n",
      "If the tracking is not satisfactory for some videos, consider expanding the training set. You can use the function 'extract_outlier_frames' to extract a few representative outlier frames.\n",
      "Filtering with median model D:\\Sidevideos\\ar37motor\\2023_02_22\\154.avi\n",
      "Saving filtered csv poses!\n",
      "Using snapshot-500000 for model D:\\DLC\\SideviewLeft_Feb2022-Arash-2022-02-08\\dlc-models\\iteration-0\\SideviewLeft_Feb2022Feb8-trainset95shuffle2\n"
     ]
    },
    {
     "name": "stderr",
     "output_type": "stream",
     "text": [
      "c:\\Users\\dklab\\anaconda3\\envs\\DEEPLABCUT\\lib\\site-packages\\tensorflow\\python\\keras\\engine\\base_layer_v1.py:1694: UserWarning: `layer.apply` is deprecated and will be removed in a future version. Please use `layer.__call__` method instead.\n",
      "  warnings.warn('`layer.apply` is deprecated and '\n"
     ]
    },
    {
     "name": "stdout",
     "output_type": "stream",
     "text": [
      "Starting to analyze %  D:\\Sidevideos\\ar37motor\\2023_02_22\\155.avi\n",
      "Loading  D:\\Sidevideos\\ar37motor\\2023_02_22\\155.avi\n",
      "Duration of video [s]:  7.5 , recorded with  40.0 fps!\n",
      "Overall # of frames:  300  found with (before cropping) frame dimensions:  800 480\n",
      "Starting to extract posture\n"
     ]
    },
    {
     "name": "stderr",
     "output_type": "stream",
     "text": [
      "310it [00:16, 19.09it/s]\n",
      "processing videos:  33%|███▎      | 64/195 [23:09<45:15, 20.73s/it]"
     ]
    },
    {
     "name": "stdout",
     "output_type": "stream",
     "text": [
      "Saving results in D:\\Sidevideos\\ar37motor\\2023_02_22...\n",
      "Saving csv poses!\n",
      "The videos are analyzed. Now your research can truly start! \n",
      " You can create labeled videos with 'create_labeled_video'\n",
      "If the tracking is not satisfactory for some videos, consider expanding the training set. You can use the function 'extract_outlier_frames' to extract a few representative outlier frames.\n",
      "Filtering with median model D:\\Sidevideos\\ar37motor\\2023_02_22\\155.avi\n",
      "Saving filtered csv poses!\n",
      "Using snapshot-500000 for model D:\\DLC\\SideviewLeft_Feb2022-Arash-2022-02-08\\dlc-models\\iteration-0\\SideviewLeft_Feb2022Feb8-trainset95shuffle2\n"
     ]
    },
    {
     "name": "stderr",
     "output_type": "stream",
     "text": [
      "c:\\Users\\dklab\\anaconda3\\envs\\DEEPLABCUT\\lib\\site-packages\\tensorflow\\python\\keras\\engine\\base_layer_v1.py:1694: UserWarning: `layer.apply` is deprecated and will be removed in a future version. Please use `layer.__call__` method instead.\n",
      "  warnings.warn('`layer.apply` is deprecated and '\n"
     ]
    },
    {
     "name": "stdout",
     "output_type": "stream",
     "text": [
      "Starting to analyze %  D:\\Sidevideos\\ar37motor\\2023_02_22\\156.avi\n",
      "Loading  D:\\Sidevideos\\ar37motor\\2023_02_22\\156.avi\n",
      "Duration of video [s]:  7.5 , recorded with  40.0 fps!\n",
      "Overall # of frames:  300  found with (before cropping) frame dimensions:  800 480\n",
      "Starting to extract posture\n"
     ]
    },
    {
     "name": "stderr",
     "output_type": "stream",
     "text": [
      "310it [00:16, 18.98it/s]\n",
      "processing videos:  33%|███▎      | 65/195 [23:30<44:45, 20.65s/it]"
     ]
    },
    {
     "name": "stdout",
     "output_type": "stream",
     "text": [
      "Saving results in D:\\Sidevideos\\ar37motor\\2023_02_22...\n",
      "Saving csv poses!\n",
      "The videos are analyzed. Now your research can truly start! \n",
      " You can create labeled videos with 'create_labeled_video'\n",
      "If the tracking is not satisfactory for some videos, consider expanding the training set. You can use the function 'extract_outlier_frames' to extract a few representative outlier frames.\n",
      "Filtering with median model D:\\Sidevideos\\ar37motor\\2023_02_22\\156.avi\n",
      "Saving filtered csv poses!\n",
      "Using snapshot-500000 for model D:\\DLC\\SideviewLeft_Feb2022-Arash-2022-02-08\\dlc-models\\iteration-0\\SideviewLeft_Feb2022Feb8-trainset95shuffle2\n"
     ]
    },
    {
     "name": "stderr",
     "output_type": "stream",
     "text": [
      "c:\\Users\\dklab\\anaconda3\\envs\\DEEPLABCUT\\lib\\site-packages\\tensorflow\\python\\keras\\engine\\base_layer_v1.py:1694: UserWarning: `layer.apply` is deprecated and will be removed in a future version. Please use `layer.__call__` method instead.\n",
      "  warnings.warn('`layer.apply` is deprecated and '\n"
     ]
    },
    {
     "name": "stdout",
     "output_type": "stream",
     "text": [
      "Starting to analyze %  D:\\Sidevideos\\ar37motor\\2023_02_22\\157.avi\n",
      "Loading  D:\\Sidevideos\\ar37motor\\2023_02_22\\157.avi\n",
      "Duration of video [s]:  7.5 , recorded with  40.0 fps!\n",
      "Overall # of frames:  300  found with (before cropping) frame dimensions:  800 480\n",
      "Starting to extract posture\n"
     ]
    },
    {
     "name": "stderr",
     "output_type": "stream",
     "text": [
      "310it [00:16, 18.86it/s]\n",
      "processing videos:  34%|███▍      | 66/195 [23:51<44:23, 20.65s/it]"
     ]
    },
    {
     "name": "stdout",
     "output_type": "stream",
     "text": [
      "Saving results in D:\\Sidevideos\\ar37motor\\2023_02_22...\n",
      "Saving csv poses!\n",
      "The videos are analyzed. Now your research can truly start! \n",
      " You can create labeled videos with 'create_labeled_video'\n",
      "If the tracking is not satisfactory for some videos, consider expanding the training set. You can use the function 'extract_outlier_frames' to extract a few representative outlier frames.\n",
      "Filtering with median model D:\\Sidevideos\\ar37motor\\2023_02_22\\157.avi\n",
      "Saving filtered csv poses!\n",
      "Using snapshot-500000 for model D:\\DLC\\SideviewLeft_Feb2022-Arash-2022-02-08\\dlc-models\\iteration-0\\SideviewLeft_Feb2022Feb8-trainset95shuffle2\n"
     ]
    },
    {
     "name": "stderr",
     "output_type": "stream",
     "text": [
      "c:\\Users\\dklab\\anaconda3\\envs\\DEEPLABCUT\\lib\\site-packages\\tensorflow\\python\\keras\\engine\\base_layer_v1.py:1694: UserWarning: `layer.apply` is deprecated and will be removed in a future version. Please use `layer.__call__` method instead.\n",
      "  warnings.warn('`layer.apply` is deprecated and '\n"
     ]
    },
    {
     "name": "stdout",
     "output_type": "stream",
     "text": [
      "Starting to analyze %  D:\\Sidevideos\\ar37motor\\2023_02_22\\158.avi\n",
      "Loading  D:\\Sidevideos\\ar37motor\\2023_02_22\\158.avi\n",
      "Duration of video [s]:  7.5 , recorded with  40.0 fps!\n",
      "Overall # of frames:  300  found with (before cropping) frame dimensions:  800 480\n",
      "Starting to extract posture\n"
     ]
    },
    {
     "name": "stderr",
     "output_type": "stream",
     "text": [
      "310it [00:16, 19.29it/s]\n",
      "processing videos:  34%|███▍      | 67/195 [24:11<43:58, 20.61s/it]c:\\Users\\dklab\\anaconda3\\envs\\DEEPLABCUT\\lib\\site-packages\\tensorflow\\python\\keras\\engine\\base_layer_v1.py:1694: UserWarning: `layer.apply` is deprecated and will be removed in a future version. Please use `layer.__call__` method instead.\n",
      "  warnings.warn('`layer.apply` is deprecated and '\n"
     ]
    },
    {
     "name": "stdout",
     "output_type": "stream",
     "text": [
      "Saving results in D:\\Sidevideos\\ar37motor\\2023_02_22...\n",
      "Saving csv poses!\n",
      "The videos are analyzed. Now your research can truly start! \n",
      " You can create labeled videos with 'create_labeled_video'\n",
      "If the tracking is not satisfactory for some videos, consider expanding the training set. You can use the function 'extract_outlier_frames' to extract a few representative outlier frames.\n",
      "Filtering with median model D:\\Sidevideos\\ar37motor\\2023_02_22\\158.avi\n",
      "Saving filtered csv poses!\n",
      "Using snapshot-500000 for model D:\\DLC\\SideviewLeft_Feb2022-Arash-2022-02-08\\dlc-models\\iteration-0\\SideviewLeft_Feb2022Feb8-trainset95shuffle2\n",
      "Starting to analyze %  D:\\Sidevideos\\ar37motor\\2023_02_22\\159.avi\n",
      "Loading  D:\\Sidevideos\\ar37motor\\2023_02_22\\159.avi\n",
      "Duration of video [s]:  7.5 , recorded with  40.0 fps!\n",
      "Overall # of frames:  300  found with (before cropping) frame dimensions:  800 480\n",
      "Starting to extract posture\n"
     ]
    },
    {
     "name": "stderr",
     "output_type": "stream",
     "text": [
      "310it [00:15, 19.45it/s]\n",
      "processing videos:  35%|███▍      | 68/195 [24:31<43:22, 20.49s/it]"
     ]
    },
    {
     "name": "stdout",
     "output_type": "stream",
     "text": [
      "Saving results in D:\\Sidevideos\\ar37motor\\2023_02_22...\n",
      "Saving csv poses!\n",
      "The videos are analyzed. Now your research can truly start! \n",
      " You can create labeled videos with 'create_labeled_video'\n",
      "If the tracking is not satisfactory for some videos, consider expanding the training set. You can use the function 'extract_outlier_frames' to extract a few representative outlier frames.\n",
      "Filtering with median model D:\\Sidevideos\\ar37motor\\2023_02_22\\159.avi\n",
      "Saving filtered csv poses!\n",
      "Using snapshot-500000 for model D:\\DLC\\SideviewLeft_Feb2022-Arash-2022-02-08\\dlc-models\\iteration-0\\SideviewLeft_Feb2022Feb8-trainset95shuffle2\n"
     ]
    },
    {
     "name": "stderr",
     "output_type": "stream",
     "text": [
      "c:\\Users\\dklab\\anaconda3\\envs\\DEEPLABCUT\\lib\\site-packages\\tensorflow\\python\\keras\\engine\\base_layer_v1.py:1694: UserWarning: `layer.apply` is deprecated and will be removed in a future version. Please use `layer.__call__` method instead.\n",
      "  warnings.warn('`layer.apply` is deprecated and '\n"
     ]
    },
    {
     "name": "stdout",
     "output_type": "stream",
     "text": [
      "Starting to analyze %  D:\\Sidevideos\\ar37motor\\2023_02_22\\16.avi\n",
      "Loading  D:\\Sidevideos\\ar37motor\\2023_02_22\\16.avi\n",
      "Duration of video [s]:  7.5 , recorded with  40.0 fps!\n",
      "Overall # of frames:  300  found with (before cropping) frame dimensions:  800 480\n",
      "Starting to extract posture\n"
     ]
    },
    {
     "name": "stderr",
     "output_type": "stream",
     "text": [
      "310it [00:16, 18.93it/s]\n",
      "processing videos:  35%|███▌      | 69/195 [24:52<43:04, 20.51s/it]"
     ]
    },
    {
     "name": "stdout",
     "output_type": "stream",
     "text": [
      "Saving results in D:\\Sidevideos\\ar37motor\\2023_02_22...\n",
      "Saving csv poses!\n",
      "The videos are analyzed. Now your research can truly start! \n",
      " You can create labeled videos with 'create_labeled_video'\n",
      "If the tracking is not satisfactory for some videos, consider expanding the training set. You can use the function 'extract_outlier_frames' to extract a few representative outlier frames.\n",
      "Filtering with median model D:\\Sidevideos\\ar37motor\\2023_02_22\\16.avi\n",
      "Saving filtered csv poses!\n",
      "Using snapshot-500000 for model D:\\DLC\\SideviewLeft_Feb2022-Arash-2022-02-08\\dlc-models\\iteration-0\\SideviewLeft_Feb2022Feb8-trainset95shuffle2\n"
     ]
    },
    {
     "name": "stderr",
     "output_type": "stream",
     "text": [
      "c:\\Users\\dklab\\anaconda3\\envs\\DEEPLABCUT\\lib\\site-packages\\tensorflow\\python\\keras\\engine\\base_layer_v1.py:1694: UserWarning: `layer.apply` is deprecated and will be removed in a future version. Please use `layer.__call__` method instead.\n",
      "  warnings.warn('`layer.apply` is deprecated and '\n"
     ]
    },
    {
     "name": "stdout",
     "output_type": "stream",
     "text": [
      "Starting to analyze %  D:\\Sidevideos\\ar37motor\\2023_02_22\\160.avi\n",
      "Loading  D:\\Sidevideos\\ar37motor\\2023_02_22\\160.avi\n",
      "Duration of video [s]:  7.5 , recorded with  40.0 fps!\n",
      "Overall # of frames:  300  found with (before cropping) frame dimensions:  800 480\n",
      "Starting to extract posture\n"
     ]
    },
    {
     "name": "stderr",
     "output_type": "stream",
     "text": [
      "310it [00:16, 19.05it/s]\n",
      "processing videos:  36%|███▌      | 70/195 [25:13<42:51, 20.57s/it]"
     ]
    },
    {
     "name": "stdout",
     "output_type": "stream",
     "text": [
      "Saving results in D:\\Sidevideos\\ar37motor\\2023_02_22...\n",
      "Saving csv poses!\n",
      "The videos are analyzed. Now your research can truly start! \n",
      " You can create labeled videos with 'create_labeled_video'\n",
      "If the tracking is not satisfactory for some videos, consider expanding the training set. You can use the function 'extract_outlier_frames' to extract a few representative outlier frames.\n",
      "Filtering with median model D:\\Sidevideos\\ar37motor\\2023_02_22\\160.avi\n",
      "Saving filtered csv poses!\n",
      "Using snapshot-500000 for model D:\\DLC\\SideviewLeft_Feb2022-Arash-2022-02-08\\dlc-models\\iteration-0\\SideviewLeft_Feb2022Feb8-trainset95shuffle2\n"
     ]
    },
    {
     "name": "stderr",
     "output_type": "stream",
     "text": [
      "c:\\Users\\dklab\\anaconda3\\envs\\DEEPLABCUT\\lib\\site-packages\\tensorflow\\python\\keras\\engine\\base_layer_v1.py:1694: UserWarning: `layer.apply` is deprecated and will be removed in a future version. Please use `layer.__call__` method instead.\n",
      "  warnings.warn('`layer.apply` is deprecated and '\n"
     ]
    },
    {
     "name": "stdout",
     "output_type": "stream",
     "text": [
      "Starting to analyze %  D:\\Sidevideos\\ar37motor\\2023_02_22\\161.avi\n",
      "Loading  D:\\Sidevideos\\ar37motor\\2023_02_22\\161.avi\n",
      "Duration of video [s]:  7.5 , recorded with  40.0 fps!\n",
      "Overall # of frames:  300  found with (before cropping) frame dimensions:  800 480\n",
      "Starting to extract posture\n"
     ]
    },
    {
     "name": "stderr",
     "output_type": "stream",
     "text": [
      "310it [00:16, 19.14it/s]\n",
      "processing videos:  36%|███▋      | 71/195 [25:33<42:25, 20.53s/it]c:\\Users\\dklab\\anaconda3\\envs\\DEEPLABCUT\\lib\\site-packages\\tensorflow\\python\\keras\\engine\\base_layer_v1.py:1694: UserWarning: `layer.apply` is deprecated and will be removed in a future version. Please use `layer.__call__` method instead.\n",
      "  warnings.warn('`layer.apply` is deprecated and '\n"
     ]
    },
    {
     "name": "stdout",
     "output_type": "stream",
     "text": [
      "Saving results in D:\\Sidevideos\\ar37motor\\2023_02_22...\n",
      "Saving csv poses!\n",
      "The videos are analyzed. Now your research can truly start! \n",
      " You can create labeled videos with 'create_labeled_video'\n",
      "If the tracking is not satisfactory for some videos, consider expanding the training set. You can use the function 'extract_outlier_frames' to extract a few representative outlier frames.\n",
      "Filtering with median model D:\\Sidevideos\\ar37motor\\2023_02_22\\161.avi\n",
      "Saving filtered csv poses!\n",
      "Using snapshot-500000 for model D:\\DLC\\SideviewLeft_Feb2022-Arash-2022-02-08\\dlc-models\\iteration-0\\SideviewLeft_Feb2022Feb8-trainset95shuffle2\n",
      "Starting to analyze %  D:\\Sidevideos\\ar37motor\\2023_02_22\\162.avi\n",
      "Loading  D:\\Sidevideos\\ar37motor\\2023_02_22\\162.avi\n",
      "Duration of video [s]:  7.5 , recorded with  40.0 fps!\n",
      "Overall # of frames:  300  found with (before cropping) frame dimensions:  800 480\n",
      "Starting to extract posture\n"
     ]
    },
    {
     "name": "stderr",
     "output_type": "stream",
     "text": [
      "310it [00:16, 19.05it/s]\n",
      "processing videos:  37%|███▋      | 72/195 [25:54<42:09, 20.57s/it]"
     ]
    },
    {
     "name": "stdout",
     "output_type": "stream",
     "text": [
      "Saving results in D:\\Sidevideos\\ar37motor\\2023_02_22...\n",
      "Saving csv poses!\n",
      "The videos are analyzed. Now your research can truly start! \n",
      " You can create labeled videos with 'create_labeled_video'\n",
      "If the tracking is not satisfactory for some videos, consider expanding the training set. You can use the function 'extract_outlier_frames' to extract a few representative outlier frames.\n",
      "Filtering with median model D:\\Sidevideos\\ar37motor\\2023_02_22\\162.avi\n",
      "Saving filtered csv poses!\n"
     ]
    },
    {
     "name": "stderr",
     "output_type": "stream",
     "text": [
      "c:\\Users\\dklab\\anaconda3\\envs\\DEEPLABCUT\\lib\\site-packages\\tensorflow\\python\\keras\\engine\\base_layer_v1.py:1694: UserWarning: `layer.apply` is deprecated and will be removed in a future version. Please use `layer.__call__` method instead.\n",
      "  warnings.warn('`layer.apply` is deprecated and '\n"
     ]
    },
    {
     "name": "stdout",
     "output_type": "stream",
     "text": [
      "Using snapshot-500000 for model D:\\DLC\\SideviewLeft_Feb2022-Arash-2022-02-08\\dlc-models\\iteration-0\\SideviewLeft_Feb2022Feb8-trainset95shuffle2\n",
      "Starting to analyze %  D:\\Sidevideos\\ar37motor\\2023_02_22\\163.avi\n",
      "Loading  D:\\Sidevideos\\ar37motor\\2023_02_22\\163.avi\n",
      "Duration of video [s]:  7.5 , recorded with  40.0 fps!\n",
      "Overall # of frames:  300  found with (before cropping) frame dimensions:  800 480\n",
      "Starting to extract posture\n"
     ]
    },
    {
     "name": "stderr",
     "output_type": "stream",
     "text": [
      "310it [00:16, 19.10it/s]\n",
      "processing videos:  37%|███▋      | 73/195 [26:14<41:49, 20.57s/it]c:\\Users\\dklab\\anaconda3\\envs\\DEEPLABCUT\\lib\\site-packages\\tensorflow\\python\\keras\\engine\\base_layer_v1.py:1694: UserWarning: `layer.apply` is deprecated and will be removed in a future version. Please use `layer.__call__` method instead.\n",
      "  warnings.warn('`layer.apply` is deprecated and '\n"
     ]
    },
    {
     "name": "stdout",
     "output_type": "stream",
     "text": [
      "Saving results in D:\\Sidevideos\\ar37motor\\2023_02_22...\n",
      "Saving csv poses!\n",
      "The videos are analyzed. Now your research can truly start! \n",
      " You can create labeled videos with 'create_labeled_video'\n",
      "If the tracking is not satisfactory for some videos, consider expanding the training set. You can use the function 'extract_outlier_frames' to extract a few representative outlier frames.\n",
      "Filtering with median model D:\\Sidevideos\\ar37motor\\2023_02_22\\163.avi\n",
      "Saving filtered csv poses!\n",
      "Using snapshot-500000 for model D:\\DLC\\SideviewLeft_Feb2022-Arash-2022-02-08\\dlc-models\\iteration-0\\SideviewLeft_Feb2022Feb8-trainset95shuffle2\n",
      "Starting to analyze %  D:\\Sidevideos\\ar37motor\\2023_02_22\\164.avi\n",
      "Loading  D:\\Sidevideos\\ar37motor\\2023_02_22\\164.avi\n",
      "Duration of video [s]:  7.5 , recorded with  40.0 fps!\n",
      "Overall # of frames:  300  found with (before cropping) frame dimensions:  800 480\n",
      "Starting to extract posture\n"
     ]
    },
    {
     "name": "stderr",
     "output_type": "stream",
     "text": [
      "310it [00:16, 18.88it/s]\n",
      "processing videos:  38%|███▊      | 74/195 [26:35<41:37, 20.64s/it]c:\\Users\\dklab\\anaconda3\\envs\\DEEPLABCUT\\lib\\site-packages\\tensorflow\\python\\keras\\engine\\base_layer_v1.py:1694: UserWarning: `layer.apply` is deprecated and will be removed in a future version. Please use `layer.__call__` method instead.\n",
      "  warnings.warn('`layer.apply` is deprecated and '\n"
     ]
    },
    {
     "name": "stdout",
     "output_type": "stream",
     "text": [
      "Saving results in D:\\Sidevideos\\ar37motor\\2023_02_22...\n",
      "Saving csv poses!\n",
      "The videos are analyzed. Now your research can truly start! \n",
      " You can create labeled videos with 'create_labeled_video'\n",
      "If the tracking is not satisfactory for some videos, consider expanding the training set. You can use the function 'extract_outlier_frames' to extract a few representative outlier frames.\n",
      "Filtering with median model D:\\Sidevideos\\ar37motor\\2023_02_22\\164.avi\n",
      "Saving filtered csv poses!\n",
      "Using snapshot-500000 for model D:\\DLC\\SideviewLeft_Feb2022-Arash-2022-02-08\\dlc-models\\iteration-0\\SideviewLeft_Feb2022Feb8-trainset95shuffle2\n",
      "Starting to analyze %  D:\\Sidevideos\\ar37motor\\2023_02_22\\165.avi\n",
      "Loading  D:\\Sidevideos\\ar37motor\\2023_02_22\\165.avi\n",
      "Duration of video [s]:  7.5 , recorded with  40.0 fps!\n",
      "Overall # of frames:  300  found with (before cropping) frame dimensions:  800 480\n",
      "Starting to extract posture\n"
     ]
    },
    {
     "name": "stderr",
     "output_type": "stream",
     "text": [
      "310it [00:16, 19.12it/s]\n",
      "processing videos:  38%|███▊      | 75/195 [26:56<41:14, 20.62s/it]"
     ]
    },
    {
     "name": "stdout",
     "output_type": "stream",
     "text": [
      "Saving results in D:\\Sidevideos\\ar37motor\\2023_02_22...\n",
      "Saving csv poses!\n",
      "The videos are analyzed. Now your research can truly start! \n",
      " You can create labeled videos with 'create_labeled_video'\n",
      "If the tracking is not satisfactory for some videos, consider expanding the training set. You can use the function 'extract_outlier_frames' to extract a few representative outlier frames.\n",
      "Filtering with median model D:\\Sidevideos\\ar37motor\\2023_02_22\\165.avi\n",
      "Saving filtered csv poses!\n",
      "Using snapshot-500000 for model D:\\DLC\\SideviewLeft_Feb2022-Arash-2022-02-08\\dlc-models\\iteration-0\\SideviewLeft_Feb2022Feb8-trainset95shuffle2\n"
     ]
    },
    {
     "name": "stderr",
     "output_type": "stream",
     "text": [
      "c:\\Users\\dklab\\anaconda3\\envs\\DEEPLABCUT\\lib\\site-packages\\tensorflow\\python\\keras\\engine\\base_layer_v1.py:1694: UserWarning: `layer.apply` is deprecated and will be removed in a future version. Please use `layer.__call__` method instead.\n",
      "  warnings.warn('`layer.apply` is deprecated and '\n"
     ]
    },
    {
     "name": "stdout",
     "output_type": "stream",
     "text": [
      "Starting to analyze %  D:\\Sidevideos\\ar37motor\\2023_02_22\\166.avi\n",
      "Loading  D:\\Sidevideos\\ar37motor\\2023_02_22\\166.avi\n",
      "Duration of video [s]:  7.5 , recorded with  40.0 fps!\n",
      "Overall # of frames:  300  found with (before cropping) frame dimensions:  800 480\n",
      "Starting to extract posture\n"
     ]
    },
    {
     "name": "stderr",
     "output_type": "stream",
     "text": [
      "310it [00:16, 19.26it/s]\n",
      "processing videos:  39%|███▉      | 76/195 [27:16<40:45, 20.55s/it]c:\\Users\\dklab\\anaconda3\\envs\\DEEPLABCUT\\lib\\site-packages\\tensorflow\\python\\keras\\engine\\base_layer_v1.py:1694: UserWarning: `layer.apply` is deprecated and will be removed in a future version. Please use `layer.__call__` method instead.\n",
      "  warnings.warn('`layer.apply` is deprecated and '\n"
     ]
    },
    {
     "name": "stdout",
     "output_type": "stream",
     "text": [
      "Saving results in D:\\Sidevideos\\ar37motor\\2023_02_22...\n",
      "Saving csv poses!\n",
      "The videos are analyzed. Now your research can truly start! \n",
      " You can create labeled videos with 'create_labeled_video'\n",
      "If the tracking is not satisfactory for some videos, consider expanding the training set. You can use the function 'extract_outlier_frames' to extract a few representative outlier frames.\n",
      "Filtering with median model D:\\Sidevideos\\ar37motor\\2023_02_22\\166.avi\n",
      "Saving filtered csv poses!\n",
      "Using snapshot-500000 for model D:\\DLC\\SideviewLeft_Feb2022-Arash-2022-02-08\\dlc-models\\iteration-0\\SideviewLeft_Feb2022Feb8-trainset95shuffle2\n",
      "Starting to analyze %  D:\\Sidevideos\\ar37motor\\2023_02_22\\167.avi\n",
      "Loading  D:\\Sidevideos\\ar37motor\\2023_02_22\\167.avi\n",
      "Duration of video [s]:  7.5 , recorded with  40.0 fps!\n",
      "Overall # of frames:  300  found with (before cropping) frame dimensions:  800 480\n",
      "Starting to extract posture\n"
     ]
    },
    {
     "name": "stderr",
     "output_type": "stream",
     "text": [
      "310it [00:15, 19.43it/s]\n",
      "processing videos:  39%|███▉      | 77/195 [27:37<40:23, 20.54s/it]"
     ]
    },
    {
     "name": "stdout",
     "output_type": "stream",
     "text": [
      "Saving results in D:\\Sidevideos\\ar37motor\\2023_02_22...\n",
      "Saving csv poses!\n",
      "The videos are analyzed. Now your research can truly start! \n",
      " You can create labeled videos with 'create_labeled_video'\n",
      "If the tracking is not satisfactory for some videos, consider expanding the training set. You can use the function 'extract_outlier_frames' to extract a few representative outlier frames.\n",
      "Filtering with median model D:\\Sidevideos\\ar37motor\\2023_02_22\\167.avi\n",
      "Saving filtered csv poses!\n",
      "Using snapshot-500000 for model D:\\DLC\\SideviewLeft_Feb2022-Arash-2022-02-08\\dlc-models\\iteration-0\\SideviewLeft_Feb2022Feb8-trainset95shuffle2\n"
     ]
    },
    {
     "name": "stderr",
     "output_type": "stream",
     "text": [
      "c:\\Users\\dklab\\anaconda3\\envs\\DEEPLABCUT\\lib\\site-packages\\tensorflow\\python\\keras\\engine\\base_layer_v1.py:1694: UserWarning: `layer.apply` is deprecated and will be removed in a future version. Please use `layer.__call__` method instead.\n",
      "  warnings.warn('`layer.apply` is deprecated and '\n"
     ]
    },
    {
     "name": "stdout",
     "output_type": "stream",
     "text": [
      "Starting to analyze %  D:\\Sidevideos\\ar37motor\\2023_02_22\\168.avi\n",
      "Loading  D:\\Sidevideos\\ar37motor\\2023_02_22\\168.avi\n",
      "Duration of video [s]:  7.5 , recorded with  40.0 fps!\n",
      "Overall # of frames:  300  found with (before cropping) frame dimensions:  800 480\n",
      "Starting to extract posture\n"
     ]
    },
    {
     "name": "stderr",
     "output_type": "stream",
     "text": [
      "310it [00:16, 19.27it/s]\n",
      "processing videos:  40%|████      | 78/195 [27:57<39:59, 20.51s/it]"
     ]
    },
    {
     "name": "stdout",
     "output_type": "stream",
     "text": [
      "Saving results in D:\\Sidevideos\\ar37motor\\2023_02_22...\n",
      "Saving csv poses!\n",
      "The videos are analyzed. Now your research can truly start! \n",
      " You can create labeled videos with 'create_labeled_video'\n",
      "If the tracking is not satisfactory for some videos, consider expanding the training set. You can use the function 'extract_outlier_frames' to extract a few representative outlier frames.\n",
      "Filtering with median model D:\\Sidevideos\\ar37motor\\2023_02_22\\168.avi\n",
      "Saving filtered csv poses!\n",
      "Using snapshot-500000 for model D:\\DLC\\SideviewLeft_Feb2022-Arash-2022-02-08\\dlc-models\\iteration-0\\SideviewLeft_Feb2022Feb8-trainset95shuffle2\n"
     ]
    },
    {
     "name": "stderr",
     "output_type": "stream",
     "text": [
      "c:\\Users\\dklab\\anaconda3\\envs\\DEEPLABCUT\\lib\\site-packages\\tensorflow\\python\\keras\\engine\\base_layer_v1.py:1694: UserWarning: `layer.apply` is deprecated and will be removed in a future version. Please use `layer.__call__` method instead.\n",
      "  warnings.warn('`layer.apply` is deprecated and '\n"
     ]
    },
    {
     "name": "stdout",
     "output_type": "stream",
     "text": [
      "Starting to analyze %  D:\\Sidevideos\\ar37motor\\2023_02_22\\169.avi\n",
      "Loading  D:\\Sidevideos\\ar37motor\\2023_02_22\\169.avi\n",
      "Duration of video [s]:  7.5 , recorded with  40.0 fps!\n",
      "Overall # of frames:  300  found with (before cropping) frame dimensions:  800 480\n",
      "Starting to extract posture\n"
     ]
    },
    {
     "name": "stderr",
     "output_type": "stream",
     "text": [
      "310it [00:16, 18.99it/s]\n",
      "processing videos:  41%|████      | 79/195 [28:17<39:36, 20.49s/it]c:\\Users\\dklab\\anaconda3\\envs\\DEEPLABCUT\\lib\\site-packages\\tensorflow\\python\\keras\\engine\\base_layer_v1.py:1694: UserWarning: `layer.apply` is deprecated and will be removed in a future version. Please use `layer.__call__` method instead.\n",
      "  warnings.warn('`layer.apply` is deprecated and '\n"
     ]
    },
    {
     "name": "stdout",
     "output_type": "stream",
     "text": [
      "Saving results in D:\\Sidevideos\\ar37motor\\2023_02_22...\n",
      "Saving csv poses!\n",
      "The videos are analyzed. Now your research can truly start! \n",
      " You can create labeled videos with 'create_labeled_video'\n",
      "If the tracking is not satisfactory for some videos, consider expanding the training set. You can use the function 'extract_outlier_frames' to extract a few representative outlier frames.\n",
      "Filtering with median model D:\\Sidevideos\\ar37motor\\2023_02_22\\169.avi\n",
      "Saving filtered csv poses!\n",
      "Using snapshot-500000 for model D:\\DLC\\SideviewLeft_Feb2022-Arash-2022-02-08\\dlc-models\\iteration-0\\SideviewLeft_Feb2022Feb8-trainset95shuffle2\n",
      "Starting to analyze %  D:\\Sidevideos\\ar37motor\\2023_02_22\\17.avi\n",
      "Loading  D:\\Sidevideos\\ar37motor\\2023_02_22\\17.avi\n",
      "Duration of video [s]:  7.5 , recorded with  40.0 fps!\n",
      "Overall # of frames:  300  found with (before cropping) frame dimensions:  800 480\n",
      "Starting to extract posture\n"
     ]
    },
    {
     "name": "stderr",
     "output_type": "stream",
     "text": [
      "310it [00:16, 18.98it/s]\n",
      "processing videos:  41%|████      | 80/195 [28:38<39:22, 20.55s/it]c:\\Users\\dklab\\anaconda3\\envs\\DEEPLABCUT\\lib\\site-packages\\tensorflow\\python\\keras\\engine\\base_layer_v1.py:1694: UserWarning: `layer.apply` is deprecated and will be removed in a future version. Please use `layer.__call__` method instead.\n",
      "  warnings.warn('`layer.apply` is deprecated and '\n"
     ]
    },
    {
     "name": "stdout",
     "output_type": "stream",
     "text": [
      "Saving results in D:\\Sidevideos\\ar37motor\\2023_02_22...\n",
      "Saving csv poses!\n",
      "The videos are analyzed. Now your research can truly start! \n",
      " You can create labeled videos with 'create_labeled_video'\n",
      "If the tracking is not satisfactory for some videos, consider expanding the training set. You can use the function 'extract_outlier_frames' to extract a few representative outlier frames.\n",
      "Filtering with median model D:\\Sidevideos\\ar37motor\\2023_02_22\\17.avi\n",
      "Saving filtered csv poses!\n",
      "Using snapshot-500000 for model D:\\DLC\\SideviewLeft_Feb2022-Arash-2022-02-08\\dlc-models\\iteration-0\\SideviewLeft_Feb2022Feb8-trainset95shuffle2\n",
      "Starting to analyze %  D:\\Sidevideos\\ar37motor\\2023_02_22\\170.avi\n",
      "Loading  D:\\Sidevideos\\ar37motor\\2023_02_22\\170.avi\n",
      "Duration of video [s]:  7.5 , recorded with  40.0 fps!\n",
      "Overall # of frames:  300  found with (before cropping) frame dimensions:  800 480\n",
      "Starting to extract posture\n"
     ]
    },
    {
     "name": "stderr",
     "output_type": "stream",
     "text": [
      "310it [00:16, 19.10it/s]\n",
      "processing videos:  42%|████▏     | 81/195 [28:59<39:01, 20.54s/it]"
     ]
    },
    {
     "name": "stdout",
     "output_type": "stream",
     "text": [
      "Saving results in D:\\Sidevideos\\ar37motor\\2023_02_22...\n",
      "Saving csv poses!\n",
      "The videos are analyzed. Now your research can truly start! \n",
      " You can create labeled videos with 'create_labeled_video'\n",
      "If the tracking is not satisfactory for some videos, consider expanding the training set. You can use the function 'extract_outlier_frames' to extract a few representative outlier frames.\n",
      "Filtering with median model D:\\Sidevideos\\ar37motor\\2023_02_22\\170.avi\n",
      "Saving filtered csv poses!\n",
      "Using snapshot-500000 for model D:\\DLC\\SideviewLeft_Feb2022-Arash-2022-02-08\\dlc-models\\iteration-0\\SideviewLeft_Feb2022Feb8-trainset95shuffle2\n"
     ]
    },
    {
     "name": "stderr",
     "output_type": "stream",
     "text": [
      "c:\\Users\\dklab\\anaconda3\\envs\\DEEPLABCUT\\lib\\site-packages\\tensorflow\\python\\keras\\engine\\base_layer_v1.py:1694: UserWarning: `layer.apply` is deprecated and will be removed in a future version. Please use `layer.__call__` method instead.\n",
      "  warnings.warn('`layer.apply` is deprecated and '\n"
     ]
    },
    {
     "name": "stdout",
     "output_type": "stream",
     "text": [
      "Starting to analyze %  D:\\Sidevideos\\ar37motor\\2023_02_22\\171.avi\n",
      "Loading  D:\\Sidevideos\\ar37motor\\2023_02_22\\171.avi\n",
      "Duration of video [s]:  7.5 , recorded with  40.0 fps!\n",
      "Overall # of frames:  300  found with (before cropping) frame dimensions:  800 480\n",
      "Starting to extract posture\n"
     ]
    },
    {
     "name": "stderr",
     "output_type": "stream",
     "text": [
      "310it [00:16, 19.18it/s]\n",
      "processing videos:  42%|████▏     | 82/195 [29:19<38:36, 20.50s/it]"
     ]
    },
    {
     "name": "stdout",
     "output_type": "stream",
     "text": [
      "Saving results in D:\\Sidevideos\\ar37motor\\2023_02_22...\n",
      "Saving csv poses!\n",
      "The videos are analyzed. Now your research can truly start! \n",
      " You can create labeled videos with 'create_labeled_video'\n",
      "If the tracking is not satisfactory for some videos, consider expanding the training set. You can use the function 'extract_outlier_frames' to extract a few representative outlier frames.\n",
      "Filtering with median model D:\\Sidevideos\\ar37motor\\2023_02_22\\171.avi\n",
      "Saving filtered csv poses!\n",
      "Using snapshot-500000 for model D:\\DLC\\SideviewLeft_Feb2022-Arash-2022-02-08\\dlc-models\\iteration-0\\SideviewLeft_Feb2022Feb8-trainset95shuffle2\n"
     ]
    },
    {
     "name": "stderr",
     "output_type": "stream",
     "text": [
      "c:\\Users\\dklab\\anaconda3\\envs\\DEEPLABCUT\\lib\\site-packages\\tensorflow\\python\\keras\\engine\\base_layer_v1.py:1694: UserWarning: `layer.apply` is deprecated and will be removed in a future version. Please use `layer.__call__` method instead.\n",
      "  warnings.warn('`layer.apply` is deprecated and '\n"
     ]
    },
    {
     "name": "stdout",
     "output_type": "stream",
     "text": [
      "Starting to analyze %  D:\\Sidevideos\\ar37motor\\2023_02_22\\172.avi\n",
      "Loading  D:\\Sidevideos\\ar37motor\\2023_02_22\\172.avi\n",
      "Duration of video [s]:  7.5 , recorded with  40.0 fps!\n",
      "Overall # of frames:  300  found with (before cropping) frame dimensions:  800 480\n",
      "Starting to extract posture\n"
     ]
    },
    {
     "name": "stderr",
     "output_type": "stream",
     "text": [
      "310it [00:16, 18.81it/s]\n",
      "processing videos:  43%|████▎     | 83/195 [29:40<38:31, 20.64s/it]c:\\Users\\dklab\\anaconda3\\envs\\DEEPLABCUT\\lib\\site-packages\\tensorflow\\python\\keras\\engine\\base_layer_v1.py:1694: UserWarning: `layer.apply` is deprecated and will be removed in a future version. Please use `layer.__call__` method instead.\n",
      "  warnings.warn('`layer.apply` is deprecated and '\n"
     ]
    },
    {
     "name": "stdout",
     "output_type": "stream",
     "text": [
      "Saving results in D:\\Sidevideos\\ar37motor\\2023_02_22...\n",
      "Saving csv poses!\n",
      "The videos are analyzed. Now your research can truly start! \n",
      " You can create labeled videos with 'create_labeled_video'\n",
      "If the tracking is not satisfactory for some videos, consider expanding the training set. You can use the function 'extract_outlier_frames' to extract a few representative outlier frames.\n",
      "Filtering with median model D:\\Sidevideos\\ar37motor\\2023_02_22\\172.avi\n",
      "Saving filtered csv poses!\n",
      "Using snapshot-500000 for model D:\\DLC\\SideviewLeft_Feb2022-Arash-2022-02-08\\dlc-models\\iteration-0\\SideviewLeft_Feb2022Feb8-trainset95shuffle2\n",
      "Starting to analyze %  D:\\Sidevideos\\ar37motor\\2023_02_22\\173.avi\n",
      "Loading  D:\\Sidevideos\\ar37motor\\2023_02_22\\173.avi\n",
      "Duration of video [s]:  7.5 , recorded with  40.0 fps!\n",
      "Overall # of frames:  300  found with (before cropping) frame dimensions:  800 480\n",
      "Starting to extract posture\n"
     ]
    },
    {
     "name": "stderr",
     "output_type": "stream",
     "text": [
      "310it [00:16, 19.04it/s]\n",
      "processing videos:  43%|████▎     | 84/195 [30:01<38:07, 20.60s/it]"
     ]
    },
    {
     "name": "stdout",
     "output_type": "stream",
     "text": [
      "Saving results in D:\\Sidevideos\\ar37motor\\2023_02_22...\n",
      "Saving csv poses!\n",
      "The videos are analyzed. Now your research can truly start! \n",
      " You can create labeled videos with 'create_labeled_video'\n",
      "If the tracking is not satisfactory for some videos, consider expanding the training set. You can use the function 'extract_outlier_frames' to extract a few representative outlier frames.\n",
      "Filtering with median model D:\\Sidevideos\\ar37motor\\2023_02_22\\173.avi\n",
      "Saving filtered csv poses!\n",
      "Using snapshot-500000 for model D:\\DLC\\SideviewLeft_Feb2022-Arash-2022-02-08\\dlc-models\\iteration-0\\SideviewLeft_Feb2022Feb8-trainset95shuffle2\n"
     ]
    },
    {
     "name": "stderr",
     "output_type": "stream",
     "text": [
      "c:\\Users\\dklab\\anaconda3\\envs\\DEEPLABCUT\\lib\\site-packages\\tensorflow\\python\\keras\\engine\\base_layer_v1.py:1694: UserWarning: `layer.apply` is deprecated and will be removed in a future version. Please use `layer.__call__` method instead.\n",
      "  warnings.warn('`layer.apply` is deprecated and '\n"
     ]
    },
    {
     "name": "stdout",
     "output_type": "stream",
     "text": [
      "Starting to analyze %  D:\\Sidevideos\\ar37motor\\2023_02_22\\174.avi\n",
      "Loading  D:\\Sidevideos\\ar37motor\\2023_02_22\\174.avi\n",
      "Duration of video [s]:  7.5 , recorded with  40.0 fps!\n",
      "Overall # of frames:  300  found with (before cropping) frame dimensions:  800 480\n",
      "Starting to extract posture\n"
     ]
    },
    {
     "name": "stderr",
     "output_type": "stream",
     "text": [
      "310it [00:16, 19.00it/s]\n",
      "processing videos:  44%|████▎     | 85/195 [30:21<37:43, 20.58s/it]"
     ]
    },
    {
     "name": "stdout",
     "output_type": "stream",
     "text": [
      "Saving results in D:\\Sidevideos\\ar37motor\\2023_02_22...\n",
      "Saving csv poses!\n",
      "The videos are analyzed. Now your research can truly start! \n",
      " You can create labeled videos with 'create_labeled_video'\n",
      "If the tracking is not satisfactory for some videos, consider expanding the training set. You can use the function 'extract_outlier_frames' to extract a few representative outlier frames.\n",
      "Filtering with median model D:\\Sidevideos\\ar37motor\\2023_02_22\\174.avi\n",
      "Saving filtered csv poses!\n",
      "Using snapshot-500000 for model D:\\DLC\\SideviewLeft_Feb2022-Arash-2022-02-08\\dlc-models\\iteration-0\\SideviewLeft_Feb2022Feb8-trainset95shuffle2\n"
     ]
    },
    {
     "name": "stderr",
     "output_type": "stream",
     "text": [
      "c:\\Users\\dklab\\anaconda3\\envs\\DEEPLABCUT\\lib\\site-packages\\tensorflow\\python\\keras\\engine\\base_layer_v1.py:1694: UserWarning: `layer.apply` is deprecated and will be removed in a future version. Please use `layer.__call__` method instead.\n",
      "  warnings.warn('`layer.apply` is deprecated and '\n"
     ]
    },
    {
     "name": "stdout",
     "output_type": "stream",
     "text": [
      "Starting to analyze %  D:\\Sidevideos\\ar37motor\\2023_02_22\\175.avi\n",
      "Loading  D:\\Sidevideos\\ar37motor\\2023_02_22\\175.avi\n",
      "Duration of video [s]:  7.5 , recorded with  40.0 fps!\n",
      "Overall # of frames:  300  found with (before cropping) frame dimensions:  800 480\n",
      "Starting to extract posture\n"
     ]
    },
    {
     "name": "stderr",
     "output_type": "stream",
     "text": [
      "310it [00:16, 19.03it/s]\n",
      "processing videos:  44%|████▍     | 86/195 [30:41<37:19, 20.54s/it]"
     ]
    },
    {
     "name": "stdout",
     "output_type": "stream",
     "text": [
      "Saving results in D:\\Sidevideos\\ar37motor\\2023_02_22...\n",
      "Saving csv poses!\n",
      "The videos are analyzed. Now your research can truly start! \n",
      " You can create labeled videos with 'create_labeled_video'\n",
      "If the tracking is not satisfactory for some videos, consider expanding the training set. You can use the function 'extract_outlier_frames' to extract a few representative outlier frames.\n",
      "Filtering with median model D:\\Sidevideos\\ar37motor\\2023_02_22\\175.avi\n",
      "Saving filtered csv poses!\n",
      "Using snapshot-500000 for model D:\\DLC\\SideviewLeft_Feb2022-Arash-2022-02-08\\dlc-models\\iteration-0\\SideviewLeft_Feb2022Feb8-trainset95shuffle2\n"
     ]
    },
    {
     "name": "stderr",
     "output_type": "stream",
     "text": [
      "c:\\Users\\dklab\\anaconda3\\envs\\DEEPLABCUT\\lib\\site-packages\\tensorflow\\python\\keras\\engine\\base_layer_v1.py:1694: UserWarning: `layer.apply` is deprecated and will be removed in a future version. Please use `layer.__call__` method instead.\n",
      "  warnings.warn('`layer.apply` is deprecated and '\n"
     ]
    },
    {
     "name": "stdout",
     "output_type": "stream",
     "text": [
      "Starting to analyze %  D:\\Sidevideos\\ar37motor\\2023_02_22\\176.avi\n",
      "Loading  D:\\Sidevideos\\ar37motor\\2023_02_22\\176.avi\n",
      "Duration of video [s]:  7.5 , recorded with  40.0 fps!\n",
      "Overall # of frames:  300  found with (before cropping) frame dimensions:  800 480\n",
      "Starting to extract posture\n"
     ]
    },
    {
     "name": "stderr",
     "output_type": "stream",
     "text": [
      "310it [00:16, 18.88it/s]\n",
      "processing videos:  45%|████▍     | 87/195 [31:02<37:07, 20.62s/it]"
     ]
    },
    {
     "name": "stdout",
     "output_type": "stream",
     "text": [
      "Saving results in D:\\Sidevideos\\ar37motor\\2023_02_22...\n",
      "Saving csv poses!\n",
      "The videos are analyzed. Now your research can truly start! \n",
      " You can create labeled videos with 'create_labeled_video'\n",
      "If the tracking is not satisfactory for some videos, consider expanding the training set. You can use the function 'extract_outlier_frames' to extract a few representative outlier frames.\n",
      "Filtering with median model D:\\Sidevideos\\ar37motor\\2023_02_22\\176.avi\n",
      "Saving filtered csv poses!\n",
      "Using snapshot-500000 for model D:\\DLC\\SideviewLeft_Feb2022-Arash-2022-02-08\\dlc-models\\iteration-0\\SideviewLeft_Feb2022Feb8-trainset95shuffle2\n"
     ]
    },
    {
     "name": "stderr",
     "output_type": "stream",
     "text": [
      "c:\\Users\\dklab\\anaconda3\\envs\\DEEPLABCUT\\lib\\site-packages\\tensorflow\\python\\keras\\engine\\base_layer_v1.py:1694: UserWarning: `layer.apply` is deprecated and will be removed in a future version. Please use `layer.__call__` method instead.\n",
      "  warnings.warn('`layer.apply` is deprecated and '\n"
     ]
    },
    {
     "name": "stdout",
     "output_type": "stream",
     "text": [
      "Starting to analyze %  D:\\Sidevideos\\ar37motor\\2023_02_22\\177.avi\n",
      "Loading  D:\\Sidevideos\\ar37motor\\2023_02_22\\177.avi\n",
      "Duration of video [s]:  7.5 , recorded with  40.0 fps!\n",
      "Overall # of frames:  300  found with (before cropping) frame dimensions:  800 480\n",
      "Starting to extract posture\n"
     ]
    },
    {
     "name": "stderr",
     "output_type": "stream",
     "text": [
      "310it [00:16, 19.23it/s]\n",
      "processing videos:  45%|████▌     | 88/195 [31:23<36:39, 20.56s/it]c:\\Users\\dklab\\anaconda3\\envs\\DEEPLABCUT\\lib\\site-packages\\tensorflow\\python\\keras\\engine\\base_layer_v1.py:1694: UserWarning: `layer.apply` is deprecated and will be removed in a future version. Please use `layer.__call__` method instead.\n",
      "  warnings.warn('`layer.apply` is deprecated and '\n"
     ]
    },
    {
     "name": "stdout",
     "output_type": "stream",
     "text": [
      "Saving results in D:\\Sidevideos\\ar37motor\\2023_02_22...\n",
      "Saving csv poses!\n",
      "The videos are analyzed. Now your research can truly start! \n",
      " You can create labeled videos with 'create_labeled_video'\n",
      "If the tracking is not satisfactory for some videos, consider expanding the training set. You can use the function 'extract_outlier_frames' to extract a few representative outlier frames.\n",
      "Filtering with median model D:\\Sidevideos\\ar37motor\\2023_02_22\\177.avi\n",
      "Saving filtered csv poses!\n",
      "Using snapshot-500000 for model D:\\DLC\\SideviewLeft_Feb2022-Arash-2022-02-08\\dlc-models\\iteration-0\\SideviewLeft_Feb2022Feb8-trainset95shuffle2\n",
      "Starting to analyze %  D:\\Sidevideos\\ar37motor\\2023_02_22\\178.avi\n",
      "Loading  D:\\Sidevideos\\ar37motor\\2023_02_22\\178.avi\n",
      "Duration of video [s]:  7.5 , recorded with  40.0 fps!\n",
      "Overall # of frames:  300  found with (before cropping) frame dimensions:  800 480\n",
      "Starting to extract posture\n"
     ]
    },
    {
     "name": "stderr",
     "output_type": "stream",
     "text": [
      "310it [00:16, 19.28it/s]\n",
      "processing videos:  46%|████▌     | 89/195 [31:43<36:15, 20.52s/it]c:\\Users\\dklab\\anaconda3\\envs\\DEEPLABCUT\\lib\\site-packages\\tensorflow\\python\\keras\\engine\\base_layer_v1.py:1694: UserWarning: `layer.apply` is deprecated and will be removed in a future version. Please use `layer.__call__` method instead.\n",
      "  warnings.warn('`layer.apply` is deprecated and '\n"
     ]
    },
    {
     "name": "stdout",
     "output_type": "stream",
     "text": [
      "Saving results in D:\\Sidevideos\\ar37motor\\2023_02_22...\n",
      "Saving csv poses!\n",
      "The videos are analyzed. Now your research can truly start! \n",
      " You can create labeled videos with 'create_labeled_video'\n",
      "If the tracking is not satisfactory for some videos, consider expanding the training set. You can use the function 'extract_outlier_frames' to extract a few representative outlier frames.\n",
      "Filtering with median model D:\\Sidevideos\\ar37motor\\2023_02_22\\178.avi\n",
      "Saving filtered csv poses!\n",
      "Using snapshot-500000 for model D:\\DLC\\SideviewLeft_Feb2022-Arash-2022-02-08\\dlc-models\\iteration-0\\SideviewLeft_Feb2022Feb8-trainset95shuffle2\n",
      "Starting to analyze %  D:\\Sidevideos\\ar37motor\\2023_02_22\\179.avi\n",
      "Loading  D:\\Sidevideos\\ar37motor\\2023_02_22\\179.avi\n",
      "Duration of video [s]:  7.5 , recorded with  40.0 fps!\n",
      "Overall # of frames:  300  found with (before cropping) frame dimensions:  800 480\n",
      "Starting to extract posture\n"
     ]
    },
    {
     "name": "stderr",
     "output_type": "stream",
     "text": [
      "310it [00:16, 19.08it/s]\n",
      "processing videos:  46%|████▌     | 90/195 [32:04<36:02, 20.59s/it]"
     ]
    },
    {
     "name": "stdout",
     "output_type": "stream",
     "text": [
      "Saving results in D:\\Sidevideos\\ar37motor\\2023_02_22...\n",
      "Saving csv poses!\n",
      "The videos are analyzed. Now your research can truly start! \n",
      " You can create labeled videos with 'create_labeled_video'\n",
      "If the tracking is not satisfactory for some videos, consider expanding the training set. You can use the function 'extract_outlier_frames' to extract a few representative outlier frames.\n",
      "Filtering with median model D:\\Sidevideos\\ar37motor\\2023_02_22\\179.avi\n",
      "Saving filtered csv poses!\n",
      "Using snapshot-500000 for model D:\\DLC\\SideviewLeft_Feb2022-Arash-2022-02-08\\dlc-models\\iteration-0\\SideviewLeft_Feb2022Feb8-trainset95shuffle2\n"
     ]
    },
    {
     "name": "stderr",
     "output_type": "stream",
     "text": [
      "c:\\Users\\dklab\\anaconda3\\envs\\DEEPLABCUT\\lib\\site-packages\\tensorflow\\python\\keras\\engine\\base_layer_v1.py:1694: UserWarning: `layer.apply` is deprecated and will be removed in a future version. Please use `layer.__call__` method instead.\n",
      "  warnings.warn('`layer.apply` is deprecated and '\n"
     ]
    },
    {
     "name": "stdout",
     "output_type": "stream",
     "text": [
      "Starting to analyze %  D:\\Sidevideos\\ar37motor\\2023_02_22\\18.avi\n",
      "Loading  D:\\Sidevideos\\ar37motor\\2023_02_22\\18.avi\n",
      "Duration of video [s]:  7.5 , recorded with  40.0 fps!\n",
      "Overall # of frames:  300  found with (before cropping) frame dimensions:  800 480\n",
      "Starting to extract posture\n"
     ]
    },
    {
     "name": "stderr",
     "output_type": "stream",
     "text": [
      "310it [00:18, 16.48it/s]\n"
     ]
    },
    {
     "name": "stdout",
     "output_type": "stream",
     "text": [
      "Saving results in D:\\Sidevideos\\ar37motor\\2023_02_22...\n",
      "Saving csv poses!\n",
      "The videos are analyzed. Now your research can truly start! \n",
      " You can create labeled videos with 'create_labeled_video'\n",
      "If the tracking is not satisfactory for some videos, consider expanding the training set. You can use the function 'extract_outlier_frames' to extract a few representative outlier frames.\n",
      "Filtering with median model D:\\Sidevideos\\ar37motor\\2023_02_22\\18.avi\n",
      "Saving filtered csv poses!\n"
     ]
    },
    {
     "name": "stderr",
     "output_type": "stream",
     "text": [
      "processing videos:  47%|████▋     | 91/195 [32:28<37:45, 21.79s/it]c:\\Users\\dklab\\anaconda3\\envs\\DEEPLABCUT\\lib\\site-packages\\tensorflow\\python\\keras\\engine\\base_layer_v1.py:1694: UserWarning: `layer.apply` is deprecated and will be removed in a future version. Please use `layer.__call__` method instead.\n",
      "  warnings.warn('`layer.apply` is deprecated and '\n"
     ]
    },
    {
     "name": "stdout",
     "output_type": "stream",
     "text": [
      "Using snapshot-500000 for model D:\\DLC\\SideviewLeft_Feb2022-Arash-2022-02-08\\dlc-models\\iteration-0\\SideviewLeft_Feb2022Feb8-trainset95shuffle2\n",
      "Starting to analyze %  D:\\Sidevideos\\ar37motor\\2023_02_22\\180.avi\n",
      "Loading  D:\\Sidevideos\\ar37motor\\2023_02_22\\180.avi\n",
      "Duration of video [s]:  7.5 , recorded with  40.0 fps!\n",
      "Overall # of frames:  300  found with (before cropping) frame dimensions:  800 480\n",
      "Starting to extract posture\n"
     ]
    },
    {
     "name": "stderr",
     "output_type": "stream",
     "text": [
      "310it [00:19, 16.12it/s]\n",
      "processing videos:  47%|████▋     | 92/195 [32:52<38:29, 22.42s/it]"
     ]
    },
    {
     "name": "stdout",
     "output_type": "stream",
     "text": [
      "Saving results in D:\\Sidevideos\\ar37motor\\2023_02_22...\n",
      "Saving csv poses!\n",
      "The videos are analyzed. Now your research can truly start! \n",
      " You can create labeled videos with 'create_labeled_video'\n",
      "If the tracking is not satisfactory for some videos, consider expanding the training set. You can use the function 'extract_outlier_frames' to extract a few representative outlier frames.\n",
      "Filtering with median model D:\\Sidevideos\\ar37motor\\2023_02_22\\180.avi\n",
      "Saving filtered csv poses!\n",
      "Using snapshot-500000 for model D:\\DLC\\SideviewLeft_Feb2022-Arash-2022-02-08\\dlc-models\\iteration-0\\SideviewLeft_Feb2022Feb8-trainset95shuffle2\n"
     ]
    },
    {
     "name": "stderr",
     "output_type": "stream",
     "text": [
      "c:\\Users\\dklab\\anaconda3\\envs\\DEEPLABCUT\\lib\\site-packages\\tensorflow\\python\\keras\\engine\\base_layer_v1.py:1694: UserWarning: `layer.apply` is deprecated and will be removed in a future version. Please use `layer.__call__` method instead.\n",
      "  warnings.warn('`layer.apply` is deprecated and '\n"
     ]
    },
    {
     "name": "stdout",
     "output_type": "stream",
     "text": [
      "Starting to analyze %  D:\\Sidevideos\\ar37motor\\2023_02_22\\181.avi\n",
      "Loading  D:\\Sidevideos\\ar37motor\\2023_02_22\\181.avi\n",
      "Duration of video [s]:  7.5 , recorded with  40.0 fps!\n",
      "Overall # of frames:  300  found with (before cropping) frame dimensions:  800 480\n",
      "Starting to extract posture\n"
     ]
    },
    {
     "name": "stderr",
     "output_type": "stream",
     "text": [
      "310it [00:17, 17.55it/s]\n"
     ]
    },
    {
     "name": "stdout",
     "output_type": "stream",
     "text": [
      "Saving results in D:\\Sidevideos\\ar37motor\\2023_02_22...\n",
      "Saving csv poses!\n",
      "The videos are analyzed. Now your research can truly start! \n",
      " You can create labeled videos with 'create_labeled_video'\n",
      "If the tracking is not satisfactory for some videos, consider expanding the training set. You can use the function 'extract_outlier_frames' to extract a few representative outlier frames.\n",
      "Filtering with median model D:\\Sidevideos\\ar37motor\\2023_02_22\\181.avi\n"
     ]
    },
    {
     "name": "stderr",
     "output_type": "stream",
     "text": [
      "processing videos:  48%|████▊     | 93/195 [33:15<38:04, 22.40s/it]"
     ]
    },
    {
     "name": "stdout",
     "output_type": "stream",
     "text": [
      "Saving filtered csv poses!\n",
      "Using snapshot-500000 for model D:\\DLC\\SideviewLeft_Feb2022-Arash-2022-02-08\\dlc-models\\iteration-0\\SideviewLeft_Feb2022Feb8-trainset95shuffle2\n"
     ]
    },
    {
     "name": "stderr",
     "output_type": "stream",
     "text": [
      "c:\\Users\\dklab\\anaconda3\\envs\\DEEPLABCUT\\lib\\site-packages\\tensorflow\\python\\keras\\engine\\base_layer_v1.py:1694: UserWarning: `layer.apply` is deprecated and will be removed in a future version. Please use `layer.__call__` method instead.\n",
      "  warnings.warn('`layer.apply` is deprecated and '\n"
     ]
    },
    {
     "name": "stdout",
     "output_type": "stream",
     "text": [
      "Starting to analyze %  D:\\Sidevideos\\ar37motor\\2023_02_22\\182.avi\n",
      "Loading  D:\\Sidevideos\\ar37motor\\2023_02_22\\182.avi\n",
      "Duration of video [s]:  7.5 , recorded with  40.0 fps!\n",
      "Overall # of frames:  300  found with (before cropping) frame dimensions:  800 480\n",
      "Starting to extract posture\n"
     ]
    },
    {
     "name": "stderr",
     "output_type": "stream",
     "text": []
    }
   ],
   "source": [
    "dir = r'D:\\Sidevideos\\ar37motor\\2023_02_22'\n",
    "analyze_side_view_video(dir)\n",
    "extract_eye_videos(dir,'DLC_resnet50_SideviewLeft_Feb2022Feb8shuffle1_271000')"
   ]
  },
  {
   "cell_type": "code",
   "execution_count": null,
   "metadata": {},
   "outputs": [],
   "source": []
  }
 ],
 "metadata": {
  "kernelspec": {
   "display_name": "Python 3.8.12 ('DEEPLABCUT')",
   "language": "python",
   "name": "python3"
  },
  "language_info": {
   "codemirror_mode": {
    "name": "ipython",
    "version": 3
   },
   "file_extension": ".py",
   "mimetype": "text/x-python",
   "name": "python",
   "nbconvert_exporter": "python",
   "pygments_lexer": "ipython3",
   "version": "3.8.12"
  },
  "orig_nbformat": 4,
  "vscode": {
   "interpreter": {
    "hash": "35e8d4f0f322f1ddde6312fd38fec45ad45f18961795b05bafffcd46c6e9a2ba"
   }
  }
 },
 "nbformat": 4,
 "nbformat_minor": 2
}
