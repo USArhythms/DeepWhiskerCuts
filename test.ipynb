{
 "cells": [
  {
   "cell_type": "code",
   "execution_count": 1,
   "metadata": {},
   "outputs": [
    {
     "name": "stderr",
     "output_type": "stream",
     "text": [
      "c:\\Users\\dklab\\miniconda3\\envs\\DEEPLABCUT\\lib\\site-packages\\numpy\\_distributor_init.py:30: UserWarning: loaded more than 1 DLL from .libs:\n",
      "c:\\Users\\dklab\\miniconda3\\envs\\DEEPLABCUT\\lib\\site-packages\\numpy\\.libs\\libopenblas.GK7GX5KEQ4F6UYO3P26ULGBQYHGQO7J4.gfortran-win_amd64.dll\n",
      "c:\\Users\\dklab\\miniconda3\\envs\\DEEPLABCUT\\lib\\site-packages\\numpy\\.libs\\libopenblas.WCDJNK7YVMPZQ2ME2ZZHJJRJ3JIKNDB7.gfortran-win_amd64.dll\n",
      "  warnings.warn(\"loaded more than 1 DLL from .libs:\"\n"
     ]
    }
   ],
   "source": [
    "import os\n",
    "from ProgressManager import ExperimentManager\n",
    "import numpy as np\n",
    "from MovieTools import make_movie_and_stimulus_file,analyze_side_view_video,extract_eye_videos\n"
   ]
  },
  {
   "cell_type": "code",
   "execution_count": 2,
   "metadata": {},
   "outputs": [
    {
     "name": "stderr",
     "output_type": "stream",
     "text": [
      "processing videos: 100%|██████████| 196/196 [00:00<00:00, 535.49it/s]\n",
      "processing videos:  46%|████▌     | 90/196 [06:23<07:29,  4.24s/it]"
     ]
    }
   ],
   "source": [
    "dir = r'C:\\sidevideos\\ar37motor\\2023_02_22'\n",
    "make_movie_and_stimulus_file(dir,parallel=False,ncores = 4)\n",
    "manager = ExperimentManager(dir,mode = 'side')\n",
    "manager.copy_full_resolution_videos(r'\\\\dk-server.dk.ucsd.edu\\afassihizakeri\\eyemovies\\Rightcam2')"
   ]
  },
  {
   "cell_type": "code",
   "execution_count": null,
   "metadata": {},
   "outputs": [],
   "source": [
    "analyze_side_view_video(dir)\n",
    "extract_eye_videos(dir,'')"
   ]
  },
  {
   "cell_type": "code",
   "execution_count": null,
   "metadata": {},
   "outputs": [
    {
     "ename": "NameError",
     "evalue": "name 'tqdm' is not defined",
     "output_type": "error",
     "traceback": [
      "\u001b[1;31m---------------------------------------------------------------------------\u001b[0m",
      "\u001b[1;31mNameError\u001b[0m                                 Traceback (most recent call last)",
      "\u001b[1;32mc:\\Users\\dklab\\DeepWhiskerCuts\\test.ipynb Cell 3\u001b[0m in \u001b[0;36m<module>\u001b[1;34m\u001b[0m\n\u001b[1;32m----> <a href='vscode-notebook-cell:/c%3A/Users/dklab/DeepWhiskerCuts/test.ipynb#X13sZmlsZQ%3D%3D?line=0'>1</a>\u001b[0m analyze_side_view_video(\u001b[39mdir\u001b[39;49m)\n\u001b[0;32m      <a href='vscode-notebook-cell:/c%3A/Users/dklab/DeepWhiskerCuts/test.ipynb#X13sZmlsZQ%3D%3D?line=1'>2</a>\u001b[0m extract_eye_videos(\u001b[39mdir\u001b[39m,\u001b[39m'\u001b[39m\u001b[39mDLC_resnet50_SideviewLeft_Feb2022Feb8shuffle1_271000\u001b[39m\u001b[39m'\u001b[39m)\n",
      "File \u001b[1;32mc:\\Users\\dklab\\DeepWhiskerCuts\\pipeline.py:28\u001b[0m, in \u001b[0;36manalyze_side_view_video\u001b[1;34m(data_path)\u001b[0m\n\u001b[0;32m     26\u001b[0m     deeplabcut\u001b[39m.\u001b[39manalyze_videos(this_computer[\u001b[39m'\u001b[39m\u001b[39mside_view_config\u001b[39m\u001b[39m'\u001b[39m],[video],shuffle\u001b[39m=\u001b[39m\u001b[39m2\u001b[39m, save_as_csv\u001b[39m=\u001b[39m\u001b[39mTrue\u001b[39;00m )\n\u001b[0;32m     27\u001b[0m     deeplabcut\u001b[39m.\u001b[39mfilterpredictions(this_computer[\u001b[39m'\u001b[39m\u001b[39mside_view_config\u001b[39m\u001b[39m'\u001b[39m],[video],shuffle\u001b[39m=\u001b[39m\u001b[39m2\u001b[39m, save_as_csv\u001b[39m=\u001b[39m\u001b[39mTrue\u001b[39;00m )\n\u001b[1;32m---> 28\u001b[0m run_dlc_with_error_handling(videos,deeplabcut_function)\n",
      "File \u001b[1;32mc:\\Users\\dklab\\DeepWhiskerCuts\\pipeline.py:59\u001b[0m, in \u001b[0;36mrun_dlc_with_error_handling\u001b[1;34m(videos, deeplabcut_function)\u001b[0m\n\u001b[0;32m     58\u001b[0m \u001b[39mdef\u001b[39;00m \u001b[39mrun_dlc_with_error_handling\u001b[39m(videos,deeplabcut_function):\n\u001b[1;32m---> 59\u001b[0m     \u001b[39mfor\u001b[39;00m videoi \u001b[39min\u001b[39;00m tqdm(\u001b[39mrange\u001b[39m(videos),\u001b[39m'\u001b[39m\u001b[39mprocessing videos\u001b[39m\u001b[39m'\u001b[39m): \n\u001b[0;32m     60\u001b[0m         video \u001b[39m=\u001b[39m videos[videoi]\n\u001b[0;32m     61\u001b[0m         \u001b[39mtry\u001b[39;00m:\n",
      "\u001b[1;31mNameError\u001b[0m: name 'tqdm' is not defined"
     ]
    }
   ],
   "source": [
    "analyze_side_view_video(dir)\n",
    "extract_eye_videos(dir,'DLC_resnet50_SideviewLeft_Feb2022Feb8shuffle1_271000')"
   ]
  },
  {
   "cell_type": "code",
   "execution_count": null,
   "metadata": {},
   "outputs": [],
   "source": []
  }
 ],
 "metadata": {
  "kernelspec": {
   "display_name": "Python 3.8.13 ('DEEPLABCUT')",
   "language": "python",
   "name": "python3"
  },
  "language_info": {
   "codemirror_mode": {
    "name": "ipython",
    "version": 3
   },
   "file_extension": ".py",
   "mimetype": "text/x-python",
   "name": "python",
   "nbconvert_exporter": "python",
   "pygments_lexer": "ipython3",
   "version": "3.8.13"
  },
  "orig_nbformat": 4,
  "vscode": {
   "interpreter": {
    "hash": "1cd4db8194cf9c99159e3f5770dbaeb2f3754a119aa331ee2d0b6b0362daf823"
   }
  }
 },
 "nbformat": 4,
 "nbformat_minor": 2
}
