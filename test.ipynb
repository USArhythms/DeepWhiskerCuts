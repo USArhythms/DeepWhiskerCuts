{
 "cells": [
  {
   "cell_type": "code",
   "execution_count": null,
   "metadata": {},
   "outputs": [
    {
     "ename": "",
     "evalue": "",
     "output_type": "error",
     "traceback": [
      "\u001b[1;31mRunning cells with 'Python 3.10.6 ('dlc')' requires ipykernel package.\n",
      "\u001b[1;31mRun the following command to install 'ipykernel' into the Python environment. \n",
      "\u001b[1;31mCommand: 'conda install -n dlc ipykernel --update-deps --force-reinstall'"
     ]
    }
   ],
   "source": [
    "from ProgressManager import ExperimentManager\n",
    "dir = r'D:\\Sidevideos\\ar37motor\\2023_02_22_ 163949'\n",
    "manager = ExperimentManager(dir,'side')\n",
    "for i in manager.trials:"
   ]
  },
  {
   "cell_type": "code",
   "execution_count": null,
   "metadata": {},
   "outputs": [],
   "source": []
  }
 ],
 "metadata": {
  "kernelspec": {
   "display_name": "Python 3.10.6 ('dlc')",
   "language": "python",
   "name": "python3"
  },
  "language_info": {
   "name": "python",
   "version": "3.10.6"
  },
  "orig_nbformat": 4,
  "vscode": {
   "interpreter": {
    "hash": "35994ccafc3adaddb33ededac894718b3dc71e9a9cc51aec96e73fddff845f3b"
   }
  }
 },
 "nbformat": 4,
 "nbformat_minor": 2
}
