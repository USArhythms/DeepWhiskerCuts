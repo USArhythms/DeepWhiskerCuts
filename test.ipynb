{
 "cells": [
  {
   "cell_type": "code",
   "execution_count": 1,
   "metadata": {},
   "outputs": [
    {
     "name": "stderr",
     "output_type": "stream",
     "text": [
      "c:\\Users\\dklab\\miniconda3\\envs\\DEEPLABCUT\\lib\\site-packages\\numpy\\_distributor_init.py:30: UserWarning: loaded more than 1 DLL from .libs:\n",
      "c:\\Users\\dklab\\miniconda3\\envs\\DEEPLABCUT\\lib\\site-packages\\numpy\\.libs\\libopenblas.GK7GX5KEQ4F6UYO3P26ULGBQYHGQO7J4.gfortran-win_amd64.dll\n",
      "c:\\Users\\dklab\\miniconda3\\envs\\DEEPLABCUT\\lib\\site-packages\\numpy\\.libs\\libopenblas.WCDJNK7YVMPZQ2ME2ZZHJJRJ3JIKNDB7.gfortran-win_amd64.dll\n",
      "  warnings.warn(\"loaded more than 1 DLL from .libs:\"\n"
     ]
    },
    {
     "name": "stdout",
     "output_type": "stream",
     "text": [
      "Loading DLC 2.2.2...\n"
     ]
    }
   ],
   "source": [
    "import os\n",
    "from ProgressManager import ExperimentManager\n",
    "import numpy as np\n",
    "from MovieTools import make_movie_and_stimulus_file\n",
    "from pipeline import analyze_side_view_video,extract_eye_videos,analyze_eye_video\n"
   ]
  },
  {
   "cell_type": "code",
   "execution_count": 2,
   "metadata": {},
   "outputs": [
    {
     "name": "stderr",
     "output_type": "stream",
     "text": [
      "processing videos: 100%|██████████| 196/196 [00:00<00:00, 535.49it/s]\n",
      "processing videos:  46%|████▌     | 90/196 [06:23<07:29,  4.24s/it]"
     ]
    }
   ],
   "source": [
    "dir = r'C:\\sidevideos\\ar37motor\\2023_02_22'\n",
    "make_movie_and_stimulus_file(dir,parallel=False,ncores = 4)\n",
    "manager = ExperimentManager(dir,mode = 'side')\n",
    "manager.copy_full_resolution_videos(r'\\\\dk-server.dk.ucsd.edu\\afassihizakeri\\eyemovies\\Rightcam2')"
   ]
  },
  {
   "cell_type": "code",
   "execution_count": 2,
   "metadata": {},
   "outputs": [
    {
     "name": "stderr",
     "output_type": "stream",
     "text": [
      "processing videos:   0%|          | 0/195 [00:00<?, ?it/s]"
     ]
    },
    {
     "name": "stdout",
     "output_type": "stream",
     "text": [
      "Using snapshot-500000 for model \\\\dk-server.dk.ucsd.edu\\afassihizakeri\\DLC\\\\Eye 482_EPL-Arash-2022-05-24\\dlc-models\\iteration-0\\Eye 482_EPLMay24-trainset95shuffle3\n"
     ]
    },
    {
     "name": "stderr",
     "output_type": "stream",
     "text": [
      "c:\\Users\\dklab\\miniconda3\\envs\\DEEPLABCUT\\lib\\site-packages\\tensorflow\\python\\keras\\engine\\base_layer_v1.py:1694: UserWarning: `layer.apply` is deprecated and will be removed in a future version. Please use `layer.__call__` method instead.\n",
      "  warnings.warn('`layer.apply` is deprecated and '\n"
     ]
    },
    {
     "name": "stdout",
     "output_type": "stream",
     "text": [
      "Starting to analyze %  C:\\sidevideos\\ar37motor\\2023_02_22\\0EYE.avi\n",
      "Loading  C:\\sidevideos\\ar37motor\\2023_02_22\\0EYE.avi\n",
      "Duration of video [s]:  7.5 , recorded with  40.0 fps!\n",
      "Overall # of frames:  300  found with (before cropping) frame dimensions:  200 200\n",
      "Starting to extract posture\n"
     ]
    },
    {
     "name": "stderr",
     "output_type": "stream",
     "text": [
      "100%|██████████| 300/300 [00:05<00:00, 52.03it/s] \n"
     ]
    },
    {
     "name": "stdout",
     "output_type": "stream",
     "text": [
      "Saving results in C:\\sidevideos\\ar37motor\\2023_02_22...\n",
      "Saving csv poses!\n",
      "The videos are analyzed. Now your research can truly start! \n",
      " You can create labeled videos with 'create_labeled_video'\n",
      "If the tracking is not satisfactory for some videos, consider expanding the training set. You can use the function 'extract_outlier_frames' to extract a few representative outlier frames.\n"
     ]
    },
    {
     "name": "stderr",
     "output_type": "stream",
     "text": [
      "processing videos:   1%|          | 1/195 [00:15<49:44, 15.39s/it]"
     ]
    },
    {
     "name": "stdout",
     "output_type": "stream",
     "text": [
      "Filtering with median model C:\\sidevideos\\ar37motor\\2023_02_22\\0EYE.avi\n",
      "Saving filtered csv poses!\n",
      "Using snapshot-500000 for model \\\\dk-server.dk.ucsd.edu\\afassihizakeri\\DLC\\\\Eye 482_EPL-Arash-2022-05-24\\dlc-models\\iteration-0\\Eye 482_EPLMay24-trainset95shuffle3\n"
     ]
    },
    {
     "name": "stderr",
     "output_type": "stream",
     "text": [
      "c:\\Users\\dklab\\miniconda3\\envs\\DEEPLABCUT\\lib\\site-packages\\tensorflow\\python\\keras\\engine\\base_layer_v1.py:1694: UserWarning: `layer.apply` is deprecated and will be removed in a future version. Please use `layer.__call__` method instead.\n",
      "  warnings.warn('`layer.apply` is deprecated and '\n"
     ]
    },
    {
     "name": "stdout",
     "output_type": "stream",
     "text": [
      "Starting to analyze %  C:\\sidevideos\\ar37motor\\2023_02_22\\100EYE.avi\n",
      "Loading  C:\\sidevideos\\ar37motor\\2023_02_22\\100EYE.avi\n",
      "Duration of video [s]:  5.17 , recorded with  40.0 fps!\n",
      "Overall # of frames:  207  found with (before cropping) frame dimensions:  200 200\n",
      "Starting to extract posture\n"
     ]
    },
    {
     "name": "stderr",
     "output_type": "stream",
     "text": [
      " 97%|█████████▋| 200/207 [00:01<00:00, 143.34it/s]\n"
     ]
    },
    {
     "name": "stdout",
     "output_type": "stream",
     "text": [
      "Saving results in C:\\sidevideos\\ar37motor\\2023_02_22...\n",
      "Saving csv poses!\n",
      "The videos are analyzed. Now your research can truly start! \n",
      " You can create labeled videos with 'create_labeled_video'\n",
      "If the tracking is not satisfactory for some videos, consider expanding the training set. You can use the function 'extract_outlier_frames' to extract a few representative outlier frames.\n",
      "Filtering with median model C:\\sidevideos\\ar37motor\\2023_02_22\\100EYE.avi\n"
     ]
    },
    {
     "name": "stderr",
     "output_type": "stream",
     "text": [
      "processing videos:   1%|          | 2/195 [00:24<37:37, 11.69s/it]"
     ]
    },
    {
     "name": "stdout",
     "output_type": "stream",
     "text": [
      "Saving filtered csv poses!\n",
      "Using snapshot-500000 for model \\\\dk-server.dk.ucsd.edu\\afassihizakeri\\DLC\\\\Eye 482_EPL-Arash-2022-05-24\\dlc-models\\iteration-0\\Eye 482_EPLMay24-trainset95shuffle3\n"
     ]
    },
    {
     "name": "stderr",
     "output_type": "stream",
     "text": [
      "c:\\Users\\dklab\\miniconda3\\envs\\DEEPLABCUT\\lib\\site-packages\\tensorflow\\python\\keras\\engine\\base_layer_v1.py:1694: UserWarning: `layer.apply` is deprecated and will be removed in a future version. Please use `layer.__call__` method instead.\n",
      "  warnings.warn('`layer.apply` is deprecated and '\n"
     ]
    },
    {
     "name": "stdout",
     "output_type": "stream",
     "text": [
      "Starting to analyze %  C:\\sidevideos\\ar37motor\\2023_02_22\\101EYE.avi\n",
      "Loading  C:\\sidevideos\\ar37motor\\2023_02_22\\101EYE.avi\n",
      "Duration of video [s]:  6.25 , recorded with  40.0 fps!\n",
      "Overall # of frames:  250  found with (before cropping) frame dimensions:  200 200\n",
      "Starting to extract posture\n"
     ]
    },
    {
     "name": "stderr",
     "output_type": "stream",
     "text": [
      "100%|██████████| 250/250 [00:01<00:00, 158.11it/s]\n"
     ]
    },
    {
     "name": "stdout",
     "output_type": "stream",
     "text": [
      "Saving results in C:\\sidevideos\\ar37motor\\2023_02_22...\n",
      "Saving csv poses!\n",
      "The videos are analyzed. Now your research can truly start! \n",
      " You can create labeled videos with 'create_labeled_video'\n",
      "If the tracking is not satisfactory for some videos, consider expanding the training set. You can use the function 'extract_outlier_frames' to extract a few representative outlier frames.\n",
      "Filtering with median model C:\\sidevideos\\ar37motor\\2023_02_22\\101EYE.avi\n"
     ]
    },
    {
     "name": "stderr",
     "output_type": "stream",
     "text": [
      "processing videos:   2%|▏         | 3/195 [00:32<31:51,  9.95s/it]"
     ]
    },
    {
     "name": "stdout",
     "output_type": "stream",
     "text": [
      "Saving filtered csv poses!\n",
      "Using snapshot-500000 for model \\\\dk-server.dk.ucsd.edu\\afassihizakeri\\DLC\\\\Eye 482_EPL-Arash-2022-05-24\\dlc-models\\iteration-0\\Eye 482_EPLMay24-trainset95shuffle3\n"
     ]
    },
    {
     "name": "stderr",
     "output_type": "stream",
     "text": [
      "c:\\Users\\dklab\\miniconda3\\envs\\DEEPLABCUT\\lib\\site-packages\\tensorflow\\python\\keras\\engine\\base_layer_v1.py:1694: UserWarning: `layer.apply` is deprecated and will be removed in a future version. Please use `layer.__call__` method instead.\n",
      "  warnings.warn('`layer.apply` is deprecated and '\n"
     ]
    },
    {
     "name": "stdout",
     "output_type": "stream",
     "text": [
      "Starting to analyze %  C:\\sidevideos\\ar37motor\\2023_02_22\\102EYE.avi\n",
      "Loading  C:\\sidevideos\\ar37motor\\2023_02_22\\102EYE.avi\n",
      "Duration of video [s]:  5.28 , recorded with  40.0 fps!\n",
      "Overall # of frames:  211  found with (before cropping) frame dimensions:  200 200\n",
      "Starting to extract posture\n"
     ]
    },
    {
     "name": "stderr",
     "output_type": "stream",
     "text": [
      "100%|█████████▉| 210/211 [00:01<00:00, 164.38it/s]\n"
     ]
    },
    {
     "name": "stdout",
     "output_type": "stream",
     "text": [
      "Saving results in C:\\sidevideos\\ar37motor\\2023_02_22...\n",
      "Saving csv poses!\n",
      "The videos are analyzed. Now your research can truly start! \n",
      " You can create labeled videos with 'create_labeled_video'\n",
      "If the tracking is not satisfactory for some videos, consider expanding the training set. You can use the function 'extract_outlier_frames' to extract a few representative outlier frames.\n"
     ]
    },
    {
     "name": "stderr",
     "output_type": "stream",
     "text": [
      "processing videos:   2%|▏         | 4/195 [00:40<28:48,  9.05s/it]"
     ]
    },
    {
     "name": "stdout",
     "output_type": "stream",
     "text": [
      "Filtering with median model C:\\sidevideos\\ar37motor\\2023_02_22\\102EYE.avi\n",
      "Saving filtered csv poses!\n"
     ]
    },
    {
     "name": "stderr",
     "output_type": "stream",
     "text": [
      "c:\\Users\\dklab\\miniconda3\\envs\\DEEPLABCUT\\lib\\site-packages\\tensorflow\\python\\keras\\engine\\base_layer_v1.py:1694: UserWarning: `layer.apply` is deprecated and will be removed in a future version. Please use `layer.__call__` method instead.\n",
      "  warnings.warn('`layer.apply` is deprecated and '\n"
     ]
    },
    {
     "name": "stdout",
     "output_type": "stream",
     "text": [
      "Using snapshot-500000 for model \\\\dk-server.dk.ucsd.edu\\afassihizakeri\\DLC\\\\Eye 482_EPL-Arash-2022-05-24\\dlc-models\\iteration-0\\Eye 482_EPLMay24-trainset95shuffle3\n",
      "Starting to analyze %  C:\\sidevideos\\ar37motor\\2023_02_22\\103EYE.avi\n",
      "Loading  C:\\sidevideos\\ar37motor\\2023_02_22\\103EYE.avi\n",
      "Duration of video [s]:  6.38 , recorded with  40.0 fps!\n",
      "Overall # of frames:  255  found with (before cropping) frame dimensions:  200 200\n",
      "Starting to extract posture\n"
     ]
    },
    {
     "name": "stderr",
     "output_type": "stream",
     "text": [
      " 98%|█████████▊| 250/255 [00:01<00:00, 161.83it/s]\n"
     ]
    },
    {
     "name": "stdout",
     "output_type": "stream",
     "text": [
      "Saving results in C:\\sidevideos\\ar37motor\\2023_02_22...\n",
      "Saving csv poses!\n",
      "The videos are analyzed. Now your research can truly start! \n",
      " You can create labeled videos with 'create_labeled_video'\n",
      "If the tracking is not satisfactory for some videos, consider expanding the training set. You can use the function 'extract_outlier_frames' to extract a few representative outlier frames.\n"
     ]
    },
    {
     "name": "stderr",
     "output_type": "stream",
     "text": [
      "processing videos:   3%|▎         | 5/195 [00:48<27:51,  8.80s/it]"
     ]
    },
    {
     "name": "stdout",
     "output_type": "stream",
     "text": [
      "Filtering with median model C:\\sidevideos\\ar37motor\\2023_02_22\\103EYE.avi\n",
      "Saving filtered csv poses!\n",
      "Using snapshot-500000 for model \\\\dk-server.dk.ucsd.edu\\afassihizakeri\\DLC\\\\Eye 482_EPL-Arash-2022-05-24\\dlc-models\\iteration-0\\Eye 482_EPLMay24-trainset95shuffle3\n"
     ]
    },
    {
     "name": "stderr",
     "output_type": "stream",
     "text": [
      "c:\\Users\\dklab\\miniconda3\\envs\\DEEPLABCUT\\lib\\site-packages\\tensorflow\\python\\keras\\engine\\base_layer_v1.py:1694: UserWarning: `layer.apply` is deprecated and will be removed in a future version. Please use `layer.__call__` method instead.\n",
      "  warnings.warn('`layer.apply` is deprecated and '\n"
     ]
    },
    {
     "name": "stdout",
     "output_type": "stream",
     "text": [
      "Starting to analyze %  C:\\sidevideos\\ar37motor\\2023_02_22\\104EYE.avi\n",
      "Loading  C:\\sidevideos\\ar37motor\\2023_02_22\\104EYE.avi\n",
      "Duration of video [s]:  7.3 , recorded with  40.0 fps!\n",
      "Overall # of frames:  292  found with (before cropping) frame dimensions:  200 200\n",
      "Starting to extract posture\n"
     ]
    },
    {
     "name": "stderr",
     "output_type": "stream",
     "text": [
      " 99%|█████████▉| 290/292 [00:01<00:00, 172.09it/s]\n"
     ]
    },
    {
     "name": "stdout",
     "output_type": "stream",
     "text": [
      "Saving results in C:\\sidevideos\\ar37motor\\2023_02_22...\n",
      "Saving csv poses!\n",
      "The videos are analyzed. Now your research can truly start! \n",
      " You can create labeled videos with 'create_labeled_video'\n",
      "If the tracking is not satisfactory for some videos, consider expanding the training set. You can use the function 'extract_outlier_frames' to extract a few representative outlier frames.\n"
     ]
    },
    {
     "name": "stderr",
     "output_type": "stream",
     "text": [
      "processing videos:   3%|▎         | 6/195 [00:56<27:19,  8.67s/it]"
     ]
    },
    {
     "name": "stdout",
     "output_type": "stream",
     "text": [
      "Filtering with median model C:\\sidevideos\\ar37motor\\2023_02_22\\104EYE.avi\n",
      "Saving filtered csv poses!\n"
     ]
    },
    {
     "name": "stderr",
     "output_type": "stream",
     "text": [
      "c:\\Users\\dklab\\miniconda3\\envs\\DEEPLABCUT\\lib\\site-packages\\tensorflow\\python\\keras\\engine\\base_layer_v1.py:1694: UserWarning: `layer.apply` is deprecated and will be removed in a future version. Please use `layer.__call__` method instead.\n",
      "  warnings.warn('`layer.apply` is deprecated and '\n"
     ]
    },
    {
     "name": "stdout",
     "output_type": "stream",
     "text": [
      "Using snapshot-500000 for model \\\\dk-server.dk.ucsd.edu\\afassihizakeri\\DLC\\\\Eye 482_EPL-Arash-2022-05-24\\dlc-models\\iteration-0\\Eye 482_EPLMay24-trainset95shuffle3\n",
      "Starting to analyze %  C:\\sidevideos\\ar37motor\\2023_02_22\\105EYE.avi\n",
      "Loading  C:\\sidevideos\\ar37motor\\2023_02_22\\105EYE.avi\n",
      "Duration of video [s]:  6.58 , recorded with  40.0 fps!\n",
      "Overall # of frames:  263  found with (before cropping) frame dimensions:  200 200\n",
      "Starting to extract posture\n"
     ]
    },
    {
     "name": "stderr",
     "output_type": "stream",
     "text": [
      " 99%|█████████▉| 260/263 [00:01<00:00, 170.89it/s]\n"
     ]
    },
    {
     "name": "stdout",
     "output_type": "stream",
     "text": [
      "Saving results in C:\\sidevideos\\ar37motor\\2023_02_22...\n",
      "Saving csv poses!\n",
      "The videos are analyzed. Now your research can truly start! \n",
      " You can create labeled videos with 'create_labeled_video'\n",
      "If the tracking is not satisfactory for some videos, consider expanding the training set. You can use the function 'extract_outlier_frames' to extract a few representative outlier frames.\n"
     ]
    },
    {
     "name": "stderr",
     "output_type": "stream",
     "text": [
      "processing videos:   4%|▎         | 7/195 [01:04<26:21,  8.41s/it]"
     ]
    },
    {
     "name": "stdout",
     "output_type": "stream",
     "text": [
      "Filtering with median model C:\\sidevideos\\ar37motor\\2023_02_22\\105EYE.avi\n",
      "Saving filtered csv poses!\n"
     ]
    },
    {
     "name": "stderr",
     "output_type": "stream",
     "text": [
      "c:\\Users\\dklab\\miniconda3\\envs\\DEEPLABCUT\\lib\\site-packages\\tensorflow\\python\\keras\\engine\\base_layer_v1.py:1694: UserWarning: `layer.apply` is deprecated and will be removed in a future version. Please use `layer.__call__` method instead.\n",
      "  warnings.warn('`layer.apply` is deprecated and '\n"
     ]
    },
    {
     "name": "stdout",
     "output_type": "stream",
     "text": [
      "Using snapshot-500000 for model \\\\dk-server.dk.ucsd.edu\\afassihizakeri\\DLC\\\\Eye 482_EPL-Arash-2022-05-24\\dlc-models\\iteration-0\\Eye 482_EPLMay24-trainset95shuffle3\n",
      "Starting to analyze %  C:\\sidevideos\\ar37motor\\2023_02_22\\106EYE.avi\n",
      "Loading  C:\\sidevideos\\ar37motor\\2023_02_22\\106EYE.avi\n",
      "Duration of video [s]:  5.85 , recorded with  40.0 fps!\n",
      "Overall # of frames:  234  found with (before cropping) frame dimensions:  200 200\n",
      "Starting to extract posture\n"
     ]
    },
    {
     "name": "stderr",
     "output_type": "stream",
     "text": [
      " 98%|█████████▊| 230/234 [00:01<00:00, 164.26it/s]\n"
     ]
    },
    {
     "name": "stdout",
     "output_type": "stream",
     "text": [
      "Saving results in C:\\sidevideos\\ar37motor\\2023_02_22...\n",
      "Saving csv poses!\n",
      "The videos are analyzed. Now your research can truly start! \n",
      " You can create labeled videos with 'create_labeled_video'\n",
      "If the tracking is not satisfactory for some videos, consider expanding the training set. You can use the function 'extract_outlier_frames' to extract a few representative outlier frames.\n"
     ]
    },
    {
     "name": "stderr",
     "output_type": "stream",
     "text": [
      "processing videos:   4%|▍         | 8/195 [01:12<25:34,  8.20s/it]"
     ]
    },
    {
     "name": "stdout",
     "output_type": "stream",
     "text": [
      "Filtering with median model C:\\sidevideos\\ar37motor\\2023_02_22\\106EYE.avi\n",
      "Saving filtered csv poses!\n"
     ]
    },
    {
     "name": "stderr",
     "output_type": "stream",
     "text": [
      "c:\\Users\\dklab\\miniconda3\\envs\\DEEPLABCUT\\lib\\site-packages\\tensorflow\\python\\keras\\engine\\base_layer_v1.py:1694: UserWarning: `layer.apply` is deprecated and will be removed in a future version. Please use `layer.__call__` method instead.\n",
      "  warnings.warn('`layer.apply` is deprecated and '\n"
     ]
    },
    {
     "name": "stdout",
     "output_type": "stream",
     "text": [
      "Using snapshot-500000 for model \\\\dk-server.dk.ucsd.edu\\afassihizakeri\\DLC\\\\Eye 482_EPL-Arash-2022-05-24\\dlc-models\\iteration-0\\Eye 482_EPLMay24-trainset95shuffle3\n",
      "Starting to analyze %  C:\\sidevideos\\ar37motor\\2023_02_22\\107EYE.avi\n",
      "Loading  C:\\sidevideos\\ar37motor\\2023_02_22\\107EYE.avi\n",
      "Duration of video [s]:  4.85 , recorded with  40.0 fps!\n",
      "Overall # of frames:  194  found with (before cropping) frame dimensions:  200 200\n",
      "Starting to extract posture\n"
     ]
    },
    {
     "name": "stderr",
     "output_type": "stream",
     "text": [
      " 98%|█████████▊| 190/194 [00:01<00:00, 142.89it/s]\n"
     ]
    },
    {
     "name": "stdout",
     "output_type": "stream",
     "text": [
      "Saving results in C:\\sidevideos\\ar37motor\\2023_02_22...\n",
      "Saving csv poses!\n",
      "The videos are analyzed. Now your research can truly start! \n",
      " You can create labeled videos with 'create_labeled_video'\n",
      "If the tracking is not satisfactory for some videos, consider expanding the training set. You can use the function 'extract_outlier_frames' to extract a few representative outlier frames.\n"
     ]
    },
    {
     "name": "stderr",
     "output_type": "stream",
     "text": [
      "processing videos:   5%|▍         | 9/195 [01:20<25:19,  8.17s/it]"
     ]
    },
    {
     "name": "stdout",
     "output_type": "stream",
     "text": [
      "Filtering with median model C:\\sidevideos\\ar37motor\\2023_02_22\\107EYE.avi\n",
      "Saving filtered csv poses!\n"
     ]
    },
    {
     "name": "stderr",
     "output_type": "stream",
     "text": [
      "c:\\Users\\dklab\\miniconda3\\envs\\DEEPLABCUT\\lib\\site-packages\\tensorflow\\python\\keras\\engine\\base_layer_v1.py:1694: UserWarning: `layer.apply` is deprecated and will be removed in a future version. Please use `layer.__call__` method instead.\n",
      "  warnings.warn('`layer.apply` is deprecated and '\n"
     ]
    },
    {
     "name": "stdout",
     "output_type": "stream",
     "text": [
      "Using snapshot-500000 for model \\\\dk-server.dk.ucsd.edu\\afassihizakeri\\DLC\\\\Eye 482_EPL-Arash-2022-05-24\\dlc-models\\iteration-0\\Eye 482_EPLMay24-trainset95shuffle3\n",
      "Starting to analyze %  C:\\sidevideos\\ar37motor\\2023_02_22\\108EYE.avi\n",
      "Loading  C:\\sidevideos\\ar37motor\\2023_02_22\\108EYE.avi\n",
      "Duration of video [s]:  4.67 , recorded with  40.0 fps!\n",
      "Overall # of frames:  187  found with (before cropping) frame dimensions:  200 200\n",
      "Starting to extract posture\n"
     ]
    },
    {
     "name": "stderr",
     "output_type": "stream",
     "text": [
      " 96%|█████████▋| 180/187 [00:01<00:00, 138.30it/s]\n"
     ]
    },
    {
     "name": "stdout",
     "output_type": "stream",
     "text": [
      "Saving results in C:\\sidevideos\\ar37motor\\2023_02_22...\n",
      "Saving csv poses!\n",
      "The videos are analyzed. Now your research can truly start! \n",
      " You can create labeled videos with 'create_labeled_video'\n",
      "If the tracking is not satisfactory for some videos, consider expanding the training set. You can use the function 'extract_outlier_frames' to extract a few representative outlier frames.\n"
     ]
    },
    {
     "name": "stderr",
     "output_type": "stream",
     "text": [
      "processing videos:   5%|▌         | 10/195 [01:28<24:33,  7.97s/it]"
     ]
    },
    {
     "name": "stdout",
     "output_type": "stream",
     "text": [
      "Filtering with median model C:\\sidevideos\\ar37motor\\2023_02_22\\108EYE.avi\n",
      "Saving filtered csv poses!\n"
     ]
    },
    {
     "name": "stderr",
     "output_type": "stream",
     "text": [
      "c:\\Users\\dklab\\miniconda3\\envs\\DEEPLABCUT\\lib\\site-packages\\tensorflow\\python\\keras\\engine\\base_layer_v1.py:1694: UserWarning: `layer.apply` is deprecated and will be removed in a future version. Please use `layer.__call__` method instead.\n",
      "  warnings.warn('`layer.apply` is deprecated and '\n"
     ]
    },
    {
     "name": "stdout",
     "output_type": "stream",
     "text": [
      "Using snapshot-500000 for model \\\\dk-server.dk.ucsd.edu\\afassihizakeri\\DLC\\\\Eye 482_EPL-Arash-2022-05-24\\dlc-models\\iteration-0\\Eye 482_EPLMay24-trainset95shuffle3\n",
      "Starting to analyze %  C:\\sidevideos\\ar37motor\\2023_02_22\\109EYE.avi\n",
      "Loading  C:\\sidevideos\\ar37motor\\2023_02_22\\109EYE.avi\n",
      "Duration of video [s]:  7.5 , recorded with  40.0 fps!\n",
      "Overall # of frames:  300  found with (before cropping) frame dimensions:  200 200\n",
      "Starting to extract posture\n"
     ]
    },
    {
     "name": "stderr",
     "output_type": "stream",
     "text": [
      "100%|██████████| 300/300 [00:01<00:00, 181.75it/s]\n"
     ]
    },
    {
     "name": "stdout",
     "output_type": "stream",
     "text": [
      "Saving results in C:\\sidevideos\\ar37motor\\2023_02_22...\n",
      "Saving csv poses!\n",
      "The videos are analyzed. Now your research can truly start! \n",
      " You can create labeled videos with 'create_labeled_video'\n",
      "If the tracking is not satisfactory for some videos, consider expanding the training set. You can use the function 'extract_outlier_frames' to extract a few representative outlier frames.\n"
     ]
    },
    {
     "name": "stderr",
     "output_type": "stream",
     "text": [
      "processing videos:   6%|▌         | 11/195 [01:35<24:18,  7.93s/it]"
     ]
    },
    {
     "name": "stdout",
     "output_type": "stream",
     "text": [
      "Filtering with median model C:\\sidevideos\\ar37motor\\2023_02_22\\109EYE.avi\n",
      "Saving filtered csv poses!\n",
      "Using snapshot-500000 for model \\\\dk-server.dk.ucsd.edu\\afassihizakeri\\DLC\\\\Eye 482_EPL-Arash-2022-05-24\\dlc-models\\iteration-0\\Eye 482_EPLMay24-trainset95shuffle3\n"
     ]
    },
    {
     "name": "stderr",
     "output_type": "stream",
     "text": [
      "c:\\Users\\dklab\\miniconda3\\envs\\DEEPLABCUT\\lib\\site-packages\\tensorflow\\python\\keras\\engine\\base_layer_v1.py:1694: UserWarning: `layer.apply` is deprecated and will be removed in a future version. Please use `layer.__call__` method instead.\n",
      "  warnings.warn('`layer.apply` is deprecated and '\n"
     ]
    },
    {
     "name": "stdout",
     "output_type": "stream",
     "text": [
      "Starting to analyze %  C:\\sidevideos\\ar37motor\\2023_02_22\\10EYE.avi\n",
      "Loading  C:\\sidevideos\\ar37motor\\2023_02_22\\10EYE.avi\n",
      "Duration of video [s]:  6.83 , recorded with  40.0 fps!\n",
      "Overall # of frames:  273  found with (before cropping) frame dimensions:  200 200\n",
      "Starting to extract posture\n"
     ]
    },
    {
     "name": "stderr",
     "output_type": "stream",
     "text": [
      " 99%|█████████▉| 270/273 [00:01<00:00, 208.75it/s]\n"
     ]
    },
    {
     "name": "stdout",
     "output_type": "stream",
     "text": [
      "Saving results in C:\\sidevideos\\ar37motor\\2023_02_22...\n",
      "Saving csv poses!\n",
      "The videos are analyzed. Now your research can truly start! \n",
      " You can create labeled videos with 'create_labeled_video'\n",
      "If the tracking is not satisfactory for some videos, consider expanding the training set. You can use the function 'extract_outlier_frames' to extract a few representative outlier frames.\n"
     ]
    },
    {
     "name": "stderr",
     "output_type": "stream",
     "text": [
      "processing videos:   6%|▌         | 12/195 [01:43<24:17,  7.97s/it]"
     ]
    },
    {
     "name": "stdout",
     "output_type": "stream",
     "text": [
      "Filtering with median model C:\\sidevideos\\ar37motor\\2023_02_22\\10EYE.avi\n",
      "Saving filtered csv poses!\n"
     ]
    },
    {
     "name": "stderr",
     "output_type": "stream",
     "text": [
      "c:\\Users\\dklab\\miniconda3\\envs\\DEEPLABCUT\\lib\\site-packages\\tensorflow\\python\\keras\\engine\\base_layer_v1.py:1694: UserWarning: `layer.apply` is deprecated and will be removed in a future version. Please use `layer.__call__` method instead.\n",
      "  warnings.warn('`layer.apply` is deprecated and '\n"
     ]
    },
    {
     "name": "stdout",
     "output_type": "stream",
     "text": [
      "Using snapshot-500000 for model \\\\dk-server.dk.ucsd.edu\\afassihizakeri\\DLC\\\\Eye 482_EPL-Arash-2022-05-24\\dlc-models\\iteration-0\\Eye 482_EPLMay24-trainset95shuffle3\n",
      "Starting to analyze %  C:\\sidevideos\\ar37motor\\2023_02_22\\110EYE.avi\n",
      "Loading  C:\\sidevideos\\ar37motor\\2023_02_22\\110EYE.avi\n",
      "Duration of video [s]:  7.38 , recorded with  40.0 fps!\n",
      "Overall # of frames:  295  found with (before cropping) frame dimensions:  200 200\n",
      "Starting to extract posture\n"
     ]
    },
    {
     "name": "stderr",
     "output_type": "stream",
     "text": [
      " 98%|█████████▊| 290/295 [00:01<00:00, 205.65it/s]\n"
     ]
    },
    {
     "name": "stdout",
     "output_type": "stream",
     "text": [
      "Saving results in C:\\sidevideos\\ar37motor\\2023_02_22...\n",
      "Saving csv poses!\n",
      "The videos are analyzed. Now your research can truly start! \n",
      " You can create labeled videos with 'create_labeled_video'\n",
      "If the tracking is not satisfactory for some videos, consider expanding the training set. You can use the function 'extract_outlier_frames' to extract a few representative outlier frames.\n"
     ]
    },
    {
     "name": "stderr",
     "output_type": "stream",
     "text": [
      "processing videos:   7%|▋         | 13/195 [01:51<23:58,  7.90s/it]"
     ]
    },
    {
     "name": "stdout",
     "output_type": "stream",
     "text": [
      "Filtering with median model C:\\sidevideos\\ar37motor\\2023_02_22\\110EYE.avi\n",
      "Saving filtered csv poses!\n",
      "Using snapshot-500000 for model \\\\dk-server.dk.ucsd.edu\\afassihizakeri\\DLC\\\\Eye 482_EPL-Arash-2022-05-24\\dlc-models\\iteration-0\\Eye 482_EPLMay24-trainset95shuffle3\n"
     ]
    },
    {
     "name": "stderr",
     "output_type": "stream",
     "text": [
      "c:\\Users\\dklab\\miniconda3\\envs\\DEEPLABCUT\\lib\\site-packages\\tensorflow\\python\\keras\\engine\\base_layer_v1.py:1694: UserWarning: `layer.apply` is deprecated and will be removed in a future version. Please use `layer.__call__` method instead.\n",
      "  warnings.warn('`layer.apply` is deprecated and '\n"
     ]
    },
    {
     "name": "stdout",
     "output_type": "stream",
     "text": [
      "Starting to analyze %  C:\\sidevideos\\ar37motor\\2023_02_22\\111EYE.avi\n",
      "Loading  C:\\sidevideos\\ar37motor\\2023_02_22\\111EYE.avi\n",
      "Duration of video [s]:  7.4 , recorded with  40.0 fps!\n",
      "Overall # of frames:  296  found with (before cropping) frame dimensions:  200 200\n",
      "Starting to extract posture\n"
     ]
    },
    {
     "name": "stderr",
     "output_type": "stream",
     "text": [
      " 98%|█████████▊| 290/296 [00:01<00:00, 211.67it/s]\n"
     ]
    },
    {
     "name": "stdout",
     "output_type": "stream",
     "text": [
      "Saving results in C:\\sidevideos\\ar37motor\\2023_02_22...\n",
      "Saving csv poses!\n",
      "The videos are analyzed. Now your research can truly start! \n",
      " You can create labeled videos with 'create_labeled_video'\n",
      "If the tracking is not satisfactory for some videos, consider expanding the training set. You can use the function 'extract_outlier_frames' to extract a few representative outlier frames.\n"
     ]
    },
    {
     "name": "stderr",
     "output_type": "stream",
     "text": [
      "processing videos:   7%|▋         | 14/195 [01:59<23:57,  7.94s/it]"
     ]
    },
    {
     "name": "stdout",
     "output_type": "stream",
     "text": [
      "Filtering with median model C:\\sidevideos\\ar37motor\\2023_02_22\\111EYE.avi\n",
      "Saving filtered csv poses!\n"
     ]
    },
    {
     "name": "stderr",
     "output_type": "stream",
     "text": [
      "c:\\Users\\dklab\\miniconda3\\envs\\DEEPLABCUT\\lib\\site-packages\\tensorflow\\python\\keras\\engine\\base_layer_v1.py:1694: UserWarning: `layer.apply` is deprecated and will be removed in a future version. Please use `layer.__call__` method instead.\n",
      "  warnings.warn('`layer.apply` is deprecated and '\n"
     ]
    },
    {
     "name": "stdout",
     "output_type": "stream",
     "text": [
      "Using snapshot-500000 for model \\\\dk-server.dk.ucsd.edu\\afassihizakeri\\DLC\\\\Eye 482_EPL-Arash-2022-05-24\\dlc-models\\iteration-0\\Eye 482_EPLMay24-trainset95shuffle3\n",
      "Starting to analyze %  C:\\sidevideos\\ar37motor\\2023_02_22\\112EYE.avi\n",
      "Loading  C:\\sidevideos\\ar37motor\\2023_02_22\\112EYE.avi\n",
      "Duration of video [s]:  7.5 , recorded with  40.0 fps!\n",
      "Overall # of frames:  300  found with (before cropping) frame dimensions:  200 200\n",
      "Starting to extract posture\n"
     ]
    },
    {
     "name": "stderr",
     "output_type": "stream",
     "text": [
      "100%|██████████| 300/300 [00:01<00:00, 208.02it/s]\n"
     ]
    },
    {
     "name": "stdout",
     "output_type": "stream",
     "text": [
      "Saving results in C:\\sidevideos\\ar37motor\\2023_02_22...\n",
      "Saving csv poses!\n",
      "The videos are analyzed. Now your research can truly start! \n",
      " You can create labeled videos with 'create_labeled_video'\n",
      "If the tracking is not satisfactory for some videos, consider expanding the training set. You can use the function 'extract_outlier_frames' to extract a few representative outlier frames.\n",
      "Filtering with median model C:\\sidevideos\\ar37motor\\2023_02_22\\112EYE.avi\n"
     ]
    },
    {
     "name": "stderr",
     "output_type": "stream",
     "text": [
      "processing videos:   8%|▊         | 15/195 [02:07<23:38,  7.88s/it]"
     ]
    },
    {
     "name": "stdout",
     "output_type": "stream",
     "text": [
      "Saving filtered csv poses!\n",
      "Using snapshot-500000 for model \\\\dk-server.dk.ucsd.edu\\afassihizakeri\\DLC\\\\Eye 482_EPL-Arash-2022-05-24\\dlc-models\\iteration-0\\Eye 482_EPLMay24-trainset95shuffle3\n"
     ]
    },
    {
     "name": "stderr",
     "output_type": "stream",
     "text": [
      "c:\\Users\\dklab\\miniconda3\\envs\\DEEPLABCUT\\lib\\site-packages\\tensorflow\\python\\keras\\engine\\base_layer_v1.py:1694: UserWarning: `layer.apply` is deprecated and will be removed in a future version. Please use `layer.__call__` method instead.\n",
      "  warnings.warn('`layer.apply` is deprecated and '\n"
     ]
    },
    {
     "name": "stdout",
     "output_type": "stream",
     "text": [
      "Starting to analyze %  C:\\sidevideos\\ar37motor\\2023_02_22\\113EYE.avi\n",
      "Loading  C:\\sidevideos\\ar37motor\\2023_02_22\\113EYE.avi\n",
      "Duration of video [s]:  7.5 , recorded with  40.0 fps!\n",
      "Overall # of frames:  300  found with (before cropping) frame dimensions:  200 200\n",
      "Starting to extract posture\n"
     ]
    },
    {
     "name": "stderr",
     "output_type": "stream",
     "text": [
      "100%|██████████| 300/300 [00:01<00:00, 178.94it/s]\n"
     ]
    },
    {
     "name": "stdout",
     "output_type": "stream",
     "text": [
      "Saving results in C:\\sidevideos\\ar37motor\\2023_02_22...\n",
      "Saving csv poses!\n",
      "The videos are analyzed. Now your research can truly start! \n",
      " You can create labeled videos with 'create_labeled_video'\n",
      "If the tracking is not satisfactory for some videos, consider expanding the training set. You can use the function 'extract_outlier_frames' to extract a few representative outlier frames.\n"
     ]
    },
    {
     "name": "stderr",
     "output_type": "stream",
     "text": [
      "processing videos:   8%|▊         | 16/195 [02:15<23:49,  7.98s/it]"
     ]
    },
    {
     "name": "stdout",
     "output_type": "stream",
     "text": [
      "Filtering with median model C:\\sidevideos\\ar37motor\\2023_02_22\\113EYE.avi\n",
      "Saving filtered csv poses!\n",
      "Using snapshot-500000 for model \\\\dk-server.dk.ucsd.edu\\afassihizakeri\\DLC\\\\Eye 482_EPL-Arash-2022-05-24\\dlc-models\\iteration-0\\Eye 482_EPLMay24-trainset95shuffle3\n"
     ]
    },
    {
     "name": "stderr",
     "output_type": "stream",
     "text": [
      "c:\\Users\\dklab\\miniconda3\\envs\\DEEPLABCUT\\lib\\site-packages\\tensorflow\\python\\keras\\engine\\base_layer_v1.py:1694: UserWarning: `layer.apply` is deprecated and will be removed in a future version. Please use `layer.__call__` method instead.\n",
      "  warnings.warn('`layer.apply` is deprecated and '\n"
     ]
    },
    {
     "name": "stdout",
     "output_type": "stream",
     "text": [
      "Starting to analyze %  C:\\sidevideos\\ar37motor\\2023_02_22\\114EYE.avi\n",
      "Loading  C:\\sidevideos\\ar37motor\\2023_02_22\\114EYE.avi\n",
      "Duration of video [s]:  7.5 , recorded with  40.0 fps!\n",
      "Overall # of frames:  300  found with (before cropping) frame dimensions:  200 200\n",
      "Starting to extract posture\n"
     ]
    },
    {
     "name": "stderr",
     "output_type": "stream",
     "text": [
      "100%|██████████| 300/300 [00:01<00:00, 180.96it/s]\n"
     ]
    },
    {
     "name": "stdout",
     "output_type": "stream",
     "text": [
      "Saving results in C:\\sidevideos\\ar37motor\\2023_02_22...\n",
      "Saving csv poses!\n",
      "The videos are analyzed. Now your research can truly start! \n",
      " You can create labeled videos with 'create_labeled_video'\n",
      "If the tracking is not satisfactory for some videos, consider expanding the training set. You can use the function 'extract_outlier_frames' to extract a few representative outlier frames.\n"
     ]
    },
    {
     "name": "stderr",
     "output_type": "stream",
     "text": [
      "processing videos:   9%|▊         | 17/195 [02:23<23:28,  7.91s/it]"
     ]
    },
    {
     "name": "stdout",
     "output_type": "stream",
     "text": [
      "Filtering with median model C:\\sidevideos\\ar37motor\\2023_02_22\\114EYE.avi\n",
      "Saving filtered csv poses!\n",
      "Using snapshot-500000 for model \\\\dk-server.dk.ucsd.edu\\afassihizakeri\\DLC\\\\Eye 482_EPL-Arash-2022-05-24\\dlc-models\\iteration-0\\Eye 482_EPLMay24-trainset95shuffle3\n"
     ]
    },
    {
     "name": "stderr",
     "output_type": "stream",
     "text": [
      "c:\\Users\\dklab\\miniconda3\\envs\\DEEPLABCUT\\lib\\site-packages\\tensorflow\\python\\keras\\engine\\base_layer_v1.py:1694: UserWarning: `layer.apply` is deprecated and will be removed in a future version. Please use `layer.__call__` method instead.\n",
      "  warnings.warn('`layer.apply` is deprecated and '\n"
     ]
    },
    {
     "name": "stdout",
     "output_type": "stream",
     "text": [
      "Starting to analyze %  C:\\sidevideos\\ar37motor\\2023_02_22\\115EYE.avi\n",
      "Loading  C:\\sidevideos\\ar37motor\\2023_02_22\\115EYE.avi\n",
      "Duration of video [s]:  7.5 , recorded with  40.0 fps!\n",
      "Overall # of frames:  300  found with (before cropping) frame dimensions:  200 200\n",
      "Starting to extract posture\n"
     ]
    },
    {
     "name": "stderr",
     "output_type": "stream",
     "text": [
      "100%|██████████| 300/300 [00:01<00:00, 175.55it/s]\n"
     ]
    },
    {
     "name": "stdout",
     "output_type": "stream",
     "text": [
      "Saving results in C:\\sidevideos\\ar37motor\\2023_02_22...\n",
      "Saving csv poses!\n",
      "The videos are analyzed. Now your research can truly start! \n",
      " You can create labeled videos with 'create_labeled_video'\n",
      "If the tracking is not satisfactory for some videos, consider expanding the training set. You can use the function 'extract_outlier_frames' to extract a few representative outlier frames.\n"
     ]
    },
    {
     "name": "stderr",
     "output_type": "stream",
     "text": [
      "processing videos:   9%|▉         | 18/195 [02:31<23:35,  8.00s/it]"
     ]
    },
    {
     "name": "stdout",
     "output_type": "stream",
     "text": [
      "Filtering with median model C:\\sidevideos\\ar37motor\\2023_02_22\\115EYE.avi\n",
      "Saving filtered csv poses!\n"
     ]
    },
    {
     "name": "stderr",
     "output_type": "stream",
     "text": [
      "c:\\Users\\dklab\\miniconda3\\envs\\DEEPLABCUT\\lib\\site-packages\\tensorflow\\python\\keras\\engine\\base_layer_v1.py:1694: UserWarning: `layer.apply` is deprecated and will be removed in a future version. Please use `layer.__call__` method instead.\n",
      "  warnings.warn('`layer.apply` is deprecated and '\n"
     ]
    },
    {
     "name": "stdout",
     "output_type": "stream",
     "text": [
      "Using snapshot-500000 for model \\\\dk-server.dk.ucsd.edu\\afassihizakeri\\DLC\\\\Eye 482_EPL-Arash-2022-05-24\\dlc-models\\iteration-0\\Eye 482_EPLMay24-trainset95shuffle3\n",
      "Starting to analyze %  C:\\sidevideos\\ar37motor\\2023_02_22\\116EYE.avi\n",
      "Loading  C:\\sidevideos\\ar37motor\\2023_02_22\\116EYE.avi\n",
      "Duration of video [s]:  7.5 , recorded with  40.0 fps!\n",
      "Overall # of frames:  300  found with (before cropping) frame dimensions:  200 200\n",
      "Starting to extract posture\n"
     ]
    },
    {
     "name": "stderr",
     "output_type": "stream",
     "text": [
      "100%|██████████| 300/300 [00:01<00:00, 174.29it/s]\n"
     ]
    },
    {
     "name": "stdout",
     "output_type": "stream",
     "text": [
      "Saving results in C:\\sidevideos\\ar37motor\\2023_02_22...\n",
      "Saving csv poses!\n",
      "The videos are analyzed. Now your research can truly start! \n",
      " You can create labeled videos with 'create_labeled_video'\n",
      "If the tracking is not satisfactory for some videos, consider expanding the training set. You can use the function 'extract_outlier_frames' to extract a few representative outlier frames.\n"
     ]
    },
    {
     "name": "stderr",
     "output_type": "stream",
     "text": [
      "processing videos:  10%|▉         | 19/195 [02:39<23:11,  7.91s/it]"
     ]
    },
    {
     "name": "stdout",
     "output_type": "stream",
     "text": [
      "Filtering with median model C:\\sidevideos\\ar37motor\\2023_02_22\\116EYE.avi\n",
      "Saving filtered csv poses!\n"
     ]
    },
    {
     "name": "stderr",
     "output_type": "stream",
     "text": [
      "c:\\Users\\dklab\\miniconda3\\envs\\DEEPLABCUT\\lib\\site-packages\\tensorflow\\python\\keras\\engine\\base_layer_v1.py:1694: UserWarning: `layer.apply` is deprecated and will be removed in a future version. Please use `layer.__call__` method instead.\n",
      "  warnings.warn('`layer.apply` is deprecated and '\n"
     ]
    },
    {
     "name": "stdout",
     "output_type": "stream",
     "text": [
      "Using snapshot-500000 for model \\\\dk-server.dk.ucsd.edu\\afassihizakeri\\DLC\\\\Eye 482_EPL-Arash-2022-05-24\\dlc-models\\iteration-0\\Eye 482_EPLMay24-trainset95shuffle3\n",
      "Starting to analyze %  C:\\sidevideos\\ar37motor\\2023_02_22\\117EYE.avi\n",
      "Loading  C:\\sidevideos\\ar37motor\\2023_02_22\\117EYE.avi\n",
      "Duration of video [s]:  7.5 , recorded with  40.0 fps!\n",
      "Overall # of frames:  300  found with (before cropping) frame dimensions:  200 200\n",
      "Starting to extract posture\n"
     ]
    },
    {
     "name": "stderr",
     "output_type": "stream",
     "text": [
      "100%|██████████| 300/300 [00:01<00:00, 212.09it/s]\n"
     ]
    },
    {
     "name": "stdout",
     "output_type": "stream",
     "text": [
      "Saving results in C:\\sidevideos\\ar37motor\\2023_02_22...\n",
      "Saving csv poses!\n",
      "The videos are analyzed. Now your research can truly start! \n",
      " You can create labeled videos with 'create_labeled_video'\n",
      "If the tracking is not satisfactory for some videos, consider expanding the training set. You can use the function 'extract_outlier_frames' to extract a few representative outlier frames.\n"
     ]
    },
    {
     "name": "stderr",
     "output_type": "stream",
     "text": [
      "processing videos:  10%|█         | 20/195 [02:47<23:09,  7.94s/it]"
     ]
    },
    {
     "name": "stdout",
     "output_type": "stream",
     "text": [
      "Filtering with median model C:\\sidevideos\\ar37motor\\2023_02_22\\117EYE.avi\n",
      "Saving filtered csv poses!\n",
      "Using snapshot-500000 for model \\\\dk-server.dk.ucsd.edu\\afassihizakeri\\DLC\\\\Eye 482_EPL-Arash-2022-05-24\\dlc-models\\iteration-0\\Eye 482_EPLMay24-trainset95shuffle3\n"
     ]
    },
    {
     "name": "stderr",
     "output_type": "stream",
     "text": [
      "c:\\Users\\dklab\\miniconda3\\envs\\DEEPLABCUT\\lib\\site-packages\\tensorflow\\python\\keras\\engine\\base_layer_v1.py:1694: UserWarning: `layer.apply` is deprecated and will be removed in a future version. Please use `layer.__call__` method instead.\n",
      "  warnings.warn('`layer.apply` is deprecated and '\n"
     ]
    },
    {
     "name": "stdout",
     "output_type": "stream",
     "text": [
      "Starting to analyze %  C:\\sidevideos\\ar37motor\\2023_02_22\\118EYE.avi\n",
      "Loading  C:\\sidevideos\\ar37motor\\2023_02_22\\118EYE.avi\n",
      "Duration of video [s]:  7.5 , recorded with  40.0 fps!\n",
      "Overall # of frames:  300  found with (before cropping) frame dimensions:  200 200\n",
      "Starting to extract posture\n"
     ]
    },
    {
     "name": "stderr",
     "output_type": "stream",
     "text": [
      "100%|██████████| 300/300 [00:01<00:00, 189.35it/s]\n"
     ]
    },
    {
     "name": "stdout",
     "output_type": "stream",
     "text": [
      "Saving results in C:\\sidevideos\\ar37motor\\2023_02_22...\n",
      "Saving csv poses!\n",
      "The videos are analyzed. Now your research can truly start! \n",
      " You can create labeled videos with 'create_labeled_video'\n",
      "If the tracking is not satisfactory for some videos, consider expanding the training set. You can use the function 'extract_outlier_frames' to extract a few representative outlier frames.\n"
     ]
    },
    {
     "name": "stderr",
     "output_type": "stream",
     "text": [
      "processing videos:  11%|█         | 21/195 [02:55<22:57,  7.92s/it]"
     ]
    },
    {
     "name": "stdout",
     "output_type": "stream",
     "text": [
      "Filtering with median model C:\\sidevideos\\ar37motor\\2023_02_22\\118EYE.avi\n",
      "Saving filtered csv poses!\n"
     ]
    },
    {
     "name": "stderr",
     "output_type": "stream",
     "text": [
      "c:\\Users\\dklab\\miniconda3\\envs\\DEEPLABCUT\\lib\\site-packages\\tensorflow\\python\\keras\\engine\\base_layer_v1.py:1694: UserWarning: `layer.apply` is deprecated and will be removed in a future version. Please use `layer.__call__` method instead.\n",
      "  warnings.warn('`layer.apply` is deprecated and '\n"
     ]
    },
    {
     "name": "stdout",
     "output_type": "stream",
     "text": [
      "Using snapshot-500000 for model \\\\dk-server.dk.ucsd.edu\\afassihizakeri\\DLC\\\\Eye 482_EPL-Arash-2022-05-24\\dlc-models\\iteration-0\\Eye 482_EPLMay24-trainset95shuffle3\n",
      "Starting to analyze %  C:\\sidevideos\\ar37motor\\2023_02_22\\119EYE.avi\n",
      "Loading  C:\\sidevideos\\ar37motor\\2023_02_22\\119EYE.avi\n",
      "Duration of video [s]:  7.5 , recorded with  40.0 fps!\n",
      "Overall # of frames:  300  found with (before cropping) frame dimensions:  200 200\n",
      "Starting to extract posture\n"
     ]
    },
    {
     "name": "stderr",
     "output_type": "stream",
     "text": [
      "100%|██████████| 300/300 [00:01<00:00, 177.95it/s]\n"
     ]
    },
    {
     "name": "stdout",
     "output_type": "stream",
     "text": [
      "Saving results in C:\\sidevideos\\ar37motor\\2023_02_22...\n",
      "Saving csv poses!\n",
      "The videos are analyzed. Now your research can truly start! \n",
      " You can create labeled videos with 'create_labeled_video'\n",
      "If the tracking is not satisfactory for some videos, consider expanding the training set. You can use the function 'extract_outlier_frames' to extract a few representative outlier frames.\n"
     ]
    },
    {
     "name": "stderr",
     "output_type": "stream",
     "text": [
      "processing videos:  11%|█▏        | 22/195 [03:02<22:33,  7.82s/it]"
     ]
    },
    {
     "name": "stdout",
     "output_type": "stream",
     "text": [
      "Filtering with median model C:\\sidevideos\\ar37motor\\2023_02_22\\119EYE.avi\n",
      "Saving filtered csv poses!\n"
     ]
    },
    {
     "name": "stderr",
     "output_type": "stream",
     "text": [
      "c:\\Users\\dklab\\miniconda3\\envs\\DEEPLABCUT\\lib\\site-packages\\tensorflow\\python\\keras\\engine\\base_layer_v1.py:1694: UserWarning: `layer.apply` is deprecated and will be removed in a future version. Please use `layer.__call__` method instead.\n",
      "  warnings.warn('`layer.apply` is deprecated and '\n"
     ]
    },
    {
     "name": "stdout",
     "output_type": "stream",
     "text": [
      "Using snapshot-500000 for model \\\\dk-server.dk.ucsd.edu\\afassihizakeri\\DLC\\\\Eye 482_EPL-Arash-2022-05-24\\dlc-models\\iteration-0\\Eye 482_EPLMay24-trainset95shuffle3\n",
      "Starting to analyze %  C:\\sidevideos\\ar37motor\\2023_02_22\\11EYE.avi\n",
      "Loading  C:\\sidevideos\\ar37motor\\2023_02_22\\11EYE.avi\n",
      "Duration of video [s]:  7.5 , recorded with  40.0 fps!\n",
      "Overall # of frames:  300  found with (before cropping) frame dimensions:  200 200\n",
      "Starting to extract posture\n"
     ]
    },
    {
     "name": "stderr",
     "output_type": "stream",
     "text": [
      "100%|██████████| 300/300 [00:01<00:00, 180.83it/s]\n"
     ]
    },
    {
     "name": "stdout",
     "output_type": "stream",
     "text": [
      "Saving results in C:\\sidevideos\\ar37motor\\2023_02_22...\n",
      "Saving csv poses!\n",
      "The videos are analyzed. Now your research can truly start! \n",
      " You can create labeled videos with 'create_labeled_video'\n",
      "If the tracking is not satisfactory for some videos, consider expanding the training set. You can use the function 'extract_outlier_frames' to extract a few representative outlier frames.\n"
     ]
    },
    {
     "name": "stderr",
     "output_type": "stream",
     "text": [
      "processing videos:  12%|█▏        | 23/195 [03:11<23:01,  8.03s/it]"
     ]
    },
    {
     "name": "stdout",
     "output_type": "stream",
     "text": [
      "Filtering with median model C:\\sidevideos\\ar37motor\\2023_02_22\\11EYE.avi\n",
      "Saving filtered csv poses!\n",
      "Using snapshot-500000 for model \\\\dk-server.dk.ucsd.edu\\afassihizakeri\\DLC\\\\Eye 482_EPL-Arash-2022-05-24\\dlc-models\\iteration-0\\Eye 482_EPLMay24-trainset95shuffle3\n"
     ]
    },
    {
     "name": "stderr",
     "output_type": "stream",
     "text": [
      "c:\\Users\\dklab\\miniconda3\\envs\\DEEPLABCUT\\lib\\site-packages\\tensorflow\\python\\keras\\engine\\base_layer_v1.py:1694: UserWarning: `layer.apply` is deprecated and will be removed in a future version. Please use `layer.__call__` method instead.\n",
      "  warnings.warn('`layer.apply` is deprecated and '\n"
     ]
    },
    {
     "name": "stdout",
     "output_type": "stream",
     "text": [
      "Starting to analyze %  C:\\sidevideos\\ar37motor\\2023_02_22\\120EYE.avi\n",
      "Loading  C:\\sidevideos\\ar37motor\\2023_02_22\\120EYE.avi\n",
      "Duration of video [s]:  7.5 , recorded with  40.0 fps!\n",
      "Overall # of frames:  300  found with (before cropping) frame dimensions:  200 200\n",
      "Starting to extract posture\n"
     ]
    },
    {
     "name": "stderr",
     "output_type": "stream",
     "text": [
      "100%|██████████| 300/300 [00:01<00:00, 199.21it/s]\n"
     ]
    },
    {
     "name": "stdout",
     "output_type": "stream",
     "text": [
      "Saving results in C:\\sidevideos\\ar37motor\\2023_02_22...\n",
      "Saving csv poses!\n",
      "The videos are analyzed. Now your research can truly start! \n",
      " You can create labeled videos with 'create_labeled_video'\n",
      "If the tracking is not satisfactory for some videos, consider expanding the training set. You can use the function 'extract_outlier_frames' to extract a few representative outlier frames.\n"
     ]
    },
    {
     "name": "stderr",
     "output_type": "stream",
     "text": [
      "processing videos:  12%|█▏        | 24/195 [03:19<22:42,  7.97s/it]"
     ]
    },
    {
     "name": "stdout",
     "output_type": "stream",
     "text": [
      "Filtering with median model C:\\sidevideos\\ar37motor\\2023_02_22\\120EYE.avi\n",
      "Saving filtered csv poses!\n"
     ]
    },
    {
     "name": "stderr",
     "output_type": "stream",
     "text": [
      "c:\\Users\\dklab\\miniconda3\\envs\\DEEPLABCUT\\lib\\site-packages\\tensorflow\\python\\keras\\engine\\base_layer_v1.py:1694: UserWarning: `layer.apply` is deprecated and will be removed in a future version. Please use `layer.__call__` method instead.\n",
      "  warnings.warn('`layer.apply` is deprecated and '\n"
     ]
    },
    {
     "name": "stdout",
     "output_type": "stream",
     "text": [
      "Using snapshot-500000 for model \\\\dk-server.dk.ucsd.edu\\afassihizakeri\\DLC\\\\Eye 482_EPL-Arash-2022-05-24\\dlc-models\\iteration-0\\Eye 482_EPLMay24-trainset95shuffle3\n",
      "Starting to analyze %  C:\\sidevideos\\ar37motor\\2023_02_22\\121EYE.avi\n",
      "Loading  C:\\sidevideos\\ar37motor\\2023_02_22\\121EYE.avi\n",
      "Duration of video [s]:  7.5 , recorded with  40.0 fps!\n",
      "Overall # of frames:  300  found with (before cropping) frame dimensions:  200 200\n",
      "Starting to extract posture\n"
     ]
    },
    {
     "name": "stderr",
     "output_type": "stream",
     "text": [
      "100%|██████████| 300/300 [00:01<00:00, 197.25it/s]\n"
     ]
    },
    {
     "name": "stdout",
     "output_type": "stream",
     "text": [
      "Saving results in C:\\sidevideos\\ar37motor\\2023_02_22...\n",
      "Saving csv poses!\n",
      "The videos are analyzed. Now your research can truly start! \n",
      " You can create labeled videos with 'create_labeled_video'\n",
      "If the tracking is not satisfactory for some videos, consider expanding the training set. You can use the function 'extract_outlier_frames' to extract a few representative outlier frames.\n",
      "Filtering with median model C:\\sidevideos\\ar37motor\\2023_02_22\\121EYE.avi\n"
     ]
    },
    {
     "name": "stderr",
     "output_type": "stream",
     "text": [
      "processing videos:  13%|█▎        | 25/195 [03:26<22:25,  7.91s/it]"
     ]
    },
    {
     "name": "stdout",
     "output_type": "stream",
     "text": [
      "Saving filtered csv poses!\n",
      "Using snapshot-500000 for model \\\\dk-server.dk.ucsd.edu\\afassihizakeri\\DLC\\\\Eye 482_EPL-Arash-2022-05-24\\dlc-models\\iteration-0\\Eye 482_EPLMay24-trainset95shuffle3\n"
     ]
    },
    {
     "name": "stderr",
     "output_type": "stream",
     "text": [
      "c:\\Users\\dklab\\miniconda3\\envs\\DEEPLABCUT\\lib\\site-packages\\tensorflow\\python\\keras\\engine\\base_layer_v1.py:1694: UserWarning: `layer.apply` is deprecated and will be removed in a future version. Please use `layer.__call__` method instead.\n",
      "  warnings.warn('`layer.apply` is deprecated and '\n"
     ]
    },
    {
     "name": "stdout",
     "output_type": "stream",
     "text": [
      "Starting to analyze %  C:\\sidevideos\\ar37motor\\2023_02_22\\122EYE.avi\n",
      "Loading  C:\\sidevideos\\ar37motor\\2023_02_22\\122EYE.avi\n",
      "Duration of video [s]:  7.5 , recorded with  40.0 fps!\n",
      "Overall # of frames:  300  found with (before cropping) frame dimensions:  200 200\n",
      "Starting to extract posture\n"
     ]
    },
    {
     "name": "stderr",
     "output_type": "stream",
     "text": [
      "100%|██████████| 300/300 [00:01<00:00, 189.45it/s]\n"
     ]
    },
    {
     "name": "stdout",
     "output_type": "stream",
     "text": [
      "Saving results in C:\\sidevideos\\ar37motor\\2023_02_22...\n",
      "Saving csv poses!\n",
      "The videos are analyzed. Now your research can truly start! \n",
      " You can create labeled videos with 'create_labeled_video'\n",
      "If the tracking is not satisfactory for some videos, consider expanding the training set. You can use the function 'extract_outlier_frames' to extract a few representative outlier frames.\n",
      "Filtering with median model C:\\sidevideos\\ar37motor\\2023_02_22\\122EYE.avi\n"
     ]
    },
    {
     "name": "stderr",
     "output_type": "stream",
     "text": [
      "processing videos:  13%|█▎        | 26/195 [03:34<22:12,  7.88s/it]"
     ]
    },
    {
     "name": "stdout",
     "output_type": "stream",
     "text": [
      "Saving filtered csv poses!\n",
      "Using snapshot-500000 for model \\\\dk-server.dk.ucsd.edu\\afassihizakeri\\DLC\\\\Eye 482_EPL-Arash-2022-05-24\\dlc-models\\iteration-0\\Eye 482_EPLMay24-trainset95shuffle3\n"
     ]
    },
    {
     "name": "stderr",
     "output_type": "stream",
     "text": [
      "c:\\Users\\dklab\\miniconda3\\envs\\DEEPLABCUT\\lib\\site-packages\\tensorflow\\python\\keras\\engine\\base_layer_v1.py:1694: UserWarning: `layer.apply` is deprecated and will be removed in a future version. Please use `layer.__call__` method instead.\n",
      "  warnings.warn('`layer.apply` is deprecated and '\n"
     ]
    },
    {
     "name": "stdout",
     "output_type": "stream",
     "text": [
      "Starting to analyze %  C:\\sidevideos\\ar37motor\\2023_02_22\\123EYE.avi\n",
      "Loading  C:\\sidevideos\\ar37motor\\2023_02_22\\123EYE.avi\n",
      "Duration of video [s]:  7.5 , recorded with  40.0 fps!\n",
      "Overall # of frames:  300  found with (before cropping) frame dimensions:  200 200\n",
      "Starting to extract posture\n"
     ]
    },
    {
     "name": "stderr",
     "output_type": "stream",
     "text": [
      "100%|██████████| 300/300 [00:01<00:00, 169.82it/s]\n"
     ]
    },
    {
     "name": "stdout",
     "output_type": "stream",
     "text": [
      "Saving results in C:\\sidevideos\\ar37motor\\2023_02_22...\n",
      "Saving csv poses!\n",
      "The videos are analyzed. Now your research can truly start! \n",
      " You can create labeled videos with 'create_labeled_video'\n",
      "If the tracking is not satisfactory for some videos, consider expanding the training set. You can use the function 'extract_outlier_frames' to extract a few representative outlier frames.\n"
     ]
    },
    {
     "name": "stderr",
     "output_type": "stream",
     "text": [
      "processing videos:  14%|█▍        | 27/195 [03:42<22:15,  7.95s/it]"
     ]
    },
    {
     "name": "stdout",
     "output_type": "stream",
     "text": [
      "Filtering with median model C:\\sidevideos\\ar37motor\\2023_02_22\\123EYE.avi\n",
      "Saving filtered csv poses!\n"
     ]
    },
    {
     "name": "stderr",
     "output_type": "stream",
     "text": [
      "c:\\Users\\dklab\\miniconda3\\envs\\DEEPLABCUT\\lib\\site-packages\\tensorflow\\python\\keras\\engine\\base_layer_v1.py:1694: UserWarning: `layer.apply` is deprecated and will be removed in a future version. Please use `layer.__call__` method instead.\n",
      "  warnings.warn('`layer.apply` is deprecated and '\n"
     ]
    },
    {
     "name": "stdout",
     "output_type": "stream",
     "text": [
      "Using snapshot-500000 for model \\\\dk-server.dk.ucsd.edu\\afassihizakeri\\DLC\\\\Eye 482_EPL-Arash-2022-05-24\\dlc-models\\iteration-0\\Eye 482_EPLMay24-trainset95shuffle3\n",
      "Starting to analyze %  C:\\sidevideos\\ar37motor\\2023_02_22\\124EYE.avi\n",
      "Loading  C:\\sidevideos\\ar37motor\\2023_02_22\\124EYE.avi\n",
      "Duration of video [s]:  7.5 , recorded with  40.0 fps!\n",
      "Overall # of frames:  300  found with (before cropping) frame dimensions:  200 200\n",
      "Starting to extract posture\n"
     ]
    },
    {
     "name": "stderr",
     "output_type": "stream",
     "text": [
      "100%|██████████| 300/300 [00:01<00:00, 197.72it/s]\n",
      "processing videos:  14%|█▍        | 27/195 [03:50<23:54,  8.54s/it]\n"
     ]
    },
    {
     "name": "stdout",
     "output_type": "stream",
     "text": [
      "Saving results in C:\\sidevideos\\ar37motor\\2023_02_22...\n",
      "Saving csv poses!\n",
      "The videos are analyzed. Now your research can truly start! \n",
      " You can create labeled videos with 'create_labeled_video'\n",
      "If the tracking is not satisfactory for some videos, consider expanding the training set. You can use the function 'extract_outlier_frames' to extract a few representative outlier frames.\n"
     ]
    },
    {
     "ename": "NameError",
     "evalue": "name 'path' is not defined",
     "output_type": "error",
     "traceback": [
      "\u001b[1;31m---------------------------------------------------------------------------\u001b[0m",
      "\u001b[1;31mAttributeError\u001b[0m                            Traceback (most recent call last)",
      "File \u001b[1;32mc:\\Users\\dklab\\DeepWhiskerCuts\\pipeline.py:64\u001b[0m, in \u001b[0;36mrun_dlc_with_error_handling\u001b[1;34m(videos, deeplabcut_function)\u001b[0m\n\u001b[0;32m     63\u001b[0m \u001b[39mtry\u001b[39;00m:\n\u001b[1;32m---> 64\u001b[0m     deeplabcut_function(video)\n\u001b[0;32m     65\u001b[0m \u001b[39mexcept\u001b[39;00m \u001b[39mBaseException\u001b[39;00m \u001b[39mas\u001b[39;00m ex:\n",
      "File \u001b[1;32mc:\\Users\\dklab\\DeepWhiskerCuts\\pipeline.py:36\u001b[0m, in \u001b[0;36manalyze_eye_video.<locals>.deeplabcut_function\u001b[1;34m(video)\u001b[0m\n\u001b[0;32m     35\u001b[0m deeplabcut\u001b[39m.\u001b[39manalyze_videos(this_computer[\u001b[39m'\u001b[39m\u001b[39meye_config\u001b[39m\u001b[39m'\u001b[39m],[video],shuffle\u001b[39m=\u001b[39m\u001b[39m3\u001b[39m, save_as_csv\u001b[39m=\u001b[39m\u001b[39mTrue\u001b[39;00m )\n\u001b[1;32m---> 36\u001b[0m deeplabcut\u001b[39m.\u001b[39;49mfilterpredictions(this_computer[\u001b[39m'\u001b[39;49m\u001b[39meye_config\u001b[39;49m\u001b[39m'\u001b[39;49m],[video],shuffle\u001b[39m=\u001b[39;49m\u001b[39m3\u001b[39;49m)\n",
      "File \u001b[1;32mc:\\Users\\dklab\\miniconda3\\envs\\DEEPLABCUT\\lib\\site-packages\\deeplabcut\\post_processing\\filtering.py:193\u001b[0m, in \u001b[0;36mfilterpredictions\u001b[1;34m(config, video, videotype, shuffle, trainingsetindex, filtertype, windowlength, p_bound, ARdegree, MAdegree, alpha, save_as_csv, destfolder, modelprefix, track_method)\u001b[0m\n\u001b[0;32m    192\u001b[0m cfg \u001b[39m=\u001b[39m auxiliaryfunctions\u001b[39m.\u001b[39mread_config(config)\n\u001b[1;32m--> 193\u001b[0m track_method \u001b[39m=\u001b[39m auxfun_multianimal\u001b[39m.\u001b[39;49mget_track_method(cfg, track_method\u001b[39m=\u001b[39;49mtrack_method)\n\u001b[0;32m    195\u001b[0m DLCscorer, DLCscorerlegacy \u001b[39m=\u001b[39m auxiliaryfunctions\u001b[39m.\u001b[39mget_scorer_name(\n\u001b[0;32m    196\u001b[0m     cfg,\n\u001b[0;32m    197\u001b[0m     shuffle,\n\u001b[0;32m    198\u001b[0m     trainFraction\u001b[39m=\u001b[39mcfg[\u001b[39m\"\u001b[39m\u001b[39mTrainingFraction\u001b[39m\u001b[39m\"\u001b[39m][trainingsetindex],\n\u001b[0;32m    199\u001b[0m     modelprefix\u001b[39m=\u001b[39mmodelprefix,\n\u001b[0;32m    200\u001b[0m )\n",
      "File \u001b[1;32mc:\\Users\\dklab\\miniconda3\\envs\\DEEPLABCUT\\lib\\site-packages\\deeplabcut\\utils\\auxfun_multianimal.py:60\u001b[0m, in \u001b[0;36mget_track_method\u001b[1;34m(cfg, track_method)\u001b[0m\n\u001b[0;32m     59\u001b[0m \u001b[39mdef\u001b[39;00m \u001b[39mget_track_method\u001b[39m(cfg, track_method\u001b[39m=\u001b[39m\u001b[39m\"\u001b[39m\u001b[39m\"\u001b[39m):\n\u001b[1;32m---> 60\u001b[0m     \u001b[39mif\u001b[39;00m cfg\u001b[39m.\u001b[39;49mget(\u001b[39m\"\u001b[39m\u001b[39mmultianimalproject\u001b[39m\u001b[39m\"\u001b[39m, \u001b[39mFalse\u001b[39;00m):\n\u001b[0;32m     61\u001b[0m         \u001b[39mif\u001b[39;00m track_method \u001b[39m!=\u001b[39m \u001b[39m\"\u001b[39m\u001b[39m\"\u001b[39m:\n\u001b[0;32m     62\u001b[0m             \u001b[39m# check if it exists:\u001b[39;00m\n",
      "\u001b[1;31mAttributeError\u001b[0m: 'NoneType' object has no attribute 'get'",
      "\nDuring handling of the above exception, another exception occurred:\n",
      "\u001b[1;31mNameError\u001b[0m                                 Traceback (most recent call last)",
      "Cell \u001b[1;32mIn [2], line 4\u001b[0m\n\u001b[0;32m      2\u001b[0m \u001b[38;5;28mdir\u001b[39m \u001b[38;5;241m=\u001b[39m \u001b[38;5;124mr\u001b[39m\u001b[38;5;124m'\u001b[39m\u001b[38;5;124mC:\u001b[39m\u001b[38;5;124m\\\u001b[39m\u001b[38;5;124msidevideos\u001b[39m\u001b[38;5;124m\\\u001b[39m\u001b[38;5;124mar37motor\u001b[39m\u001b[38;5;124m\\\u001b[39m\u001b[38;5;124m2023_02_22\u001b[39m\u001b[38;5;124m'\u001b[39m\n\u001b[0;32m      3\u001b[0m \u001b[38;5;66;03m# extract_eye_videos(dir,'')\u001b[39;00m\n\u001b[1;32m----> 4\u001b[0m analyze_eye_video(\u001b[38;5;28mdir\u001b[39m)\n",
      "File \u001b[1;32mc:\\Users\\dklab\\DeepWhiskerCuts\\pipeline.py:37\u001b[0m, in \u001b[0;36manalyze_eye_video\u001b[1;34m(data_path)\u001b[0m\n\u001b[0;32m     35\u001b[0m     deeplabcut\u001b[39m.\u001b[39manalyze_videos(this_computer[\u001b[39m'\u001b[39m\u001b[39meye_config\u001b[39m\u001b[39m'\u001b[39m],[video],shuffle\u001b[39m=\u001b[39m\u001b[39m3\u001b[39m, save_as_csv\u001b[39m=\u001b[39m\u001b[39mTrue\u001b[39;00m )\n\u001b[0;32m     36\u001b[0m     deeplabcut\u001b[39m.\u001b[39mfilterpredictions(this_computer[\u001b[39m'\u001b[39m\u001b[39meye_config\u001b[39m\u001b[39m'\u001b[39m],[video],shuffle\u001b[39m=\u001b[39m\u001b[39m3\u001b[39m)\n\u001b[1;32m---> 37\u001b[0m run_dlc_with_error_handling(eye_videos,deeplabcut_function)\n",
      "File \u001b[1;32mc:\\Users\\dklab\\DeepWhiskerCuts\\pipeline.py:66\u001b[0m, in \u001b[0;36mrun_dlc_with_error_handling\u001b[1;34m(videos, deeplabcut_function)\u001b[0m\n\u001b[0;32m     64\u001b[0m     deeplabcut_function(video)\n\u001b[0;32m     65\u001b[0m \u001b[39mexcept\u001b[39;00m \u001b[39mBaseException\u001b[39;00m \u001b[39mas\u001b[39;00m ex:\n\u001b[1;32m---> 66\u001b[0m     log_error(path,\u001b[39m'\u001b[39m\u001b[39mError during dlc for: \u001b[39m\u001b[39m'\u001b[39m\u001b[39m+\u001b[39mvideo,ex)\n",
      "\u001b[1;31mNameError\u001b[0m: name 'path' is not defined"
     ]
    }
   ],
   "source": [
    "# analyze_side_view_video(dir)\n",
    "dir = r'C:\\sidevideos\\ar37motor\\2023_02_22'\n",
    "# extract_eye_videos(dir,'')\n",
    "analyze_eye_video(dir)"
   ]
  },
  {
   "cell_type": "code",
   "execution_count": null,
   "metadata": {},
   "outputs": [
    {
     "ename": "NameError",
     "evalue": "name 'tqdm' is not defined",
     "output_type": "error",
     "traceback": [
      "\u001b[1;31m---------------------------------------------------------------------------\u001b[0m",
      "\u001b[1;31mNameError\u001b[0m                                 Traceback (most recent call last)",
      "\u001b[1;32mc:\\Users\\dklab\\DeepWhiskerCuts\\test.ipynb Cell 3\u001b[0m in \u001b[0;36m<module>\u001b[1;34m\u001b[0m\n\u001b[1;32m----> <a href='vscode-notebook-cell:/c%3A/Users/dklab/DeepWhiskerCuts/test.ipynb#X13sZmlsZQ%3D%3D?line=0'>1</a>\u001b[0m analyze_side_view_video(\u001b[39mdir\u001b[39;49m)\n\u001b[0;32m      <a href='vscode-notebook-cell:/c%3A/Users/dklab/DeepWhiskerCuts/test.ipynb#X13sZmlsZQ%3D%3D?line=1'>2</a>\u001b[0m extract_eye_videos(\u001b[39mdir\u001b[39m,\u001b[39m'\u001b[39m\u001b[39mDLC_resnet50_SideviewLeft_Feb2022Feb8shuffle1_271000\u001b[39m\u001b[39m'\u001b[39m)\n",
      "File \u001b[1;32mc:\\Users\\dklab\\DeepWhiskerCuts\\pipeline.py:28\u001b[0m, in \u001b[0;36manalyze_side_view_video\u001b[1;34m(data_path)\u001b[0m\n\u001b[0;32m     26\u001b[0m     deeplabcut\u001b[39m.\u001b[39manalyze_videos(this_computer[\u001b[39m'\u001b[39m\u001b[39mside_view_config\u001b[39m\u001b[39m'\u001b[39m],[video],shuffle\u001b[39m=\u001b[39m\u001b[39m2\u001b[39m, save_as_csv\u001b[39m=\u001b[39m\u001b[39mTrue\u001b[39;00m )\n\u001b[0;32m     27\u001b[0m     deeplabcut\u001b[39m.\u001b[39mfilterpredictions(this_computer[\u001b[39m'\u001b[39m\u001b[39mside_view_config\u001b[39m\u001b[39m'\u001b[39m],[video],shuffle\u001b[39m=\u001b[39m\u001b[39m2\u001b[39m, save_as_csv\u001b[39m=\u001b[39m\u001b[39mTrue\u001b[39;00m )\n\u001b[1;32m---> 28\u001b[0m run_dlc_with_error_handling(videos,deeplabcut_function)\n",
      "File \u001b[1;32mc:\\Users\\dklab\\DeepWhiskerCuts\\pipeline.py:59\u001b[0m, in \u001b[0;36mrun_dlc_with_error_handling\u001b[1;34m(videos, deeplabcut_function)\u001b[0m\n\u001b[0;32m     58\u001b[0m \u001b[39mdef\u001b[39;00m \u001b[39mrun_dlc_with_error_handling\u001b[39m(videos,deeplabcut_function):\n\u001b[1;32m---> 59\u001b[0m     \u001b[39mfor\u001b[39;00m videoi \u001b[39min\u001b[39;00m tqdm(\u001b[39mrange\u001b[39m(videos),\u001b[39m'\u001b[39m\u001b[39mprocessing videos\u001b[39m\u001b[39m'\u001b[39m): \n\u001b[0;32m     60\u001b[0m         video \u001b[39m=\u001b[39m videos[videoi]\n\u001b[0;32m     61\u001b[0m         \u001b[39mtry\u001b[39;00m:\n",
      "\u001b[1;31mNameError\u001b[0m: name 'tqdm' is not defined"
     ]
    }
   ],
   "source": [
    "manager.copy_full_resolution_videos(r'\\\\dk-server.dk.ucsd.edu\\afassihizakeri\\eyemovies\\Leftcam1')"
   ]
  },
  {
   "cell_type": "code",
   "execution_count": null,
   "metadata": {},
   "outputs": [],
   "source": []
  }
 ],
 "metadata": {
  "kernelspec": {
   "display_name": "Python 3.8.13 ('DEEPLABCUT')",
   "language": "python",
   "name": "python3"
  },
  "language_info": {
   "codemirror_mode": {
    "name": "ipython",
    "version": 3
   },
   "file_extension": ".py",
   "mimetype": "text/x-python",
   "name": "python",
   "nbconvert_exporter": "python",
   "pygments_lexer": "ipython3",
   "version": "3.8.13"
  },
  "orig_nbformat": 4,
  "vscode": {
   "interpreter": {
    "hash": "1cd4db8194cf9c99159e3f5770dbaeb2f3754a119aa331ee2d0b6b0362daf823"
   }
  }
 },
 "nbformat": 4,
 "nbformat_minor": 2
}
