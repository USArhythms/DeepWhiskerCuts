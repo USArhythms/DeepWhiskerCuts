{
 "cells": [
  {
   "cell_type": "code",
   "execution_count": null,
   "metadata": {},
   "outputs": [],
   "source": [
    "copy_eye_videos(self,destination):\n",
    "    videos = [i.get_files_containing_substring('EYE.avi')[0] for i in self.trials]"
   ]
  }
 ],
 "metadata": {
  "language_info": {
   "name": "python"
  },
  "orig_nbformat": 4
 },
 "nbformat": 4,
 "nbformat_minor": 2
}
